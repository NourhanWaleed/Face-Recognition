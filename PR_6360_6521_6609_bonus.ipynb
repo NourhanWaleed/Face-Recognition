{
  "cells": [
    {
      "cell_type": "code",
      "execution_count": null,
      "metadata": {
        "id": "4--1lKbohsjh"
      },
      "outputs": [],
      "source": [
        "import os\n",
        "import cv2\n",
        "from google.colab.patches import cv2_imshow\n",
        "import numpy as np\n",
        "from numpy import linalg as LA\n",
        "from sklearn.neighbors import KNeighborsClassifier\n",
        "from sklearn import metrics\n",
        "from sklearn.metrics import classification_report, confusion_matrix\n",
        "import matplotlib.pyplot as plt\n",
        "from random import sample\n",
        "import random\n",
        "from sklearn.model_selection import train_test_split\n"
      ]
    },
    {
      "cell_type": "markdown",
      "metadata": {
        "id": "c1eSdO_NCdZS"
      },
      "source": [
        "## 1. Download the Dataset and Understand the Format"
      ]
    },
    {
      "cell_type": "code",
      "execution_count": null,
      "metadata": {
        "colab": {
          "base_uri": "https://localhost:8080/",
          "height": 74,
          "resources": {
            "http://localhost:8080/nbextensions/google.colab/files.js": {
              "data": "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",
              "headers": [
                [
                  "content-type",
                  "application/javascript"
                ]
              ],
              "ok": true,
              "status": 200,
              "status_text": ""
            }
          }
        },
        "id": "yac6NfsqgWiZ",
        "outputId": "ee29ec0d-c058-498d-84cc-62f31c358748"
      },
      "outputs": [
        {
          "output_type": "display_data",
          "data": {
            "text/plain": [
              "<IPython.core.display.HTML object>"
            ],
            "text/html": [
              "\n",
              "     <input type=\"file\" id=\"files-fe4621f8-8341-4f8b-8ef9-ad7bbddf47ff\" name=\"files[]\" multiple disabled\n",
              "        style=\"border:none\" />\n",
              "     <output id=\"result-fe4621f8-8341-4f8b-8ef9-ad7bbddf47ff\">\n",
              "      Upload widget is only available when the cell has been executed in the\n",
              "      current browser session. Please rerun this cell to enable.\n",
              "      </output>\n",
              "      <script src=\"/nbextensions/google.colab/files.js\"></script> "
            ]
          },
          "metadata": {}
        },
        {
          "output_type": "stream",
          "name": "stdout",
          "text": [
            "Saving archive.zip to archive.zip\n"
          ]
        }
      ],
      "source": [
        "from google.colab import files\n",
        "uploaded = files.upload()"
      ]
    },
    {
      "cell_type": "code",
      "execution_count": null,
      "metadata": {
        "id": "UmdC_bmwgmhp",
        "colab": {
          "base_uri": "https://localhost:8080/"
        },
        "outputId": "f7976c4c-f01a-4ec1-ed1f-59b1ee5251da"
      },
      "outputs": [
        {
          "output_type": "stream",
          "name": "stdout",
          "text": [
            "Archive:  archive.zip\n",
            "  inflating: images/README           \n",
            "  inflating: images/s1/1.pgm         \n",
            "  inflating: images/s1/10.pgm        \n",
            "  inflating: images/s1/2.pgm         \n",
            "  inflating: images/s1/3.pgm         \n",
            "  inflating: images/s1/4.pgm         \n",
            "  inflating: images/s1/5.pgm         \n",
            "  inflating: images/s1/6.pgm         \n",
            "  inflating: images/s1/7.pgm         \n",
            "  inflating: images/s1/8.pgm         \n",
            "  inflating: images/s1/9.pgm         \n",
            "  inflating: images/s10/1.pgm        \n",
            "  inflating: images/s10/10.pgm       \n",
            "  inflating: images/s10/2.pgm        \n",
            "  inflating: images/s10/3.pgm        \n",
            "  inflating: images/s10/4.pgm        \n",
            "  inflating: images/s10/5.pgm        \n",
            "  inflating: images/s10/6.pgm        \n",
            "  inflating: images/s10/7.pgm        \n",
            "  inflating: images/s10/8.pgm        \n",
            "  inflating: images/s10/9.pgm        \n",
            "  inflating: images/s11/1.pgm        \n",
            "  inflating: images/s11/10.pgm       \n",
            "  inflating: images/s11/2.pgm        \n",
            "  inflating: images/s11/3.pgm        \n",
            "  inflating: images/s11/4.pgm        \n",
            "  inflating: images/s11/5.pgm        \n",
            "  inflating: images/s11/6.pgm        \n",
            "  inflating: images/s11/7.pgm        \n",
            "  inflating: images/s11/8.pgm        \n",
            "  inflating: images/s11/9.pgm        \n",
            "  inflating: images/s12/1.pgm        \n",
            "  inflating: images/s12/10.pgm       \n",
            "  inflating: images/s12/2.pgm        \n",
            "  inflating: images/s12/3.pgm        \n",
            "  inflating: images/s12/4.pgm        \n",
            "  inflating: images/s12/5.pgm        \n",
            "  inflating: images/s12/6.pgm        \n",
            "  inflating: images/s12/7.pgm        \n",
            "  inflating: images/s12/8.pgm        \n",
            "  inflating: images/s12/9.pgm        \n",
            "  inflating: images/s13/1.pgm        \n",
            "  inflating: images/s13/10.pgm       \n",
            "  inflating: images/s13/2.pgm        \n",
            "  inflating: images/s13/3.pgm        \n",
            "  inflating: images/s13/4.pgm        \n",
            "  inflating: images/s13/5.pgm        \n",
            "  inflating: images/s13/6.pgm        \n",
            "  inflating: images/s13/7.pgm        \n",
            "  inflating: images/s13/8.pgm        \n",
            "  inflating: images/s13/9.pgm        \n",
            "  inflating: images/s14/1.pgm        \n",
            "  inflating: images/s14/10.pgm       \n",
            "  inflating: images/s14/2.pgm        \n",
            "  inflating: images/s14/3.pgm        \n",
            "  inflating: images/s14/4.pgm        \n",
            "  inflating: images/s14/5.pgm        \n",
            "  inflating: images/s14/6.pgm        \n",
            "  inflating: images/s14/7.pgm        \n",
            "  inflating: images/s14/8.pgm        \n",
            "  inflating: images/s14/9.pgm        \n",
            "  inflating: images/s15/1.pgm        \n",
            "  inflating: images/s15/10.pgm       \n",
            "  inflating: images/s15/2.pgm        \n",
            "  inflating: images/s15/3.pgm        \n",
            "  inflating: images/s15/4.pgm        \n",
            "  inflating: images/s15/5.pgm        \n",
            "  inflating: images/s15/6.pgm        \n",
            "  inflating: images/s15/7.pgm        \n",
            "  inflating: images/s15/8.pgm        \n",
            "  inflating: images/s15/9.pgm        \n",
            "  inflating: images/s16/1.pgm        \n",
            "  inflating: images/s16/10.pgm       \n",
            "  inflating: images/s16/2.pgm        \n",
            "  inflating: images/s16/3.pgm        \n",
            "  inflating: images/s16/4.pgm        \n",
            "  inflating: images/s16/5.pgm        \n",
            "  inflating: images/s16/6.pgm        \n",
            "  inflating: images/s16/7.pgm        \n",
            "  inflating: images/s16/8.pgm        \n",
            "  inflating: images/s16/9.pgm        \n",
            "  inflating: images/s17/1.pgm        \n",
            "  inflating: images/s17/10.pgm       \n",
            "  inflating: images/s17/2.pgm        \n",
            "  inflating: images/s17/3.pgm        \n",
            "  inflating: images/s17/4.pgm        \n",
            "  inflating: images/s17/5.pgm        \n",
            "  inflating: images/s17/6.pgm        \n",
            "  inflating: images/s17/7.pgm        \n",
            "  inflating: images/s17/8.pgm        \n",
            "  inflating: images/s17/9.pgm        \n",
            "  inflating: images/s18/1.pgm        \n",
            "  inflating: images/s18/10.pgm       \n",
            "  inflating: images/s18/2.pgm        \n",
            "  inflating: images/s18/3.pgm        \n",
            "  inflating: images/s18/4.pgm        \n",
            "  inflating: images/s18/5.pgm        \n",
            "  inflating: images/s18/6.pgm        \n",
            "  inflating: images/s18/7.pgm        \n",
            "  inflating: images/s18/8.pgm        \n",
            "  inflating: images/s18/9.pgm        \n",
            "  inflating: images/s19/1.pgm        \n",
            "  inflating: images/s19/10.pgm       \n",
            "  inflating: images/s19/2.pgm        \n",
            "  inflating: images/s19/3.pgm        \n",
            "  inflating: images/s19/4.pgm        \n",
            "  inflating: images/s19/5.pgm        \n",
            "  inflating: images/s19/6.pgm        \n",
            "  inflating: images/s19/7.pgm        \n",
            "  inflating: images/s19/8.pgm        \n",
            "  inflating: images/s19/9.pgm        \n",
            "  inflating: images/s2/1.pgm         \n",
            "  inflating: images/s2/10.pgm        \n",
            "  inflating: images/s2/2.pgm         \n",
            "  inflating: images/s2/3.pgm         \n",
            "  inflating: images/s2/4.pgm         \n",
            "  inflating: images/s2/5.pgm         \n",
            "  inflating: images/s2/6.pgm         \n",
            "  inflating: images/s2/7.pgm         \n",
            "  inflating: images/s2/8.pgm         \n",
            "  inflating: images/s2/9.pgm         \n",
            "  inflating: images/s20/1.pgm        \n",
            "  inflating: images/s20/10.pgm       \n",
            "  inflating: images/s20/2.pgm        \n",
            "  inflating: images/s20/3.pgm        \n",
            "  inflating: images/s20/4.pgm        \n",
            "  inflating: images/s20/5.pgm        \n",
            "  inflating: images/s20/6.pgm        \n",
            "  inflating: images/s20/7.pgm        \n",
            "  inflating: images/s20/8.pgm        \n",
            "  inflating: images/s20/9.pgm        \n",
            "  inflating: images/s21/1.pgm        \n",
            "  inflating: images/s21/10.pgm       \n",
            "  inflating: images/s21/2.pgm        \n",
            "  inflating: images/s21/3.pgm        \n",
            "  inflating: images/s21/4.pgm        \n",
            "  inflating: images/s21/5.pgm        \n",
            "  inflating: images/s21/6.pgm        \n",
            "  inflating: images/s21/7.pgm        \n",
            "  inflating: images/s21/8.pgm        \n",
            "  inflating: images/s21/9.pgm        \n",
            "  inflating: images/s22/1.pgm        \n",
            "  inflating: images/s22/10.pgm       \n",
            "  inflating: images/s22/2.pgm        \n",
            "  inflating: images/s22/3.pgm        \n",
            "  inflating: images/s22/4.pgm        \n",
            "  inflating: images/s22/5.pgm        \n",
            "  inflating: images/s22/6.pgm        \n",
            "  inflating: images/s22/7.pgm        \n",
            "  inflating: images/s22/8.pgm        \n",
            "  inflating: images/s22/9.pgm        \n",
            "  inflating: images/s23/1.pgm        \n",
            "  inflating: images/s23/10.pgm       \n",
            "  inflating: images/s23/2.pgm        \n",
            "  inflating: images/s23/3.pgm        \n",
            "  inflating: images/s23/4.pgm        \n",
            "  inflating: images/s23/5.pgm        \n",
            "  inflating: images/s23/6.pgm        \n",
            "  inflating: images/s23/7.pgm        \n",
            "  inflating: images/s23/8.pgm        \n",
            "  inflating: images/s23/9.pgm        \n",
            "  inflating: images/s24/1.pgm        \n",
            "  inflating: images/s24/10.pgm       \n",
            "  inflating: images/s24/2.pgm        \n",
            "  inflating: images/s24/3.pgm        \n",
            "  inflating: images/s24/4.pgm        \n",
            "  inflating: images/s24/5.pgm        \n",
            "  inflating: images/s24/6.pgm        \n",
            "  inflating: images/s24/7.pgm        \n",
            "  inflating: images/s24/8.pgm        \n",
            "  inflating: images/s24/9.pgm        \n",
            "  inflating: images/s25/1.pgm        \n",
            "  inflating: images/s25/10.pgm       \n",
            "  inflating: images/s25/2.pgm        \n",
            "  inflating: images/s25/3.pgm        \n",
            "  inflating: images/s25/4.pgm        \n",
            "  inflating: images/s25/5.pgm        \n",
            "  inflating: images/s25/6.pgm        \n",
            "  inflating: images/s25/7.pgm        \n",
            "  inflating: images/s25/8.pgm        \n",
            "  inflating: images/s25/9.pgm        \n",
            "  inflating: images/s26/1.pgm        \n",
            "  inflating: images/s26/10.pgm       \n",
            "  inflating: images/s26/2.pgm        \n",
            "  inflating: images/s26/3.pgm        \n",
            "  inflating: images/s26/4.pgm        \n",
            "  inflating: images/s26/5.pgm        \n",
            "  inflating: images/s26/6.pgm        \n",
            "  inflating: images/s26/7.pgm        \n",
            "  inflating: images/s26/8.pgm        \n",
            "  inflating: images/s26/9.pgm        \n",
            "  inflating: images/s27/1.pgm        \n",
            "  inflating: images/s27/10.pgm       \n",
            "  inflating: images/s27/2.pgm        \n",
            "  inflating: images/s27/3.pgm        \n",
            "  inflating: images/s27/4.pgm        \n",
            "  inflating: images/s27/5.pgm        \n",
            "  inflating: images/s27/6.pgm        \n",
            "  inflating: images/s27/7.pgm        \n",
            "  inflating: images/s27/8.pgm        \n",
            "  inflating: images/s27/9.pgm        \n",
            "  inflating: images/s28/1.pgm        \n",
            "  inflating: images/s28/10.pgm       \n",
            "  inflating: images/s28/2.pgm        \n",
            "  inflating: images/s28/3.pgm        \n",
            "  inflating: images/s28/4.pgm        \n",
            "  inflating: images/s28/5.pgm        \n",
            "  inflating: images/s28/6.pgm        \n",
            "  inflating: images/s28/7.pgm        \n",
            "  inflating: images/s28/8.pgm        \n",
            "  inflating: images/s28/9.pgm        \n",
            "  inflating: images/s29/1.pgm        \n",
            "  inflating: images/s29/10.pgm       \n",
            "  inflating: images/s29/2.pgm        \n",
            "  inflating: images/s29/3.pgm        \n",
            "  inflating: images/s29/4.pgm        \n",
            "  inflating: images/s29/5.pgm        \n",
            "  inflating: images/s29/6.pgm        \n",
            "  inflating: images/s29/7.pgm        \n",
            "  inflating: images/s29/8.pgm        \n",
            "  inflating: images/s29/9.pgm        \n",
            "  inflating: images/s3/1.pgm         \n",
            "  inflating: images/s3/10.pgm        \n",
            "  inflating: images/s3/2.pgm         \n",
            "  inflating: images/s3/3.pgm         \n",
            "  inflating: images/s3/4.pgm         \n",
            "  inflating: images/s3/5.pgm         \n",
            "  inflating: images/s3/6.pgm         \n",
            "  inflating: images/s3/7.pgm         \n",
            "  inflating: images/s3/8.pgm         \n",
            "  inflating: images/s3/9.pgm         \n",
            "  inflating: images/s30/1.pgm        \n",
            "  inflating: images/s30/10.pgm       \n",
            "  inflating: images/s30/2.pgm        \n",
            "  inflating: images/s30/3.pgm        \n",
            "  inflating: images/s30/4.pgm        \n",
            "  inflating: images/s30/5.pgm        \n",
            "  inflating: images/s30/6.pgm        \n",
            "  inflating: images/s30/7.pgm        \n",
            "  inflating: images/s30/8.pgm        \n",
            "  inflating: images/s30/9.pgm        \n",
            "  inflating: images/s31/1.pgm        \n",
            "  inflating: images/s31/10.pgm       \n",
            "  inflating: images/s31/2.pgm        \n",
            "  inflating: images/s31/3.pgm        \n",
            "  inflating: images/s31/4.pgm        \n",
            "  inflating: images/s31/5.pgm        \n",
            "  inflating: images/s31/6.pgm        \n",
            "  inflating: images/s31/7.pgm        \n",
            "  inflating: images/s31/8.pgm        \n",
            "  inflating: images/s31/9.pgm        \n",
            "  inflating: images/s32/1.pgm        \n",
            "  inflating: images/s32/10.pgm       \n",
            "  inflating: images/s32/2.pgm        \n",
            "  inflating: images/s32/3.pgm        \n",
            "  inflating: images/s32/4.pgm        \n",
            "  inflating: images/s32/5.pgm        \n",
            "  inflating: images/s32/6.pgm        \n",
            "  inflating: images/s32/7.pgm        \n",
            "  inflating: images/s32/8.pgm        \n",
            "  inflating: images/s32/9.pgm        \n",
            "  inflating: images/s33/1.pgm        \n",
            "  inflating: images/s33/10.pgm       \n",
            "  inflating: images/s33/2.pgm        \n",
            "  inflating: images/s33/3.pgm        \n",
            "  inflating: images/s33/4.pgm        \n",
            "  inflating: images/s33/5.pgm        \n",
            "  inflating: images/s33/6.pgm        \n",
            "  inflating: images/s33/7.pgm        \n",
            "  inflating: images/s33/8.pgm        \n",
            "  inflating: images/s33/9.pgm        \n",
            "  inflating: images/s34/1.pgm        \n",
            "  inflating: images/s34/10.pgm       \n",
            "  inflating: images/s34/2.pgm        \n",
            "  inflating: images/s34/3.pgm        \n",
            "  inflating: images/s34/4.pgm        \n",
            "  inflating: images/s34/5.pgm        \n",
            "  inflating: images/s34/6.pgm        \n",
            "  inflating: images/s34/7.pgm        \n",
            "  inflating: images/s34/8.pgm        \n",
            "  inflating: images/s34/9.pgm        \n",
            "  inflating: images/s35/1.pgm        \n",
            "  inflating: images/s35/10.pgm       \n",
            "  inflating: images/s35/2.pgm        \n",
            "  inflating: images/s35/3.pgm        \n",
            "  inflating: images/s35/4.pgm        \n",
            "  inflating: images/s35/5.pgm        \n",
            "  inflating: images/s35/6.pgm        \n",
            "  inflating: images/s35/7.pgm        \n",
            "  inflating: images/s35/8.pgm        \n",
            "  inflating: images/s35/9.pgm        \n",
            "  inflating: images/s36/1.pgm        \n",
            "  inflating: images/s36/10.pgm       \n",
            "  inflating: images/s36/2.pgm        \n",
            "  inflating: images/s36/3.pgm        \n",
            "  inflating: images/s36/4.pgm        \n",
            "  inflating: images/s36/5.pgm        \n",
            "  inflating: images/s36/6.pgm        \n",
            "  inflating: images/s36/7.pgm        \n",
            "  inflating: images/s36/8.pgm        \n",
            "  inflating: images/s36/9.pgm        \n",
            "  inflating: images/s37/1.pgm        \n",
            "  inflating: images/s37/10.pgm       \n",
            "  inflating: images/s37/2.pgm        \n",
            "  inflating: images/s37/3.pgm        \n",
            "  inflating: images/s37/4.pgm        \n",
            "  inflating: images/s37/5.pgm        \n",
            "  inflating: images/s37/6.pgm        \n",
            "  inflating: images/s37/7.pgm        \n",
            "  inflating: images/s37/8.pgm        \n",
            "  inflating: images/s37/9.pgm        \n",
            "  inflating: images/s38/1.pgm        \n",
            "  inflating: images/s38/10.pgm       \n",
            "  inflating: images/s38/2.pgm        \n",
            "  inflating: images/s38/3.pgm        \n",
            "  inflating: images/s38/4.pgm        \n",
            "  inflating: images/s38/5.pgm        \n",
            "  inflating: images/s38/6.pgm        \n",
            "  inflating: images/s38/7.pgm        \n",
            "  inflating: images/s38/8.pgm        \n",
            "  inflating: images/s38/9.pgm        \n",
            "  inflating: images/s39/1.pgm        \n",
            "  inflating: images/s39/10.pgm       \n",
            "  inflating: images/s39/2.pgm        \n",
            "  inflating: images/s39/3.pgm        \n",
            "  inflating: images/s39/4.pgm        \n",
            "  inflating: images/s39/5.pgm        \n",
            "  inflating: images/s39/6.pgm        \n",
            "  inflating: images/s39/7.pgm        \n",
            "  inflating: images/s39/8.pgm        \n",
            "  inflating: images/s39/9.pgm        \n",
            "  inflating: images/s4/1.pgm         \n",
            "  inflating: images/s4/10.pgm        \n",
            "  inflating: images/s4/2.pgm         \n",
            "  inflating: images/s4/3.pgm         \n",
            "  inflating: images/s4/4.pgm         \n",
            "  inflating: images/s4/5.pgm         \n",
            "  inflating: images/s4/6.pgm         \n",
            "  inflating: images/s4/7.pgm         \n",
            "  inflating: images/s4/8.pgm         \n",
            "  inflating: images/s4/9.pgm         \n",
            "  inflating: images/s40/1.pgm        \n",
            "  inflating: images/s40/10.pgm       \n",
            "  inflating: images/s40/2.pgm        \n",
            "  inflating: images/s40/3.pgm        \n",
            "  inflating: images/s40/4.pgm        \n",
            "  inflating: images/s40/5.pgm        \n",
            "  inflating: images/s40/6.pgm        \n",
            "  inflating: images/s40/7.pgm        \n",
            "  inflating: images/s40/8.pgm        \n",
            "  inflating: images/s40/9.pgm        \n",
            "  inflating: images/s5/1.pgm         \n",
            "  inflating: images/s5/10.pgm        \n",
            "  inflating: images/s5/2.pgm         \n",
            "  inflating: images/s5/3.pgm         \n",
            "  inflating: images/s5/4.pgm         \n",
            "  inflating: images/s5/5.pgm         \n",
            "  inflating: images/s5/6.pgm         \n",
            "  inflating: images/s5/7.pgm         \n",
            "  inflating: images/s5/8.pgm         \n",
            "  inflating: images/s5/9.pgm         \n",
            "  inflating: images/s6/1.pgm         \n",
            "  inflating: images/s6/10.pgm        \n",
            "  inflating: images/s6/2.pgm         \n",
            "  inflating: images/s6/3.pgm         \n",
            "  inflating: images/s6/4.pgm         \n",
            "  inflating: images/s6/5.pgm         \n",
            "  inflating: images/s6/6.pgm         \n",
            "  inflating: images/s6/7.pgm         \n",
            "  inflating: images/s6/8.pgm         \n",
            "  inflating: images/s6/9.pgm         \n",
            "  inflating: images/s7/1.pgm         \n",
            "  inflating: images/s7/10.pgm        \n",
            "  inflating: images/s7/2.pgm         \n",
            "  inflating: images/s7/3.pgm         \n",
            "  inflating: images/s7/4.pgm         \n",
            "  inflating: images/s7/5.pgm         \n",
            "  inflating: images/s7/6.pgm         \n",
            "  inflating: images/s7/7.pgm         \n",
            "  inflating: images/s7/8.pgm         \n",
            "  inflating: images/s7/9.pgm         \n",
            "  inflating: images/s8/1.pgm         \n",
            "  inflating: images/s8/10.pgm        \n",
            "  inflating: images/s8/2.pgm         \n",
            "  inflating: images/s8/3.pgm         \n",
            "  inflating: images/s8/4.pgm         \n",
            "  inflating: images/s8/5.pgm         \n",
            "  inflating: images/s8/6.pgm         \n",
            "  inflating: images/s8/7.pgm         \n",
            "  inflating: images/s8/8.pgm         \n",
            "  inflating: images/s8/9.pgm         \n",
            "  inflating: images/s9/1.pgm         \n",
            "  inflating: images/s9/10.pgm        \n",
            "  inflating: images/s9/2.pgm         \n",
            "  inflating: images/s9/3.pgm         \n",
            "  inflating: images/s9/4.pgm         \n",
            "  inflating: images/s9/5.pgm         \n",
            "  inflating: images/s9/6.pgm         \n",
            "  inflating: images/s9/7.pgm         \n",
            "  inflating: images/s9/8.pgm         \n",
            "  inflating: images/s9/9.pgm         \n"
          ]
        }
      ],
      "source": [
        "!unzip archive.zip -d images/\n"
      ]
    },
    {
      "cell_type": "code",
      "execution_count": null,
      "metadata": {
        "id": "ExdcGm4ag2Ba",
        "colab": {
          "base_uri": "https://localhost:8080/"
        },
        "outputId": "012df145-c0fc-4026-9aa5-7629a630905d"
      },
      "outputs": [
        {
          "output_type": "stream",
          "name": "stdout",
          "text": [
            "10.pgm\t1.pgm  2.pgm  3.pgm  4.pgm  5.pgm  6.pgm  7.pgm  8.pgm\t9.pgm\n"
          ]
        }
      ],
      "source": [
        "!ls images/s1\n"
      ]
    },
    {
      "cell_type": "markdown",
      "metadata": {
        "id": "HxZwIPTCE4YE"
      },
      "source": [
        "##2. Generate the Data Matrix and the Label vector"
      ]
    },
    {
      "cell_type": "code",
      "execution_count": null,
      "metadata": {
        "id": "APljhegDiH4k",
        "colab": {
          "base_uri": "https://localhost:8080/"
        },
        "outputId": "f1581102-a877-4606-b280-7fb0bb0597c1"
      },
      "outputs": [
        {
          "output_type": "execute_result",
          "data": {
            "text/plain": [
              "(400, 10304)"
            ]
          },
          "metadata": {},
          "execution_count": 5
        }
      ],
      "source": [
        "directory = 'images/'\n",
        "image_vectors = []\n",
        "\n",
        "for folder in os.listdir(directory):\n",
        "  path = os.path.join(directory, folder)\n",
        "  if os.path.isdir(path):\n",
        "    sub_directory = path\n",
        "    for image in os.listdir(sub_directory):\n",
        "            f = os.path.join(sub_directory, image)\n",
        "            # The function imread loads an image from the specified file and returns it\n",
        "            img = cv2.imread(f, cv2.IMREAD_GRAYSCALE)\n",
        "            vector = np.array(img)\n",
        "            result = vector.flatten()\n",
        "            image_vectors.append(result)\n",
        "image_vectors = np.array(image_vectors)\n",
        "image_vectors.shape       "
      ]
    },
    {
      "cell_type": "code",
      "execution_count": null,
      "metadata": {
        "id": "5pNI-3skPmUx",
        "colab": {
          "base_uri": "https://localhost:8080/",
          "height": 129
        },
        "outputId": "d818090f-5100-4614-f32c-af9bdb244a62"
      },
      "outputs": [
        {
          "output_type": "display_data",
          "data": {
            "text/plain": [
              "<PIL.Image.Image image mode=L size=92x112 at 0x7F3A41FA0BD0>"
            ],
            "image/png": "[encoded data removed]"
          },
          "metadata": {}
        }
      ],
      "source": [
        "cv2_imshow(img)"
      ]
    },
    {
      "cell_type": "code",
      "execution_count": null,
      "metadata": {
        "id": "bHuvrB4WvLjf",
        "colab": {
          "base_uri": "https://localhost:8080/"
        },
        "outputId": "e521bec5-6dbf-4673-bce9-6d92993027ed"
      },
      "outputs": [
        {
          "output_type": "execute_result",
          "data": {
            "text/plain": [
              "array([ 1,  1,  1,  1,  1,  1,  1,  1,  1,  1,  2,  2,  2,  2,  2,  2,  2,\n",
              "        2,  2,  2,  3,  3,  3,  3,  3,  3,  3,  3,  3,  3,  4,  4,  4,  4,\n",
              "        4,  4,  4,  4,  4,  4,  5,  5,  5,  5,  5,  5,  5,  5,  5,  5,  6,\n",
              "        6,  6,  6,  6,  6,  6,  6,  6,  6,  7,  7,  7,  7,  7,  7,  7,  7,\n",
              "        7,  7,  8,  8,  8,  8,  8,  8,  8,  8,  8,  8,  9,  9,  9,  9,  9,\n",
              "        9,  9,  9,  9,  9, 10, 10, 10, 10, 10, 10, 10, 10, 10, 10, 11, 11,\n",
              "       11, 11, 11, 11, 11, 11, 11, 11, 12, 12, 12, 12, 12, 12, 12, 12, 12,\n",
              "       12, 13, 13, 13, 13, 13, 13, 13, 13, 13, 13, 14, 14, 14, 14, 14, 14,\n",
              "       14, 14, 14, 14, 15, 15, 15, 15, 15, 15, 15, 15, 15, 15, 16, 16, 16,\n",
              "       16, 16, 16, 16, 16, 16, 16, 17, 17, 17, 17, 17, 17, 17, 17, 17, 17,\n",
              "       18, 18, 18, 18, 18, 18, 18, 18, 18, 18, 19, 19, 19, 19, 19, 19, 19,\n",
              "       19, 19, 19, 20, 20, 20, 20, 20, 20, 20, 20, 20, 20, 21, 21, 21, 21,\n",
              "       21, 21, 21, 21, 21, 21, 22, 22, 22, 22, 22, 22, 22, 22, 22, 22, 23,\n",
              "       23, 23, 23, 23, 23, 23, 23, 23, 23, 24, 24, 24, 24, 24, 24, 24, 24,\n",
              "       24, 24, 25, 25, 25, 25, 25, 25, 25, 25, 25, 25, 26, 26, 26, 26, 26,\n",
              "       26, 26, 26, 26, 26, 27, 27, 27, 27, 27, 27, 27, 27, 27, 27, 28, 28,\n",
              "       28, 28, 28, 28, 28, 28, 28, 28, 29, 29, 29, 29, 29, 29, 29, 29, 29,\n",
              "       29, 30, 30, 30, 30, 30, 30, 30, 30, 30, 30, 31, 31, 31, 31, 31, 31,\n",
              "       31, 31, 31, 31, 32, 32, 32, 32, 32, 32, 32, 32, 32, 32, 33, 33, 33,\n",
              "       33, 33, 33, 33, 33, 33, 33, 34, 34, 34, 34, 34, 34, 34, 34, 34, 34,\n",
              "       35, 35, 35, 35, 35, 35, 35, 35, 35, 35, 36, 36, 36, 36, 36, 36, 36,\n",
              "       36, 36, 36, 37, 37, 37, 37, 37, 37, 37, 37, 37, 37, 38, 38, 38, 38,\n",
              "       38, 38, 38, 38, 38, 38, 39, 39, 39, 39, 39, 39, 39, 39, 39, 39, 40,\n",
              "       40, 40, 40, 40, 40, 40, 40, 40, 40])"
            ]
          },
          "metadata": {},
          "execution_count": 7
        }
      ],
      "source": [
        "labels = []\n",
        "\n",
        "for i in range (1,41):\n",
        "    for j in range (0,10):\n",
        "        labels.append(i)\n",
        "\n",
        "labels = np.array(labels)\n",
        "labels    "
      ]
    },
    {
      "cell_type": "markdown",
      "metadata": {
        "id": "WA4CGZJNQO9E"
      },
      "source": [
        "## 3. Split the Dataset into Training and Test sets"
      ]
    },
    {
      "cell_type": "markdown",
      "source": [
        "We used a random number generator with a set seed so we can always have the same split."
      ],
      "metadata": {
        "id": "QL0iCg2tWUH1"
      }
    },
    {
      "cell_type": "code",
      "source": [
        "def split_train_test(train_percentage, data, labels):\n",
        "  test_percentage = 100-train_percentage\n",
        "  number_of_data = data.shape[0]  \n",
        "  random.seed(2)\n",
        "\n",
        "  train_split_size = (number_of_data * train_percentage) // 100 \n",
        "  test_split_size = number_of_data - train_split_size\n",
        "\n",
        "\n",
        "  list1 = range(number_of_data)\n",
        "  list11 = np.arange(number_of_data)\n",
        "\n",
        "  train_indices = random.sample(list1, train_split_size)\n",
        "  test_indices = np.delete(list11, train_indices)\n",
        "\n",
        "\n",
        "  train_data = np.zeros( (train_split_size, data.shape[1]) )\n",
        "  test_data = np.zeros( (test_split_size, data.shape[1] ) ) \n",
        "  train_labels = np.zeros( (train_split_size, ) )\n",
        "  test_labels = np.zeros( (test_split_size, ) )\n",
        "\n",
        "  for index1, index2 in enumerate(train_indices) :\n",
        "    train_data[index1] = data[index2]\n",
        "    train_labels[index1] = int(labels[index2])\n",
        "                \n",
        "  for index1, index2 in enumerate(test_indices):\n",
        "    test_data[index1] = data[index2]\n",
        "    test_labels[index1] = int(labels[index2])\n",
        "\n",
        "\n",
        "  return train_data, test_data, train_labels, test_labels \n",
        "\n",
        "\n",
        "  \n",
        "\n",
        "\n",
        "    \n",
        "\n",
        "\n"
      ],
      "metadata": {
        "id": "A9Y0iLb8VZDH"
      },
      "execution_count": null,
      "outputs": []
    },
    {
      "cell_type": "code",
      "source": [
        "train_data, test_data, train_labels, test_labels = split_train_test(70, image_vectors,labels)\n",
        "print(train_labels)"
      ],
      "metadata": {
        "colab": {
          "base_uri": "https://localhost:8080/"
        },
        "id": "qyFyggtejoWs",
        "outputId": "29f86f00-ce05-4865-b51f-0ecf1b1b2075"
      },
      "execution_count": null,
      "outputs": [
        {
          "output_type": "stream",
          "name": "stdout",
          "text": [
            "[ 3.  5.  5. 19.  9. 38. 35. 16. 13. 32. 11. 40.  2. 30. 35.  9. 23. 33.\n",
            " 21. 38. 27. 20. 28. 23. 26. 14. 39.  2. 19. 24. 17. 20. 22. 27.  9. 29.\n",
            " 10. 13. 12.  2. 37. 17.  9.  7. 27. 36. 40. 27. 35. 37. 10. 23. 22. 27.\n",
            " 38. 31. 19. 19. 39.  9. 21. 24. 34. 28. 13. 26. 15. 26. 26. 36. 35. 24.\n",
            " 34. 18. 30. 29. 24. 25. 12. 36.  9. 32. 38. 25. 16. 16. 26. 29. 27. 26.\n",
            " 31. 21. 16. 11. 34. 27. 19.  4. 18.  1. 10.  6.  4. 30.  3. 14. 12. 30.\n",
            " 27. 36. 14. 13. 11. 39. 37.  2.  3. 40. 36. 36. 34. 37.  5.  6.  4. 38.\n",
            "  3.  2. 20. 14.  7.  9. 10.  1. 20.  3. 13.  8. 38.  1. 18.  6. 15. 18.\n",
            " 31.  1.  8. 12. 15. 20. 16. 19.  2. 24.  7. 20. 11. 39. 31. 19.  4. 13.\n",
            " 32.  3. 17. 18. 35. 22.  3.  1. 26. 39. 23.  4. 14. 15. 20. 11. 13. 14.\n",
            "  9.  4.  9.  7. 32. 32. 32. 17. 31. 39. 34.  4. 18. 38.  7.  1.  4.  5.\n",
            " 40.  3. 30. 17.  6. 28. 33. 34.  7. 32. 19. 33. 36. 21. 28. 16. 28. 25.\n",
            " 29. 20. 10. 37. 24. 39.  8. 14.  1. 31.  1. 10. 11. 21. 40. 25. 27.  7.\n",
            " 24. 30.  1. 40. 20. 17.  6. 25. 14. 37. 40.  8. 32. 30. 30.  6. 12. 18.\n",
            " 34. 37.  2. 22. 39. 20. 21. 13. 35. 22. 23. 36. 30.  8. 10. 26. 14. 11.\n",
            " 17. 17. 16. 13. 15. 10. 40. 15. 38. 11.]\n"
          ]
        }
      ]
    },
    {
      "cell_type": "markdown",
      "metadata": {
        "id": "HQloCPPVX3QI"
      },
      "source": [
        "## 4. Classification using PCA"
      ]
    },
    {
      "cell_type": "code",
      "execution_count": null,
      "metadata": {
        "id": "jZ7q6myPSs2l"
      },
      "outputs": [],
      "source": [
        "alphaaa = np.array([0.8,0.85,0.9,0.95])"
      ]
    },
    {
      "cell_type": "markdown",
      "metadata": {
        "id": "VR-O_Uv-Ro96"
      },
      "source": [
        "Compute mean"
      ]
    },
    {
      "cell_type": "code",
      "execution_count": null,
      "metadata": {
        "id": "2cMEW5hvUU_F",
        "colab": {
          "base_uri": "https://localhost:8080/"
        },
        "outputId": "d6fc79ba-f9d9-4b60-d108-067803ffaf90"
      },
      "outputs": [
        {
          "output_type": "stream",
          "name": "stdout",
          "text": [
            "[83.73571429 83.81071429 84.25       ... 75.57857143 74.80714286\n",
            " 73.62142857]\n"
          ]
        }
      ],
      "source": [
        "train_data_mean = np.mean(train_data,axis=0)\n",
        "print(train_data_mean)"
      ]
    },
    {
      "cell_type": "code",
      "source": [
        "train_data_mean.shape"
      ],
      "metadata": {
        "id": "eJssPIPxlAZV",
        "colab": {
          "base_uri": "https://localhost:8080/"
        },
        "outputId": "cf1f9e88-9dd1-4c6c-f88d-f1aef90ccd99"
      },
      "execution_count": null,
      "outputs": [
        {
          "output_type": "execute_result",
          "data": {
            "text/plain": [
              "(10304,)"
            ]
          },
          "metadata": {},
          "execution_count": 12
        }
      ]
    },
    {
      "cell_type": "markdown",
      "metadata": {
        "id": "p-PC8OgDSvhR"
      },
      "source": [
        "Centering data matrix"
      ]
    },
    {
      "cell_type": "code",
      "execution_count": null,
      "metadata": {
        "id": "SAjLsK3wVis1",
        "colab": {
          "base_uri": "https://localhost:8080/"
        },
        "outputId": "315b8c94-dd84-4450-b500-8f9cdb3c34ab"
      },
      "outputs": [
        {
          "output_type": "stream",
          "name": "stdout",
          "text": [
            "[[ 35.26428571  36.18928571  35.75       ...  13.42142857  19.19285714\n",
            "   11.37857143]\n",
            " [ 13.26428571  10.18928571   7.75       ...  68.42142857  68.19285714\n",
            "   55.37857143]\n",
            " [ -0.73571429   2.18928571  -0.25       ...  60.42142857  63.19285714\n",
            "   60.37857143]\n",
            " ...\n",
            " [ 19.26428571  20.18928571  20.75       ...   0.42142857   1.19285714\n",
            "    1.37857143]\n",
            " [-11.73571429 -10.81071429  -7.25       ...  24.42142857  11.19285714\n",
            "    2.37857143]\n",
            " [-55.73571429 -58.81071429 -57.25       ... 111.42142857 112.19285714\n",
            "  116.37857143]]\n",
            "(280, 10304)\n"
          ]
        }
      ],
      "source": [
        "Centered_Train_Data_Matrix = train_data - np.transpose(train_data_mean)\n",
        "print(Centered_Train_Data_Matrix)\n",
        "print(Centered_Train_Data_Matrix.shape)"
      ]
    },
    {
      "cell_type": "markdown",
      "metadata": {
        "id": "dS-a6RHPS8hk"
      },
      "source": [
        "Compute covariance matrix"
      ]
    },
    {
      "cell_type": "code",
      "execution_count": null,
      "metadata": {
        "id": "a0pS0_d5YAII",
        "colab": {
          "base_uri": "https://localhost:8080/"
        },
        "outputId": "78efad66-8154-4297-eacd-7e40ea3e1246"
      },
      "outputs": [
        {
          "output_type": "stream",
          "name": "stdout",
          "text": [
            "[[1343.83729592 1331.48568878 1327.15535714 ... -187.43280612\n",
            "  -162.85096939  -79.55362245]\n",
            " [1331.48568878 1335.06774235 1324.27946429 ... -177.80834184\n",
            "  -154.6365051   -74.81451531]\n",
            " [1327.15535714 1324.27946429 1331.57321429 ... -175.16607143\n",
            "  -148.47321429  -71.50892857]\n",
            " ...\n",
            " [-187.43280612 -177.80834184 -175.16607143 ... 2271.85811224\n",
            "  2008.51515306 1765.74045918]\n",
            " [-162.85096939 -154.6365051  -148.47321429 ... 2008.51515306\n",
            "  2030.63423469 1841.75913265]\n",
            " [ -79.55362245  -74.81451531  -71.50892857 ... 1765.74045918\n",
            "  1841.75913265 1920.62811224]]\n"
          ]
        }
      ],
      "source": [
        "Train_Covariance_Matrix = np.dot(np.transpose(Centered_Train_Data_Matrix),Centered_Train_Data_Matrix)/Centered_Train_Data_Matrix.shape[0]\n",
        "print(Train_Covariance_Matrix)"
      ]
    },
    {
      "cell_type": "markdown",
      "metadata": {
        "id": "LGkZ1rbBW-q2"
      },
      "source": [
        "Asserting that our calculation of the covariance matrix is correct"
      ]
    },
    {
      "cell_type": "code",
      "execution_count": null,
      "metadata": {
        "id": "8B0wTJCdTHk_",
        "colab": {
          "base_uri": "https://localhost:8080/"
        },
        "outputId": "42fe8d43-4904-4680-9efa-14adb8a6d18d"
      },
      "outputs": [
        {
          "output_type": "stream",
          "name": "stdout",
          "text": [
            "[[1343.83729592 1331.48568878 1327.15535714 ... -187.43280612\n",
            "  -162.85096939  -79.55362245]\n",
            " [1331.48568878 1335.06774235 1324.27946429 ... -177.80834184\n",
            "  -154.6365051   -74.81451531]\n",
            " [1327.15535714 1324.27946429 1331.57321429 ... -175.16607143\n",
            "  -148.47321429  -71.50892857]\n",
            " ...\n",
            " [-187.43280612 -177.80834184 -175.16607143 ... 2271.85811224\n",
            "  2008.51515306 1765.74045918]\n",
            " [-162.85096939 -154.6365051  -148.47321429 ... 2008.51515306\n",
            "  2030.63423469 1841.75913265]\n",
            " [ -79.55362245  -74.81451531  -71.50892857 ... 1765.74045918\n",
            "  1841.75913265 1920.62811224]]\n",
            "(10304, 10304)\n",
            "(10304, 10304)\n"
          ]
        }
      ],
      "source": [
        "cov_mat = np.cov(np.transpose(train_data), bias=True)\n",
        "print(cov_mat)\n",
        "print(cov_mat.shape)\n",
        "print(Train_Covariance_Matrix.shape)"
      ]
    },
    {
      "cell_type": "code",
      "execution_count": null,
      "metadata": {
        "id": "b10JHzyVXGQF",
        "colab": {
          "base_uri": "https://localhost:8080/"
        },
        "outputId": "45bc0f5c-f2cd-440d-e3b6-a4aad0f7bc5b"
      },
      "outputs": [
        {
          "output_type": "stream",
          "name": "stdout",
          "text": [
            "\n",
            "Arrays are not equal\n",
            "\n",
            "Mismatched elements: 21524996 / 106172416 (20.3%)\n",
            "Max absolute difference: 4.54747351e-13\n",
            "Max relative difference: 2.22044605e-16\n",
            " x: array([[1343.837296, 1331.485689, 1327.155357, ..., -187.432806,\n",
            "        -162.850969,  -79.553622],\n",
            "       [1331.485689, 1335.067742, 1324.279464, ..., -177.808342,...\n",
            " y: array([[1343.837296, 1331.485689, 1327.155357, ..., -187.432806,\n",
            "        -162.850969,  -79.553622],\n",
            "       [1331.485689, 1335.067742, 1324.279464, ..., -177.808342,...\n"
          ]
        }
      ],
      "source": [
        "try:\n",
        "  np.testing.assert_array_equal(cov_mat, Train_Covariance_Matrix)\n",
        "except AssertionError as e:\n",
        "  print(e)"
      ]
    },
    {
      "cell_type": "markdown",
      "metadata": {
        "id": "aiIIZWpgYuLf"
      },
      "source": [
        "The difference is within acceptable range"
      ]
    },
    {
      "cell_type": "markdown",
      "metadata": {
        "id": "0kqcBgB2yS5f"
      },
      "source": [
        "Compute eigenvalues and eigenvectors"
      ]
    },
    {
      "cell_type": "code",
      "execution_count": null,
      "metadata": {
        "id": "MTUZ1m0WZx5V",
        "colab": {
          "base_uri": "https://localhost:8080/"
        },
        "outputId": "998443da-8774-4d5b-f5c8-3f37c281f2d2"
      },
      "outputs": [
        {
          "output_type": "stream",
          "name": "stdout",
          "text": [
            "[ 2.72286968e+06  2.20750326e+06  1.13898868e+06 ... -1.17174915e-09\n",
            " -1.72432382e-09 -1.75139081e-09]\n",
            "[[ 0.0037122  -0.01476915 -0.02046483 ...  0.          0.\n",
            "   0.        ]\n",
            " [ 0.00367362 -0.0147245  -0.0204496  ... -0.07383385  0.36807271\n",
            "   0.33130376]\n",
            " [ 0.00366895 -0.014701   -0.02050773 ... -0.33440161 -0.2813665\n",
            "  -0.20421921]\n",
            " ...\n",
            " [ 0.00638864  0.01048788 -0.01195504 ...  0.0153833   0.00037995\n",
            "  -0.01709879]\n",
            " [ 0.00651046  0.01003697 -0.01186481 ... -0.00707523 -0.00171888\n",
            "   0.02504252]\n",
            " [ 0.00717956  0.0085864  -0.01226095 ...  0.02767162  0.00308461\n",
            "  -0.00457921]]\n"
          ]
        }
      ],
      "source": [
        "train_eigen_vals, train_eigen_vecs = LA.eigh(Train_Covariance_Matrix)\n",
        "idx = train_eigen_vals.argsort()[::-1]   \n",
        "train_eigen_vals = train_eigen_vals[idx]\n",
        "train_eigen_vecs = train_eigen_vecs[:,idx]\n",
        "print(train_eigen_vals)\n",
        "print(train_eigen_vecs)"
      ]
    },
    {
      "cell_type": "markdown",
      "metadata": {
        "id": "qr7k_dGYROGD"
      },
      "source": [
        "Covariance matrix is symmetric, so the eigenvalues should be real numbers. When using the function eig() instead of eigh(), by default the returned value is complex. The imaginary part is due to numeric error so we should discard it. But since the matrix is symmetric we simply used eigh() which is optimized for symmetric matrices specifically and thus faster."
      ]
    },
    {
      "cell_type": "code",
      "execution_count": null,
      "metadata": {
        "id": "L3D9guRERNf8"
      },
      "outputs": [],
      "source": [
        "#train_eigen_vals = train_eigen_vals.real\n",
        "#train_eigen_vecs = train_eigen_vecs.real"
      ]
    },
    {
      "cell_type": "markdown",
      "metadata": {
        "id": "5arphaPPdX-q"
      },
      "source": [
        "Fraction of total variance"
      ]
    },
    {
      "cell_type": "code",
      "execution_count": null,
      "metadata": {
        "id": "KWQIvX3ZbbES",
        "colab": {
          "base_uri": "https://localhost:8080/"
        },
        "outputId": "b80eb6ec-260d-41f9-ab23-59c7ec1f439c"
      },
      "outputs": [
        {
          "output_type": "stream",
          "name": "stdout",
          "text": [
            "\n",
            "Sum of  Eigen Values=  16227364.03187499 \n",
            "\n",
            "Explained variance for alpha = 0.8 is 40.0 dimensions\n",
            "Explained variance for alpha = 0.85 is 59.0 dimensions\n",
            "Explained variance for alpha = 0.9 is 92.0 dimensions\n",
            "Explained variance for alpha = 0.95 is 149.0 dimensions\n"
          ]
        }
      ],
      "source": [
        "train_eigen_values_total = np.sum(train_eigen_vals)\n",
        "\"\"\"\n",
        "train_eigen_vals = np.flip(train_eigen_vals)\n",
        "train_eigen_vecs = np.flip(train_eigen_vecs,axis=1)\n",
        "print(train_eigen_vals)\n",
        "print(train_eigen_vecs)\n",
        "\"\"\"\n",
        "print(\"\\nSum of  Eigen Values= \",train_eigen_values_total,\"\\n\")\n",
        "num_of_dim = np.empty(len(alphaaa),)\n",
        "k = 0\n",
        "for alpha in alphaaa:\n",
        "  sum = 0\n",
        "  r = 0\n",
        "  while sum < alpha * train_eigen_values_total:\n",
        "        sum += train_eigen_vals[r]\n",
        "        r += 1\n",
        "  num_of_dim[k] = r\n",
        "  print(\"Explained variance for alpha = \" + str(alpha) + \" is \" + str(num_of_dim[k]) + \" dimensions\")\n",
        "  k += 1\n"
      ]
    },
    {
      "cell_type": "markdown",
      "metadata": {
        "id": "DScLTVucgF1a"
      },
      "source": [
        "Getting Reduced Dimentionality Matrix"
      ]
    },
    {
      "cell_type": "code",
      "execution_count": null,
      "metadata": {
        "id": "_8TQBmivfNSx"
      },
      "outputs": [],
      "source": [
        "def get_reduced_dim_mat(dimensions, matrix):\n",
        "  projection_matrix_r = np.delete(train_eigen_vecs, np.s_[int(dimensions) : train_eigen_vecs.shape[1]], axis=1)\n",
        "  reduced_dim_mat = np.dot(np.transpose(projection_matrix_r),np.transpose(matrix)) \n",
        "  reduced_dim_mat = np.transpose(reduced_dim_mat)\n",
        "\n",
        "  return reduced_dim_mat"
      ]
    },
    {
      "cell_type": "code",
      "execution_count": null,
      "metadata": {
        "id": "iosdVZvCMj3K"
      },
      "outputs": [],
      "source": [
        "def KNNclf(neighbours, X_train, y_train, X_test, y_test):\n",
        "  clf = KNeighborsClassifier(n_neighbors=neighbours)\n",
        "  clf.fit(X_train, y_train)\n",
        "  y_pred = clf.predict(X_test)\n",
        "  accuracy = metrics.accuracy_score(y_test, y_pred)\n",
        "  print(\"Accuracy: \", accuracy)\n",
        "  #print(confusion_matrix(y_test, y_pred))\n",
        "  #print(classification_report(y_test, y_pred))\n",
        "  return accuracy"
      ]
    },
    {
      "cell_type": "code",
      "execution_count": null,
      "metadata": {
        "id": "kb7PI3MZONUy",
        "colab": {
          "base_uri": "https://localhost:8080/"
        },
        "outputId": "c5851fb5-2ad1-4864-ed50-bd64f2f1413d"
      },
      "outputs": [
        {
          "output_type": "stream",
          "name": "stdout",
          "text": [
            "(4, 4)\n",
            "40 dimensions with 1 nearest neighbours\n",
            "Accuracy:  0.8916666666666667\n",
            "40 dimensions with 3 nearest neighbours\n",
            "Accuracy:  0.8666666666666667\n",
            "40 dimensions with 5 nearest neighbours\n",
            "Accuracy:  0.8083333333333333\n",
            "40 dimensions with 7 nearest neighbours\n",
            "Accuracy:  0.7333333333333333\n",
            "59 dimensions with 1 nearest neighbours\n",
            "Accuracy:  0.9083333333333333\n",
            "59 dimensions with 3 nearest neighbours\n",
            "Accuracy:  0.8666666666666667\n",
            "59 dimensions with 5 nearest neighbours\n",
            "Accuracy:  0.8166666666666667\n",
            "59 dimensions with 7 nearest neighbours\n",
            "Accuracy:  0.7083333333333334\n",
            "92 dimensions with 1 nearest neighbours\n",
            "Accuracy:  0.9083333333333333\n",
            "92 dimensions with 3 nearest neighbours\n",
            "Accuracy:  0.875\n",
            "92 dimensions with 5 nearest neighbours\n",
            "Accuracy:  0.7916666666666666\n",
            "92 dimensions with 7 nearest neighbours\n",
            "Accuracy:  0.7083333333333334\n",
            "149 dimensions with 1 nearest neighbours\n",
            "Accuracy:  0.9083333333333333\n",
            "149 dimensions with 3 nearest neighbours\n",
            "Accuracy:  0.875\n",
            "149 dimensions with 5 nearest neighbours\n",
            "Accuracy:  0.7833333333333333\n",
            "149 dimensions with 7 nearest neighbours\n",
            "Accuracy:  0.6916666666666667\n"
          ]
        }
      ],
      "source": [
        "k_neighbours = [1, 3, 5, 7]\n",
        "accuracies = np.empty((len(alphaaa), len(k_neighbours)))\n",
        "print(accuracies.shape)\n",
        "for i, dim in enumerate(num_of_dim):\n",
        "  X_train = get_reduced_dim_mat(dim, train_data - np.transpose(train_data_mean))\n",
        "  X_test = get_reduced_dim_mat(dim, test_data - np.transpose(train_data_mean))\n",
        "  y_train = train_labels\n",
        "  y_test = test_labels\n",
        "  for j, k in enumerate(k_neighbours):\n",
        "    print(str(int(dim)) + \" dimensions with \" + str(k) + \" nearest neighbours\")\n",
        "    accuracy = KNNclf(k, X_train, y_train, X_test, y_test)\n",
        "    accuracies[i][j] = accuracy\n",
        "accuracies = np.transpose(accuracies)\n"
      ]
    },
    {
      "cell_type": "markdown",
      "source": [
        "We tried to project with the data before centering and after centering. As long as we centered both the train data and test data, we got the same results."
      ],
      "metadata": {
        "id": "lkWHECqDhlqO"
      }
    },
    {
      "cell_type": "markdown",
      "metadata": {
        "id": "6ITbRunKcBbn"
      },
      "source": [
        "plotting different alpha values against accuracy for different k values for the KNN classifier"
      ]
    },
    {
      "cell_type": "code",
      "source": [
        "plt.figure(figsize=(10, 10))\n",
        "\n",
        "for i in range(len(alphaaa)):\n",
        "  plt.subplot(2, 2, i+1)\n",
        "  plt.title(\"alpha=\" + str(alphaaa[i]))\n",
        "  plt.plot(k_neighbours, accuracies.T[i])"
      ],
      "metadata": {
        "id": "P61cIWFQ7-Ve",
        "colab": {
          "base_uri": "https://localhost:8080/",
          "height": 607
        },
        "outputId": "b6bf812f-5774-4b45-df2c-bcaa7b6ab5bb"
      },
      "execution_count": null,
      "outputs": [
        {
          "output_type": "display_data",
          "data": {
            "text/plain": [
              "<Figure size 720x720 with 4 Axes>"
            ],
            "image/png": "[encoded data removed]"
          },
          "metadata": {
            "needs_background": "light"
          }
        }
      ]
    },
    {
      "cell_type": "code",
      "execution_count": null,
      "metadata": {
        "id": "RuuzOkKtUx4d",
        "colab": {
          "base_uri": "https://localhost:8080/",
          "height": 694
        },
        "outputId": "58671390-a511-4f21-9ecf-d30a981416ff"
      },
      "outputs": [
        {
          "output_type": "stream",
          "name": "stdout",
          "text": [
            "[0.8  0.85 0.9  0.95]\n",
            "[[0.89166667 0.90833333 0.90833333 0.90833333]\n",
            " [0.86666667 0.86666667 0.875      0.875     ]\n",
            " [0.80833333 0.81666667 0.79166667 0.78333333]\n",
            " [0.73333333 0.70833333 0.70833333 0.69166667]]\n"
          ]
        },
        {
          "output_type": "display_data",
          "data": {
            "text/plain": [
              "<Figure size 720x720 with 4 Axes>"
            ],
            "image/png": "[encoded data removed]"
          },
          "metadata": {
            "needs_background": "light"
          }
        }
      ],
      "source": [
        "print(alphaaa)\n",
        "print(accuracies)\n",
        "plt.figure(figsize=(10, 10))\n",
        "\n",
        "for i in range(len(k_neighbours)):\n",
        "  plt.subplot(2, 2, i+1)\n",
        "  plt.title(str(k_neighbours[i]) + \" neighbour(s)\")\n",
        "  plt.plot(alphaaa, accuracies[i])\n"
      ]
    },
    {
      "cell_type": "markdown",
      "metadata": {
        "id": "OvAWydf9fCXo"
      },
      "source": [
        "## 5. Classification Using LDA"
      ]
    },
    {
      "cell_type": "code",
      "execution_count": null,
      "metadata": {
        "id": "GIeNPfQkjN3e",
        "colab": {
          "base_uri": "https://localhost:8080/"
        },
        "outputId": "58a9cb33-f489-47de-de49-57c367e19627"
      },
      "outputs": [
        {
          "output_type": "stream",
          "name": "stdout",
          "text": [
            "[[ 60298.73228363  59686.56795933  59452.07509752 ... -26666.32218279\n",
            "  -22440.40777525 -17666.29282044]\n",
            " [ 59686.54951656  59517.52456121  59053.80672757 ... -25529.61094069\n",
            "  -21777.78282017 -17444.05569932]\n",
            " [ 59452.05096375  59053.80097897  59246.47949227 ... -25977.36909789\n",
            "  -20858.65472196 -15871.79797524]\n",
            " ...\n",
            " [-26666.34567022 -25529.62104862 -25977.34175956 ...  74991.11661639\n",
            "   61415.25334503  44943.90638864]\n",
            " [-22440.38924319 -21777.79457602 -20858.64993237 ...  61415.23099233\n",
            "   60542.16717983  48811.70651046]\n",
            " [-17666.30457921 -17444.06120111 -15871.75804267 ...  44943.88773905\n",
            "   48811.7085864   51592.4500367 ]]\n"
          ]
        }
      ],
      "source": [
        "n = 7\n",
        "m = 3\n",
        "LDA_mean = np.zeros((40,train_data.shape[1]))\n",
        "for i in range(0,train_data.shape[0], n):\n",
        "    #print(i//5,\"\\t\",i,\"\\t\",i+5)\n",
        "    LDA_mean[i//n] = np.mean(train_data[i:i+n,:], axis=0)\n",
        "#print(LDA_mean)\n",
        "#print(\"\\n Dimensions:\",LDA_mean.shape)\n",
        "B = np.empty((10304,10304))\n",
        "data_mean = train_data_mean.reshape(1, train_data.shape[1])\n",
        "for i, mean_vec in enumerate(LDA_mean):\n",
        "\n",
        "  mean_vec = mean_vec.reshape(1, train_data.shape[1])\n",
        "  mu1_mu2 = mean_vec - data_mean\n",
        "  B += n * np.dot(mu1_mu2.T, mu1_mu2)\n",
        "print(B)\n",
        "#print(\"\\n Dimensions:\", B.shape)"
      ]
    },
    {
      "cell_type": "code",
      "execution_count": null,
      "metadata": {
        "id": "Fm8AobU_kxCE",
        "colab": {
          "base_uri": "https://localhost:8080/"
        },
        "outputId": "6ec775e7-f8fd-4877-e7eb-5c564935d955"
      },
      "outputs": [
        {
          "output_type": "stream",
          "name": "stdout",
          "text": [
            "[[ 45.71428571  46.28571429  46.         ...   0.57142857   4.85714286\n",
            "    5.14285714]\n",
            " [ 23.71428571  20.28571429  18.         ...  55.57142857  53.85714286\n",
            "   49.14285714]\n",
            " [  9.71428571  12.28571429  10.         ...  47.57142857  48.85714286\n",
            "   54.14285714]\n",
            " ...\n",
            " [ 41.28571429  42.57142857  42.71428571 ...   1.85714286   2.57142857\n",
            "    3.85714286]\n",
            " [ 10.28571429  11.57142857  14.71428571 ...  25.85714286  12.57142857\n",
            "    4.85714286]\n",
            " [-33.71428571 -36.42857143 -35.28571429 ... 112.85714286 113.57142857\n",
            "  118.85714286]]\n",
            "(280, 10304)\n",
            "0 \t 0 \t 7\n",
            "1 \t 7 \t 14\n",
            "2 \t 14 \t 21\n",
            "3 \t 21 \t 28\n",
            "4 \t 28 \t 35\n",
            "5 \t 35 \t 42\n",
            "6 \t 42 \t 49\n",
            "7 \t 49 \t 56\n",
            "8 \t 56 \t 63\n",
            "9 \t 63 \t 70\n",
            "10 \t 70 \t 77\n",
            "11 \t 77 \t 84\n",
            "12 \t 84 \t 91\n",
            "13 \t 91 \t 98\n",
            "14 \t 98 \t 105\n",
            "15 \t 105 \t 112\n",
            "16 \t 112 \t 119\n",
            "17 \t 119 \t 126\n",
            "18 \t 126 \t 133\n",
            "19 \t 133 \t 140\n",
            "20 \t 140 \t 147\n",
            "21 \t 147 \t 154\n",
            "22 \t 154 \t 161\n",
            "23 \t 161 \t 168\n",
            "24 \t 168 \t 175\n",
            "25 \t 175 \t 182\n",
            "26 \t 182 \t 189\n",
            "27 \t 189 \t 196\n",
            "28 \t 196 \t 203\n",
            "29 \t 203 \t 210\n",
            "30 \t 210 \t 217\n",
            "31 \t 217 \t 224\n",
            "32 \t 224 \t 231\n",
            "33 \t 231 \t 238\n",
            "34 \t 238 \t 245\n",
            "35 \t 245 \t 252\n",
            "36 \t 252 \t 259\n",
            "37 \t 259 \t 266\n",
            "38 \t 266 \t 273\n",
            "39 \t 273 \t 280\n",
            "Center Class matrices: \n",
            " [[[ 45.71428571  46.28571429  46.         ...   0.57142857   4.85714286\n",
            "     5.14285714]\n",
            "  [ 23.71428571  20.28571429  18.         ...  55.57142857  53.85714286\n",
            "    49.14285714]\n",
            "  [  9.71428571  12.28571429  10.         ...  47.57142857  48.85714286\n",
            "    54.14285714]\n",
            "  ...\n",
            "  [-33.28571429 -38.71428571 -37.         ... -55.42857143 -58.14285714\n",
            "   -50.85714286]\n",
            "  [-27.28571429 -28.71428571 -25.         ... -32.42857143 -29.14285714\n",
            "   -21.85714286]\n",
            "  [ 12.71428571  15.28571429  16.         ...  35.57142857  26.85714286\n",
            "     3.14285714]]\n",
            "\n",
            " [[ 36.42857143  39.42857143  39.28571429 ...   0.71428571   4.42857143\n",
            "     6.        ]\n",
            "  [-32.57142857 -35.57142857 -33.71428571 ... -45.28571429 -42.57142857\n",
            "   -35.        ]\n",
            "  [ 26.42857143  29.42857143  25.28571429 ... -26.28571429 -20.57142857\n",
            "   -28.        ]\n",
            "  ...\n",
            "  [-30.57142857 -40.57142857 -34.71428571 ... -34.28571429 -32.57142857\n",
            "   -30.        ]\n",
            "  [ 37.42857143  37.42857143  38.28571429 ...  -4.28571429  -1.57142857\n",
            "     4.        ]\n",
            "  [ 22.42857143  27.42857143  22.28571429 ...   2.71428571 -18.57142857\n",
            "   -27.        ]]\n",
            "\n",
            " [[-15.         -19.71428571   2.28571429 ...  92.71428571  77.85714286\n",
            "    50.28571429]\n",
            "  [-44.         -48.71428571 -42.71428571 ... -48.28571429 -51.14285714\n",
            "   -71.71428571]\n",
            "  [ 52.          56.28571429  50.28571429 ... -19.28571429  -0.14285714\n",
            "   -13.71428571]\n",
            "  ...\n",
            "  [ 15.          23.28571429  21.28571429 ...   1.71428571 -12.14285714\n",
            "   -20.71428571]\n",
            "  [-21.         -23.71428571 -26.71428571 ... -15.28571429 -15.14285714\n",
            "   -33.71428571]\n",
            "  [-26.         -23.71428571 -35.71428571 ... -11.28571429  -4.14285714\n",
            "    94.28571429]]\n",
            "\n",
            " ...\n",
            "\n",
            " [[-50.14285714 -48.42857143 -51.42857143 ... -48.         -44.\n",
            "   -33.14285714]\n",
            "  [-10.14285714  -0.42857143   4.57142857 ... -45.         -23.\n",
            "   -15.14285714]\n",
            "  [ 23.85714286  23.57142857  21.57142857 ...  50.          33.\n",
            "    31.85714286]\n",
            "  ...\n",
            "  [-50.14285714 -52.42857143 -49.42857143 ... 107.          85.\n",
            "    35.85714286]\n",
            "  [ 19.85714286  15.57142857  13.57142857 ... -14.         -10.\n",
            "    -2.14285714]\n",
            "  [ 25.85714286  25.57142857  21.57142857 ...  13.          18.\n",
            "    28.85714286]]\n",
            "\n",
            " [[-25.85714286 -20.57142857 -25.57142857 ...  51.57142857  49.71428571\n",
            "    56.        ]\n",
            "  [ 44.14285714  41.42857143  44.42857143 ... -34.42857143 -45.28571429\n",
            "   -56.        ]\n",
            "  [-11.85714286  -9.57142857  -9.57142857 ...   3.57142857   1.71428571\n",
            "     7.        ]\n",
            "  ...\n",
            "  [-12.85714286 -17.57142857  -7.57142857 ... -47.42857143 -18.28571429\n",
            "   -10.        ]\n",
            "  [-13.85714286 -11.57142857 -19.57142857 ... -48.42857143 -52.28571429\n",
            "   -55.        ]\n",
            "  [ 55.14285714  53.42857143  52.42857143 ... -27.42857143 -36.28571429\n",
            "   -37.        ]]\n",
            "\n",
            " [[-13.71428571 -16.42857143 -17.28571429 ... -46.14285714 -36.42857143\n",
            "   -42.14285714]\n",
            "  [ 37.28571429  40.57142857  34.71428571 ... -24.14285714 -20.42857143\n",
            "   -21.14285714]\n",
            "  [-27.71428571 -25.42857143 -27.28571429 ... -42.14285714 -48.42857143\n",
            "   -46.14285714]\n",
            "  ...\n",
            "  [ 41.28571429  42.57142857  42.71428571 ...   1.85714286   2.57142857\n",
            "     3.85714286]\n",
            "  [ 10.28571429  11.57142857  14.71428571 ...  25.85714286  12.57142857\n",
            "     4.85714286]\n",
            "  [-33.71428571 -36.42857143 -35.28571429 ... 112.85714286 113.57142857\n",
            "   118.85714286]]] \n",
            "\n",
            "[[ 3.19466154e+05  3.15036604e+05  3.15149809e+05 ... -2.14019889e+04\n",
            "  -1.87752926e+04  1.87366071e+01]\n",
            " [ 3.16359635e+05  3.16066412e+05  3.14519261e+05 ... -1.97514804e+04\n",
            "  -1.70461326e+04  1.22030804e+03]\n",
            " [ 3.15449246e+05  3.13546355e+05  3.16426912e+05 ... -1.89877329e+04\n",
            "  -1.66604746e+04  1.29160714e+02]\n",
            " ...\n",
            " [-2.58148571e+04 -2.42567143e+04 -2.30691429e+04 ...  5.61129143e+05\n",
            "   5.00969000e+05  4.49463429e+05]\n",
            " [-2.31578571e+04 -2.15204286e+04 -2.07138571e+04 ...  5.00969000e+05\n",
            "   5.08035429e+05  4.66880857e+05]\n",
            " [-4.60871429e+03 -3.50400000e+03 -4.15071429e+03 ...  4.49463429e+05\n",
            "   4.66880857e+05  4.86183429e+05]]\n",
            "\n",
            "S dims: (10304, 10304)\n"
          ]
        }
      ],
      "source": [
        "LDA_Centered_Data_Matrix = np.zeros((train_data.shape[0],train_data.shape[1]))\n",
        "\n",
        "for i in range(0,train_data.shape[0],1):\n",
        "  LDA_Centered_Data_Matrix[i,:] = train_data[i,:] - LDA_mean[i//n,:]\n",
        "  \n",
        "print(LDA_Centered_Data_Matrix)   \n",
        "print(LDA_Centered_Data_Matrix.shape)\n",
        "\n",
        "LDA_Centered_Data_Matrix40 = np.empty((40, n, 10304))\n",
        "for i in range(0, train_data.shape[0], n):\n",
        "   print(i//n,\"\\t\",i,\"\\t\",i+n)\n",
        "   LDA_Centered_Data_Matrix40[i//n] = LDA_Centered_Data_Matrix[i:i+n,:]\n",
        "\n",
        "print(\"Center Class matrices: \\n\",LDA_Centered_Data_Matrix40,\"\\n\") \n",
        "S = np.empty((10304,10304))\n",
        "for i in range(0,40,1):\n",
        "  S += np.dot(np.transpose(LDA_Centered_Data_Matrix40[i]),LDA_Centered_Data_Matrix40[i])\n",
        "\n",
        "print(S)\n",
        "print(\"\\nS dims:\",S.shape)"
      ]
    },
    {
      "cell_type": "code",
      "execution_count": null,
      "metadata": {
        "id": "AU4vwi21oMH-",
        "colab": {
          "base_uri": "https://localhost:8080/"
        },
        "outputId": "5a02f1d8-6b18-4308-a76b-a5a96744f0c9"
      },
      "outputs": [
        {
          "output_type": "stream",
          "name": "stdout",
          "text": [
            "(10304, 10304)\n",
            "\n",
            " [[-1.60056798e+08  7.85304176e+08 -5.76323567e+08 ... -5.26535239e+00\n",
            "   1.08119864e+00  3.90939650e+00]\n",
            " [ 1.31332768e+09  4.65377475e+08  6.75851330e+08 ... -9.49390840e+00\n",
            "   1.24553542e+01  5.15243299e+00]\n",
            " [ 8.22152974e+08  9.42141892e+08 -2.01404584e+08 ...  6.36782876e+00\n",
            "  -8.24456824e+00 -6.63835462e+00]\n",
            " ...\n",
            " [ 1.83165601e+08 -6.36586749e+06 -1.12450909e+08 ...  8.13028775e-01\n",
            "  -3.83845739e-01 -4.11892660e-01]\n",
            " [-1.11078356e+08 -2.43386383e+07  5.40901826e+07 ... -7.46492288e-01\n",
            "   1.36289361e-01  4.43986327e-01]\n",
            " [ 2.98384256e+08  1.30765043e+08 -9.06900204e+06 ... -5.33202395e-01\n",
            "   6.99215365e-01  1.51329147e+00]]\n"
          ]
        }
      ],
      "source": [
        "S_inv=np.linalg.inv(S)\n",
        "print(S_inv.shape)\n",
        "print(\"\\n\",S_inv)"
      ]
    },
    {
      "cell_type": "code",
      "execution_count": null,
      "metadata": {
        "id": "l8Ag4-qUpPNw"
      },
      "outputs": [],
      "source": [
        "SB = np.dot(S_inv,B)"
      ]
    },
    {
      "cell_type": "code",
      "execution_count": null,
      "metadata": {
        "id": "RCQJIHwtpTRF"
      },
      "outputs": [],
      "source": [
        "S_eigenvals, S_eigenvecs = LA.eigh(SB)"
      ]
    },
    {
      "cell_type": "code",
      "source": [
        "idx = S_eigenvals.argsort()[::-1]   \n",
        "S_eigenvals = S_eigenvals[idx].real\n",
        "S_eigenvecs = S_eigenvecs[:,idx].real\n",
        "print(S_eigenvals)\n",
        "print(S_eigenvals.shape)\n",
        "print(S_eigenvecs)\n",
        "print(S_eigenvecs.shape)\n"
      ],
      "metadata": {
        "id": "eVA6l9aRF_d3",
        "colab": {
          "base_uri": "https://localhost:8080/"
        },
        "outputId": "5fdfe9a0-2e60-4668-fbb4-f34dd63d7b3b"
      },
      "execution_count": null,
      "outputs": [
        {
          "output_type": "stream",
          "name": "stdout",
          "text": [
            "[ 1.23814829e+18  8.39587636e+17  5.09143536e+17 ... -5.12664070e+17\n",
            " -8.40100939e+17 -1.22846209e+18]\n",
            "(10304,)\n",
            "[[ 0.01546645 -0.01532329  0.00107502 ... -0.00067285  0.01542198\n",
            "  -0.01566157]\n",
            " [ 0.01519905 -0.01490355  0.00154007 ... -0.00113982  0.01500154\n",
            "  -0.01539516]\n",
            " [ 0.01507211 -0.01536317  0.00160428 ... -0.00119117  0.01561984\n",
            "  -0.01536788]\n",
            " ...\n",
            " [-0.0008092   0.00159349  0.00136606 ...  0.00135391  0.00165004\n",
            "  -0.00080553]\n",
            " [ 0.00120944 -0.00237716 -0.00254821 ... -0.00254566 -0.00241795\n",
            "   0.00119298]\n",
            " [ 0.00061009 -0.00075608 -0.00087022 ... -0.00087038 -0.00079486\n",
            "   0.00061657]]\n",
            "(10304, 10304)\n"
          ]
        }
      ]
    },
    {
      "cell_type": "code",
      "source": [
        "projection_matrix = S_eigenvecs[:,0:39]\n",
        "print(projection_matrix)\n",
        "print(projection_matrix.shape)"
      ],
      "metadata": {
        "id": "IhQ4gEufSYid",
        "colab": {
          "base_uri": "https://localhost:8080/"
        },
        "outputId": "73d593c9-7d02-405a-c0d4-894bfce43528"
      },
      "execution_count": null,
      "outputs": [
        {
          "output_type": "stream",
          "name": "stdout",
          "text": [
            "[[ 0.01546645 -0.01532329  0.00107502 ... -0.00527558  0.0084604\n",
            "  -0.00235456]\n",
            " [ 0.01519905 -0.01490355  0.00154007 ... -0.00439124  0.00998622\n",
            "  -0.0027463 ]\n",
            " [ 0.01507211 -0.01536317  0.00160428 ... -0.00578172  0.00860771\n",
            "  -0.00264924]\n",
            " ...\n",
            " [-0.0008092   0.00159349  0.00136606 ...  0.00118761  0.0001376\n",
            "  -0.00040163]\n",
            " [ 0.00120944 -0.00237716 -0.00254821 ...  0.00248414  0.00146296\n",
            "  -0.00190362]\n",
            " [ 0.00061009 -0.00075608 -0.00087022 ... -0.00225601 -0.00045022\n",
            "  -0.00082102]]\n",
            "(10304, 39)\n"
          ]
        }
      ]
    },
    {
      "cell_type": "code",
      "execution_count": null,
      "metadata": {
        "id": "j7Be_w09p57I",
        "colab": {
          "base_uri": "https://localhost:8080/"
        },
        "outputId": "e5d87958-8027-4b6d-f8bb-28500375d5d9"
      },
      "outputs": [
        {
          "output_type": "stream",
          "name": "stdout",
          "text": [
            "Reduced Data Matrix\n",
            " [[4767.11445797 2835.86680959 2691.44538574 ...   95.05042948\n",
            "    80.42716632 -684.47535461]\n",
            " [3839.84953207 2186.32312804 1991.38530969 ...  234.1959398\n",
            "  -146.57990062 -345.60858354]\n",
            " [4780.00560332 1397.03003451 1893.91715944 ...   77.15769502\n",
            "  -168.08065498 -550.63019572]\n",
            " ...\n",
            " [4243.26434218  783.19235934 2211.19019321 ...  243.96283753\n",
            "   116.87092469 -659.40389265]\n",
            " [4325.8172513  1543.64251529 2949.74299173 ...   50.52993494\n",
            "  -264.90308997 -390.64038372]\n",
            " [4577.31379607 2090.44739121 2885.29474397 ...  209.66731442\n",
            "    43.75087214 -385.91458901]]\n",
            "Reduced Data Matrix Dimensions\n",
            " (120, 39)\n"
          ]
        }
      ],
      "source": [
        "test_LDA =np.dot(np.transpose(projection_matrix),np.transpose(test_data))\n",
        "test_LDA = np.transpose(test_LDA)\n",
        "print(\"Reduced Data Matrix\\n\",test_LDA)\n",
        "print(\"Reduced Data Matrix Dimensions\\n\",test_LDA.shape)\n",
        "train_LDA=np.dot(np.transpose(projection_matrix),np.transpose(train_data))\n",
        "train_LDA = np.transpose(train_LDA)"
      ]
    },
    {
      "cell_type": "code",
      "execution_count": null,
      "metadata": {
        "id": "sqNcjXbWrQk4",
        "colab": {
          "base_uri": "https://localhost:8080/"
        },
        "outputId": "183cd4d4-b2f8-4962-ccde-4b81da578fb9"
      },
      "outputs": [
        {
          "output_type": "stream",
          "name": "stdout",
          "text": [
            "Train Data Dimensions: (280, 39)\n",
            "Test Data Dimensions: (120, 39)\n"
          ]
        }
      ],
      "source": [
        "X_train = train_LDA\n",
        "X_test = test_LDA\n",
        "y_train=train_labels\n",
        "y_test=test_labels\n",
        "print(\"Train Data Dimensions:\",train_LDA.shape)\n",
        "print(\"Test Data Dimensions:\",test_LDA.shape)\n"
      ]
    },
    {
      "cell_type": "code",
      "source": [
        "k_neighbours = [1, 3, 5, 7]\n",
        "accuracies_LDA = np.empty( (len(k_neighbours),))\n",
        "\n",
        "\n",
        "\n",
        "for i, k in enumerate(k_neighbours):\n",
        "  print(str(k) + \" nearest neighbours\")\n",
        "  accuracy = KNNclf(k, X_train, y_train, X_test, y_test)\n",
        "  accuracies_LDA[i] = accuracy\n",
        "\n",
        "\n",
        "accuracies_LDA = np.transpose(accuracies_LDA)\n",
        "accuracies_LDA"
      ],
      "metadata": {
        "id": "avDp8DTNSx4l",
        "colab": {
          "base_uri": "https://localhost:8080/"
        },
        "outputId": "7ed9bb9b-c41a-4f5a-de7e-0c1cfaf19799"
      },
      "execution_count": null,
      "outputs": [
        {
          "output_type": "stream",
          "name": "stdout",
          "text": [
            "1 nearest neighbours\n",
            "Accuracy:  0.825\n",
            "3 nearest neighbours\n",
            "Accuracy:  0.8\n",
            "5 nearest neighbours\n",
            "Accuracy:  0.7583333333333333\n",
            "7 nearest neighbours\n",
            "Accuracy:  0.675\n"
          ]
        },
        {
          "output_type": "execute_result",
          "data": {
            "text/plain": [
              "array([0.825     , 0.8       , 0.75833333, 0.675     ])"
            ]
          },
          "metadata": {},
          "execution_count": 34
        }
      ]
    },
    {
      "cell_type": "code",
      "source": [
        "plt.figure(figsize=(7, 7))\n",
        "\n",
        "plt.plot(k_neighbours, accuracies_LDA)\n",
        "\n"
      ],
      "metadata": {
        "id": "NM8xtDnqT8TV",
        "colab": {
          "base_uri": "https://localhost:8080/",
          "height": 72
        },
        "outputId": "7ef6e4f1-c099-462e-8aa2-00111c8e1233"
      },
      "execution_count": null,
      "outputs": [
        {
          "output_type": "execute_result",
          "data": {
            "text/plain": [
              "[<matplotlib.lines.Line2D at 0x7f3a3f049dd0>]"
            ]
          },
          "metadata": {},
          "execution_count": 35
        },
        {
          "output_type": "display_data",
          "data": {
            "text/plain": [
              "<Figure size 504x504 with 1 Axes>"
            ],
            "image/png": "[encoded data removed]"
          },
          "metadata": {
            "needs_background": "light"
          }
        }
      ]
    }
  ],
  "metadata": {
    "colab": {
      "collapsed_sections": [],
      "name": "PR_6360_6521_6609_bonus.ipynb",
      "provenance": []
    },
    "kernelspec": {
      "display_name": "Python 3",
      "name": "python3"
    },
    "language_info": {
      "name": "python"
    },
    "accelerator": "GPU"
  },
  "nbformat": 4,
  "nbformat_minor": 0
}