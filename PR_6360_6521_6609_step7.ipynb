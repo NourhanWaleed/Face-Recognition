{
  "nbformat": 4,
  "nbformat_minor": 0,
  "metadata": {
    "colab": {
      "name": "PR_6360_6521_6609_step7.ipynb",
      "provenance": []
    },
    "kernelspec": {
      "name": "python3",
      "display_name": "Python 3"
    },
    "language_info": {
      "name": "python"
    },
    "accelerator": "GPU"
  },
  "cells": [
    {
      "cell_type": "code",
      "execution_count": null,
      "metadata": {
        "id": "4--1lKbohsjh"
      },
      "outputs": [],
      "source": [
        "import os\n",
        "import cv2\n",
        "from google.colab.patches import cv2_imshow\n",
        "import numpy as np\n",
        "from numpy import linalg as LA\n",
        "from sklearn.neighbors import KNeighborsClassifier\n",
        "from sklearn import metrics\n",
        "from sklearn.metrics import classification_report, confusion_matrix\n",
        "import matplotlib.pyplot as plt\n",
        "from random import sample\n",
        "import random"
      ]
    },
    {
      "cell_type": "code",
      "execution_count": null,
      "metadata": {
        "colab": {
          "base_uri": "https://localhost:8080/",
          "height": 74,
          "resources": {
            "http://localhost:8080/nbextensions/google.colab/files.js": {
              "data": "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",
              "headers": [
                [
                  "content-type",
                  "application/javascript"
                ]
              ],
              "ok": true,
              "status": 200,
              "status_text": ""
            }
          }
        },
        "id": "yac6NfsqgWiZ",
        "outputId": "6b85b60f-30d5-4d3f-ebf4-a799899f93fd"
      },
      "outputs": [
        {
          "output_type": "display_data",
          "data": {
            "text/plain": [
              "<IPython.core.display.HTML object>"
            ],
            "text/html": [
              "\n",
              "     <input type=\"file\" id=\"files-493a2e01-d95c-4834-94f3-346c95729890\" name=\"files[]\" multiple disabled\n",
              "        style=\"border:none\" />\n",
              "     <output id=\"result-493a2e01-d95c-4834-94f3-346c95729890\">\n",
              "      Upload widget is only available when the cell has been executed in the\n",
              "      current browser session. Please rerun this cell to enable.\n",
              "      </output>\n",
              "      <script src=\"/nbextensions/google.colab/files.js\"></script> "
            ]
          },
          "metadata": {}
        },
        {
          "output_type": "stream",
          "name": "stdout",
          "text": [
            "Saving archive.zip to archive.zip\n"
          ]
        }
      ],
      "source": [
        "from google.colab import files\n",
        "uploaded = files.upload()"
      ]
    },
    {
      "cell_type": "code",
      "execution_count": null,
      "metadata": {
        "id": "UmdC_bmwgmhp",
        "colab": {
          "base_uri": "https://localhost:8080/"
        },
        "outputId": "2193c8cd-e8bc-43e7-d57e-826b06f9d66f"
      },
      "outputs": [
        {
          "output_type": "stream",
          "name": "stdout",
          "text": [
            "Archive:  archive.zip\n",
            "  inflating: images/README           \n",
            "  inflating: images/s1/1.pgm         \n",
            "  inflating: images/s1/10.pgm        \n",
            "  inflating: images/s1/2.pgm         \n",
            "  inflating: images/s1/3.pgm         \n",
            "  inflating: images/s1/4.pgm         \n",
            "  inflating: images/s1/5.pgm         \n",
            "  inflating: images/s1/6.pgm         \n",
            "  inflating: images/s1/7.pgm         \n",
            "  inflating: images/s1/8.pgm         \n",
            "  inflating: images/s1/9.pgm         \n",
            "  inflating: images/s10/1.pgm        \n",
            "  inflating: images/s10/10.pgm       \n",
            "  inflating: images/s10/2.pgm        \n",
            "  inflating: images/s10/3.pgm        \n",
            "  inflating: images/s10/4.pgm        \n",
            "  inflating: images/s10/5.pgm        \n",
            "  inflating: images/s10/6.pgm        \n",
            "  inflating: images/s10/7.pgm        \n",
            "  inflating: images/s10/8.pgm        \n",
            "  inflating: images/s10/9.pgm        \n",
            "  inflating: images/s11/1.pgm        \n",
            "  inflating: images/s11/10.pgm       \n",
            "  inflating: images/s11/2.pgm        \n",
            "  inflating: images/s11/3.pgm        \n",
            "  inflating: images/s11/4.pgm        \n",
            "  inflating: images/s11/5.pgm        \n",
            "  inflating: images/s11/6.pgm        \n",
            "  inflating: images/s11/7.pgm        \n",
            "  inflating: images/s11/8.pgm        \n",
            "  inflating: images/s11/9.pgm        \n",
            "  inflating: images/s12/1.pgm        \n",
            "  inflating: images/s12/10.pgm       \n",
            "  inflating: images/s12/2.pgm        \n",
            "  inflating: images/s12/3.pgm        \n",
            "  inflating: images/s12/4.pgm        \n",
            "  inflating: images/s12/5.pgm        \n",
            "  inflating: images/s12/6.pgm        \n",
            "  inflating: images/s12/7.pgm        \n",
            "  inflating: images/s12/8.pgm        \n",
            "  inflating: images/s12/9.pgm        \n",
            "  inflating: images/s13/1.pgm        \n",
            "  inflating: images/s13/10.pgm       \n",
            "  inflating: images/s13/2.pgm        \n",
            "  inflating: images/s13/3.pgm        \n",
            "  inflating: images/s13/4.pgm        \n",
            "  inflating: images/s13/5.pgm        \n",
            "  inflating: images/s13/6.pgm        \n",
            "  inflating: images/s13/7.pgm        \n",
            "  inflating: images/s13/8.pgm        \n",
            "  inflating: images/s13/9.pgm        \n",
            "  inflating: images/s14/1.pgm        \n",
            "  inflating: images/s14/10.pgm       \n",
            "  inflating: images/s14/2.pgm        \n",
            "  inflating: images/s14/3.pgm        \n",
            "  inflating: images/s14/4.pgm        \n",
            "  inflating: images/s14/5.pgm        \n",
            "  inflating: images/s14/6.pgm        \n",
            "  inflating: images/s14/7.pgm        \n",
            "  inflating: images/s14/8.pgm        \n",
            "  inflating: images/s14/9.pgm        \n",
            "  inflating: images/s15/1.pgm        \n",
            "  inflating: images/s15/10.pgm       \n",
            "  inflating: images/s15/2.pgm        \n",
            "  inflating: images/s15/3.pgm        \n",
            "  inflating: images/s15/4.pgm        \n",
            "  inflating: images/s15/5.pgm        \n",
            "  inflating: images/s15/6.pgm        \n",
            "  inflating: images/s15/7.pgm        \n",
            "  inflating: images/s15/8.pgm        \n",
            "  inflating: images/s15/9.pgm        \n",
            "  inflating: images/s16/1.pgm        \n",
            "  inflating: images/s16/10.pgm       \n",
            "  inflating: images/s16/2.pgm        \n",
            "  inflating: images/s16/3.pgm        \n",
            "  inflating: images/s16/4.pgm        \n",
            "  inflating: images/s16/5.pgm        \n",
            "  inflating: images/s16/6.pgm        \n",
            "  inflating: images/s16/7.pgm        \n",
            "  inflating: images/s16/8.pgm        \n",
            "  inflating: images/s16/9.pgm        \n",
            "  inflating: images/s17/1.pgm        \n",
            "  inflating: images/s17/10.pgm       \n",
            "  inflating: images/s17/2.pgm        \n",
            "  inflating: images/s17/3.pgm        \n",
            "  inflating: images/s17/4.pgm        \n",
            "  inflating: images/s17/5.pgm        \n",
            "  inflating: images/s17/6.pgm        \n",
            "  inflating: images/s17/7.pgm        \n",
            "  inflating: images/s17/8.pgm        \n",
            "  inflating: images/s17/9.pgm        \n",
            "  inflating: images/s18/1.pgm        \n",
            "  inflating: images/s18/10.pgm       \n",
            "  inflating: images/s18/2.pgm        \n",
            "  inflating: images/s18/3.pgm        \n",
            "  inflating: images/s18/4.pgm        \n",
            "  inflating: images/s18/5.pgm        \n",
            "  inflating: images/s18/6.pgm        \n",
            "  inflating: images/s18/7.pgm        \n",
            "  inflating: images/s18/8.pgm        \n",
            "  inflating: images/s18/9.pgm        \n",
            "  inflating: images/s19/1.pgm        \n",
            "  inflating: images/s19/10.pgm       \n",
            "  inflating: images/s19/2.pgm        \n",
            "  inflating: images/s19/3.pgm        \n",
            "  inflating: images/s19/4.pgm        \n",
            "  inflating: images/s19/5.pgm        \n",
            "  inflating: images/s19/6.pgm        \n",
            "  inflating: images/s19/7.pgm        \n",
            "  inflating: images/s19/8.pgm        \n",
            "  inflating: images/s19/9.pgm        \n",
            "  inflating: images/s2/1.pgm         \n",
            "  inflating: images/s2/10.pgm        \n",
            "  inflating: images/s2/2.pgm         \n",
            "  inflating: images/s2/3.pgm         \n",
            "  inflating: images/s2/4.pgm         \n",
            "  inflating: images/s2/5.pgm         \n",
            "  inflating: images/s2/6.pgm         \n",
            "  inflating: images/s2/7.pgm         \n",
            "  inflating: images/s2/8.pgm         \n",
            "  inflating: images/s2/9.pgm         \n",
            "  inflating: images/s20/1.pgm        \n",
            "  inflating: images/s20/10.pgm       \n",
            "  inflating: images/s20/2.pgm        \n",
            "  inflating: images/s20/3.pgm        \n",
            "  inflating: images/s20/4.pgm        \n",
            "  inflating: images/s20/5.pgm        \n",
            "  inflating: images/s20/6.pgm        \n",
            "  inflating: images/s20/7.pgm        \n",
            "  inflating: images/s20/8.pgm        \n",
            "  inflating: images/s20/9.pgm        \n",
            "  inflating: images/s21/1.pgm        \n",
            "  inflating: images/s21/10.pgm       \n",
            "  inflating: images/s21/2.pgm        \n",
            "  inflating: images/s21/3.pgm        \n",
            "  inflating: images/s21/4.pgm        \n",
            "  inflating: images/s21/5.pgm        \n",
            "  inflating: images/s21/6.pgm        \n",
            "  inflating: images/s21/7.pgm        \n",
            "  inflating: images/s21/8.pgm        \n",
            "  inflating: images/s21/9.pgm        \n",
            "  inflating: images/s22/1.pgm        \n",
            "  inflating: images/s22/10.pgm       \n",
            "  inflating: images/s22/2.pgm        \n",
            "  inflating: images/s22/3.pgm        \n",
            "  inflating: images/s22/4.pgm        \n",
            "  inflating: images/s22/5.pgm        \n",
            "  inflating: images/s22/6.pgm        \n",
            "  inflating: images/s22/7.pgm        \n",
            "  inflating: images/s22/8.pgm        \n",
            "  inflating: images/s22/9.pgm        \n",
            "  inflating: images/s23/1.pgm        \n",
            "  inflating: images/s23/10.pgm       \n",
            "  inflating: images/s23/2.pgm        \n",
            "  inflating: images/s23/3.pgm        \n",
            "  inflating: images/s23/4.pgm        \n",
            "  inflating: images/s23/5.pgm        \n",
            "  inflating: images/s23/6.pgm        \n",
            "  inflating: images/s23/7.pgm        \n",
            "  inflating: images/s23/8.pgm        \n",
            "  inflating: images/s23/9.pgm        \n",
            "  inflating: images/s24/1.pgm        \n",
            "  inflating: images/s24/10.pgm       \n",
            "  inflating: images/s24/2.pgm        \n",
            "  inflating: images/s24/3.pgm        \n",
            "  inflating: images/s24/4.pgm        \n",
            "  inflating: images/s24/5.pgm        \n",
            "  inflating: images/s24/6.pgm        \n",
            "  inflating: images/s24/7.pgm        \n",
            "  inflating: images/s24/8.pgm        \n",
            "  inflating: images/s24/9.pgm        \n",
            "  inflating: images/s25/1.pgm        \n",
            "  inflating: images/s25/10.pgm       \n",
            "  inflating: images/s25/2.pgm        \n",
            "  inflating: images/s25/3.pgm        \n",
            "  inflating: images/s25/4.pgm        \n",
            "  inflating: images/s25/5.pgm        \n",
            "  inflating: images/s25/6.pgm        \n",
            "  inflating: images/s25/7.pgm        \n",
            "  inflating: images/s25/8.pgm        \n",
            "  inflating: images/s25/9.pgm        \n",
            "  inflating: images/s26/1.pgm        \n",
            "  inflating: images/s26/10.pgm       \n",
            "  inflating: images/s26/2.pgm        \n",
            "  inflating: images/s26/3.pgm        \n",
            "  inflating: images/s26/4.pgm        \n",
            "  inflating: images/s26/5.pgm        \n",
            "  inflating: images/s26/6.pgm        \n",
            "  inflating: images/s26/7.pgm        \n",
            "  inflating: images/s26/8.pgm        \n",
            "  inflating: images/s26/9.pgm        \n",
            "  inflating: images/s27/1.pgm        \n",
            "  inflating: images/s27/10.pgm       \n",
            "  inflating: images/s27/2.pgm        \n",
            "  inflating: images/s27/3.pgm        \n",
            "  inflating: images/s27/4.pgm        \n",
            "  inflating: images/s27/5.pgm        \n",
            "  inflating: images/s27/6.pgm        \n",
            "  inflating: images/s27/7.pgm        \n",
            "  inflating: images/s27/8.pgm        \n",
            "  inflating: images/s27/9.pgm        \n",
            "  inflating: images/s28/1.pgm        \n",
            "  inflating: images/s28/10.pgm       \n",
            "  inflating: images/s28/2.pgm        \n",
            "  inflating: images/s28/3.pgm        \n",
            "  inflating: images/s28/4.pgm        \n",
            "  inflating: images/s28/5.pgm        \n",
            "  inflating: images/s28/6.pgm        \n",
            "  inflating: images/s28/7.pgm        \n",
            "  inflating: images/s28/8.pgm        \n",
            "  inflating: images/s28/9.pgm        \n",
            "  inflating: images/s29/1.pgm        \n",
            "  inflating: images/s29/10.pgm       \n",
            "  inflating: images/s29/2.pgm        \n",
            "  inflating: images/s29/3.pgm        \n",
            "  inflating: images/s29/4.pgm        \n",
            "  inflating: images/s29/5.pgm        \n",
            "  inflating: images/s29/6.pgm        \n",
            "  inflating: images/s29/7.pgm        \n",
            "  inflating: images/s29/8.pgm        \n",
            "  inflating: images/s29/9.pgm        \n",
            "  inflating: images/s3/1.pgm         \n",
            "  inflating: images/s3/10.pgm        \n",
            "  inflating: images/s3/2.pgm         \n",
            "  inflating: images/s3/3.pgm         \n",
            "  inflating: images/s3/4.pgm         \n",
            "  inflating: images/s3/5.pgm         \n",
            "  inflating: images/s3/6.pgm         \n",
            "  inflating: images/s3/7.pgm         \n",
            "  inflating: images/s3/8.pgm         \n",
            "  inflating: images/s3/9.pgm         \n",
            "  inflating: images/s30/1.pgm        \n",
            "  inflating: images/s30/10.pgm       \n",
            "  inflating: images/s30/2.pgm        \n",
            "  inflating: images/s30/3.pgm        \n",
            "  inflating: images/s30/4.pgm        \n",
            "  inflating: images/s30/5.pgm        \n",
            "  inflating: images/s30/6.pgm        \n",
            "  inflating: images/s30/7.pgm        \n",
            "  inflating: images/s30/8.pgm        \n",
            "  inflating: images/s30/9.pgm        \n",
            "  inflating: images/s31/1.pgm        \n",
            "  inflating: images/s31/10.pgm       \n",
            "  inflating: images/s31/2.pgm        \n",
            "  inflating: images/s31/3.pgm        \n",
            "  inflating: images/s31/4.pgm        \n",
            "  inflating: images/s31/5.pgm        \n",
            "  inflating: images/s31/6.pgm        \n",
            "  inflating: images/s31/7.pgm        \n",
            "  inflating: images/s31/8.pgm        \n",
            "  inflating: images/s31/9.pgm        \n",
            "  inflating: images/s32/1.pgm        \n",
            "  inflating: images/s32/10.pgm       \n",
            "  inflating: images/s32/2.pgm        \n",
            "  inflating: images/s32/3.pgm        \n",
            "  inflating: images/s32/4.pgm        \n",
            "  inflating: images/s32/5.pgm        \n",
            "  inflating: images/s32/6.pgm        \n",
            "  inflating: images/s32/7.pgm        \n",
            "  inflating: images/s32/8.pgm        \n",
            "  inflating: images/s32/9.pgm        \n",
            "  inflating: images/s33/1.pgm        \n",
            "  inflating: images/s33/10.pgm       \n",
            "  inflating: images/s33/2.pgm        \n",
            "  inflating: images/s33/3.pgm        \n",
            "  inflating: images/s33/4.pgm        \n",
            "  inflating: images/s33/5.pgm        \n",
            "  inflating: images/s33/6.pgm        \n",
            "  inflating: images/s33/7.pgm        \n",
            "  inflating: images/s33/8.pgm        \n",
            "  inflating: images/s33/9.pgm        \n",
            "  inflating: images/s34/1.pgm        \n",
            "  inflating: images/s34/10.pgm       \n",
            "  inflating: images/s34/2.pgm        \n",
            "  inflating: images/s34/3.pgm        \n",
            "  inflating: images/s34/4.pgm        \n",
            "  inflating: images/s34/5.pgm        \n",
            "  inflating: images/s34/6.pgm        \n",
            "  inflating: images/s34/7.pgm        \n",
            "  inflating: images/s34/8.pgm        \n",
            "  inflating: images/s34/9.pgm        \n",
            "  inflating: images/s35/1.pgm        \n",
            "  inflating: images/s35/10.pgm       \n",
            "  inflating: images/s35/2.pgm        \n",
            "  inflating: images/s35/3.pgm        \n",
            "  inflating: images/s35/4.pgm        \n",
            "  inflating: images/s35/5.pgm        \n",
            "  inflating: images/s35/6.pgm        \n",
            "  inflating: images/s35/7.pgm        \n",
            "  inflating: images/s35/8.pgm        \n",
            "  inflating: images/s35/9.pgm        \n",
            "  inflating: images/s36/1.pgm        \n",
            "  inflating: images/s36/10.pgm       \n",
            "  inflating: images/s36/2.pgm        \n",
            "  inflating: images/s36/3.pgm        \n",
            "  inflating: images/s36/4.pgm        \n",
            "  inflating: images/s36/5.pgm        \n",
            "  inflating: images/s36/6.pgm        \n",
            "  inflating: images/s36/7.pgm        \n",
            "  inflating: images/s36/8.pgm        \n",
            "  inflating: images/s36/9.pgm        \n",
            "  inflating: images/s37/1.pgm        \n",
            "  inflating: images/s37/10.pgm       \n",
            "  inflating: images/s37/2.pgm        \n",
            "  inflating: images/s37/3.pgm        \n",
            "  inflating: images/s37/4.pgm        \n",
            "  inflating: images/s37/5.pgm        \n",
            "  inflating: images/s37/6.pgm        \n",
            "  inflating: images/s37/7.pgm        \n",
            "  inflating: images/s37/8.pgm        \n",
            "  inflating: images/s37/9.pgm        \n",
            "  inflating: images/s38/1.pgm        \n",
            "  inflating: images/s38/10.pgm       \n",
            "  inflating: images/s38/2.pgm        \n",
            "  inflating: images/s38/3.pgm        \n",
            "  inflating: images/s38/4.pgm        \n",
            "  inflating: images/s38/5.pgm        \n",
            "  inflating: images/s38/6.pgm        \n",
            "  inflating: images/s38/7.pgm        \n",
            "  inflating: images/s38/8.pgm        \n",
            "  inflating: images/s38/9.pgm        \n",
            "  inflating: images/s39/1.pgm        \n",
            "  inflating: images/s39/10.pgm       \n",
            "  inflating: images/s39/2.pgm        \n",
            "  inflating: images/s39/3.pgm        \n",
            "  inflating: images/s39/4.pgm        \n",
            "  inflating: images/s39/5.pgm        \n",
            "  inflating: images/s39/6.pgm        \n",
            "  inflating: images/s39/7.pgm        \n",
            "  inflating: images/s39/8.pgm        \n",
            "  inflating: images/s39/9.pgm        \n",
            "  inflating: images/s4/1.pgm         \n",
            "  inflating: images/s4/10.pgm        \n",
            "  inflating: images/s4/2.pgm         \n",
            "  inflating: images/s4/3.pgm         \n",
            "  inflating: images/s4/4.pgm         \n",
            "  inflating: images/s4/5.pgm         \n",
            "  inflating: images/s4/6.pgm         \n",
            "  inflating: images/s4/7.pgm         \n",
            "  inflating: images/s4/8.pgm         \n",
            "  inflating: images/s4/9.pgm         \n",
            "  inflating: images/s40/1.pgm        \n",
            "  inflating: images/s40/10.pgm       \n",
            "  inflating: images/s40/2.pgm        \n",
            "  inflating: images/s40/3.pgm        \n",
            "  inflating: images/s40/4.pgm        \n",
            "  inflating: images/s40/5.pgm        \n",
            "  inflating: images/s40/6.pgm        \n",
            "  inflating: images/s40/7.pgm        \n",
            "  inflating: images/s40/8.pgm        \n",
            "  inflating: images/s40/9.pgm        \n",
            "  inflating: images/s5/1.pgm         \n",
            "  inflating: images/s5/10.pgm        \n",
            "  inflating: images/s5/2.pgm         \n",
            "  inflating: images/s5/3.pgm         \n",
            "  inflating: images/s5/4.pgm         \n",
            "  inflating: images/s5/5.pgm         \n",
            "  inflating: images/s5/6.pgm         \n",
            "  inflating: images/s5/7.pgm         \n",
            "  inflating: images/s5/8.pgm         \n",
            "  inflating: images/s5/9.pgm         \n",
            "  inflating: images/s6/1.pgm         \n",
            "  inflating: images/s6/10.pgm        \n",
            "  inflating: images/s6/2.pgm         \n",
            "  inflating: images/s6/3.pgm         \n",
            "  inflating: images/s6/4.pgm         \n",
            "  inflating: images/s6/5.pgm         \n",
            "  inflating: images/s6/6.pgm         \n",
            "  inflating: images/s6/7.pgm         \n",
            "  inflating: images/s6/8.pgm         \n",
            "  inflating: images/s6/9.pgm         \n",
            "  inflating: images/s7/1.pgm         \n",
            "  inflating: images/s7/10.pgm        \n",
            "  inflating: images/s7/2.pgm         \n",
            "  inflating: images/s7/3.pgm         \n",
            "  inflating: images/s7/4.pgm         \n",
            "  inflating: images/s7/5.pgm         \n",
            "  inflating: images/s7/6.pgm         \n",
            "  inflating: images/s7/7.pgm         \n",
            "  inflating: images/s7/8.pgm         \n",
            "  inflating: images/s7/9.pgm         \n",
            "  inflating: images/s8/1.pgm         \n",
            "  inflating: images/s8/10.pgm        \n",
            "  inflating: images/s8/2.pgm         \n",
            "  inflating: images/s8/3.pgm         \n",
            "  inflating: images/s8/4.pgm         \n",
            "  inflating: images/s8/5.pgm         \n",
            "  inflating: images/s8/6.pgm         \n",
            "  inflating: images/s8/7.pgm         \n",
            "  inflating: images/s8/8.pgm         \n",
            "  inflating: images/s8/9.pgm         \n",
            "  inflating: images/s9/1.pgm         \n",
            "  inflating: images/s9/10.pgm        \n",
            "  inflating: images/s9/2.pgm         \n",
            "  inflating: images/s9/3.pgm         \n",
            "  inflating: images/s9/4.pgm         \n",
            "  inflating: images/s9/5.pgm         \n",
            "  inflating: images/s9/6.pgm         \n",
            "  inflating: images/s9/7.pgm         \n",
            "  inflating: images/s9/8.pgm         \n",
            "  inflating: images/s9/9.pgm         \n"
          ]
        }
      ],
      "source": [
        "!unzip archive.zip -d images/\n"
      ]
    },
    {
      "cell_type": "code",
      "source": [
        "#%cd ..\n",
        "from google.colab import drive\n",
        "drive.mount('/content/gdrive')"
      ],
      "metadata": {
        "colab": {
          "base_uri": "https://localhost:8080/"
        },
        "id": "wfkvf9gvPmg4",
        "outputId": "ac6cb3d1-736d-4c20-ff08-df422cbffd03"
      },
      "execution_count": null,
      "outputs": [
        {
          "output_type": "stream",
          "name": "stdout",
          "text": [
            "Mounted at /content/gdrive\n"
          ]
        }
      ]
    },
    {
      "cell_type": "code",
      "source": [
        "!ln -s /content/gdrive/My\\ Drive/ /mydrive\n",
        "#!ls /mydrive"
      ],
      "metadata": {
        "id": "vr8eNVcxPt2V",
        "colab": {
          "base_uri": "https://localhost:8080/"
        },
        "outputId": "2899cf92-260e-4dc8-e186-810ee6638fff"
      },
      "execution_count": null,
      "outputs": [
        {
          "output_type": "stream",
          "name": "stdout",
          "text": [
            "ln: failed to create symbolic link '/mydrive/My Drive': File exists\n"
          ]
        }
      ]
    },
    {
      "cell_type": "code",
      "source": [
        "!ls /mydrive/pattern-recognition"
      ],
      "metadata": {
        "colab": {
          "base_uri": "https://localhost:8080/"
        },
        "id": "HKdpGWRxP9dZ",
        "outputId": "f0cb7ed1-f1f7-49b5-feb7-1ac289ebb4c3"
      },
      "execution_count": null,
      "outputs": [
        {
          "output_type": "stream",
          "name": "stdout",
          "text": [
            "non-face-resized.zip\n"
          ]
        }
      ]
    },
    {
      "cell_type": "code",
      "source": [
        "!unzip /mydrive/pattern-recognition/non-face-resized -d images2/\n"
      ],
      "metadata": {
        "id": "xcCb3rrzQLeJ",
        "colab": {
          "base_uri": "https://localhost:8080/"
        },
        "outputId": "0cd2f71b-05a9-442f-a61b-6b7de57dfe83"
      },
      "execution_count": null,
      "outputs": [
        {
          "output_type": "stream",
          "name": "stdout",
          "text": [
            "Archive:  /mydrive/pattern-recognition/non-face-resized.zip\n",
            "   creating: images2/non-face-resized/\n",
            "  inflating: images2/non-face-resized/frame1.jpg  \n",
            "  inflating: images2/non-face-resized/frame10.jpg  \n",
            "  inflating: images2/non-face-resized/frame100.jpg  \n",
            "  inflating: images2/non-face-resized/frame101.jpg  \n",
            "  inflating: images2/non-face-resized/frame102.jpg  \n",
            "  inflating: images2/non-face-resized/frame103.jpg  \n",
            "  inflating: images2/non-face-resized/frame104.jpg  \n",
            "  inflating: images2/non-face-resized/frame105.jpg  \n",
            "  inflating: images2/non-face-resized/frame106.jpg  \n",
            "  inflating: images2/non-face-resized/frame107.jpg  \n",
            "  inflating: images2/non-face-resized/frame108.jpg  \n",
            "  inflating: images2/non-face-resized/frame109.jpg  \n",
            "  inflating: images2/non-face-resized/frame11.jpg  \n",
            "  inflating: images2/non-face-resized/frame110.jpg  \n",
            "  inflating: images2/non-face-resized/frame111.jpg  \n",
            "  inflating: images2/non-face-resized/frame112.jpg  \n",
            "  inflating: images2/non-face-resized/frame113.jpg  \n",
            "  inflating: images2/non-face-resized/frame114.jpg  \n",
            "  inflating: images2/non-face-resized/frame115.jpg  \n",
            "  inflating: images2/non-face-resized/frame116.jpg  \n",
            "  inflating: images2/non-face-resized/frame117.jpg  \n",
            "  inflating: images2/non-face-resized/frame118.jpg  \n",
            "  inflating: images2/non-face-resized/frame119.jpg  \n",
            "  inflating: images2/non-face-resized/frame12.jpg  \n",
            "  inflating: images2/non-face-resized/frame120.jpg  \n",
            "  inflating: images2/non-face-resized/frame121.jpg  \n",
            "  inflating: images2/non-face-resized/frame122.jpg  \n",
            "  inflating: images2/non-face-resized/frame123.jpg  \n",
            "  inflating: images2/non-face-resized/frame124.jpg  \n",
            "  inflating: images2/non-face-resized/frame125.jpg  \n",
            "  inflating: images2/non-face-resized/frame126.jpg  \n",
            "  inflating: images2/non-face-resized/frame127.jpg  \n",
            "  inflating: images2/non-face-resized/frame128.jpg  \n",
            "  inflating: images2/non-face-resized/frame129.jpg  \n",
            "  inflating: images2/non-face-resized/frame13.jpg  \n",
            "  inflating: images2/non-face-resized/frame130.jpg  \n",
            "  inflating: images2/non-face-resized/frame131.jpg  \n",
            "  inflating: images2/non-face-resized/frame132.jpg  \n",
            "  inflating: images2/non-face-resized/frame133.jpg  \n",
            "  inflating: images2/non-face-resized/frame134.jpg  \n",
            "  inflating: images2/non-face-resized/frame135.jpg  \n",
            "  inflating: images2/non-face-resized/frame136.jpg  \n",
            "  inflating: images2/non-face-resized/frame137.jpg  \n",
            "  inflating: images2/non-face-resized/frame138.jpg  \n",
            "  inflating: images2/non-face-resized/frame139.jpg  \n",
            "  inflating: images2/non-face-resized/frame14.jpg  \n",
            "  inflating: images2/non-face-resized/frame140.jpg  \n",
            "  inflating: images2/non-face-resized/frame141.jpg  \n",
            "  inflating: images2/non-face-resized/frame142.jpg  \n",
            "  inflating: images2/non-face-resized/frame143.jpg  \n",
            "  inflating: images2/non-face-resized/frame144.jpg  \n",
            "  inflating: images2/non-face-resized/frame145.jpg  \n",
            "  inflating: images2/non-face-resized/frame146.jpg  \n",
            "  inflating: images2/non-face-resized/frame147.jpg  \n",
            "  inflating: images2/non-face-resized/frame148.jpg  \n",
            "  inflating: images2/non-face-resized/frame149.jpg  \n",
            "  inflating: images2/non-face-resized/frame15.jpg  \n",
            "  inflating: images2/non-face-resized/frame150.jpg  \n",
            "  inflating: images2/non-face-resized/frame151.jpg  \n",
            "  inflating: images2/non-face-resized/frame152.jpg  \n",
            "  inflating: images2/non-face-resized/frame153.jpg  \n",
            "  inflating: images2/non-face-resized/frame154.jpg  \n",
            "  inflating: images2/non-face-resized/frame155.jpg  \n",
            "  inflating: images2/non-face-resized/frame156.jpg  \n",
            "  inflating: images2/non-face-resized/frame157.jpg  \n",
            "  inflating: images2/non-face-resized/frame158.jpg  \n",
            "  inflating: images2/non-face-resized/frame159.jpg  \n",
            "  inflating: images2/non-face-resized/frame16.jpg  \n",
            "  inflating: images2/non-face-resized/frame160.jpg  \n",
            "  inflating: images2/non-face-resized/frame161.jpg  \n",
            "  inflating: images2/non-face-resized/frame162.jpg  \n",
            "  inflating: images2/non-face-resized/frame163.jpg  \n",
            "  inflating: images2/non-face-resized/frame164.jpg  \n",
            "  inflating: images2/non-face-resized/frame165.jpg  \n",
            "  inflating: images2/non-face-resized/frame166.jpg  \n",
            "  inflating: images2/non-face-resized/frame167.jpg  \n",
            "  inflating: images2/non-face-resized/frame168.jpg  \n",
            "  inflating: images2/non-face-resized/frame169.jpg  \n",
            "  inflating: images2/non-face-resized/frame17.jpg  \n",
            "  inflating: images2/non-face-resized/frame170.jpg  \n",
            "  inflating: images2/non-face-resized/frame171.jpg  \n",
            "  inflating: images2/non-face-resized/frame172.jpg  \n",
            "  inflating: images2/non-face-resized/frame173.jpg  \n",
            "  inflating: images2/non-face-resized/frame174.jpg  \n",
            "  inflating: images2/non-face-resized/frame175.jpg  \n",
            "  inflating: images2/non-face-resized/frame176.jpg  \n",
            "  inflating: images2/non-face-resized/frame177.jpg  \n",
            "  inflating: images2/non-face-resized/frame178.jpg  \n",
            "  inflating: images2/non-face-resized/frame179.jpg  \n",
            "  inflating: images2/non-face-resized/frame18.jpg  \n",
            "  inflating: images2/non-face-resized/frame180.jpg  \n",
            "  inflating: images2/non-face-resized/frame181.jpg  \n",
            "  inflating: images2/non-face-resized/frame182.jpg  \n",
            "  inflating: images2/non-face-resized/frame183.jpg  \n",
            "  inflating: images2/non-face-resized/frame184.jpg  \n",
            "  inflating: images2/non-face-resized/frame185.jpg  \n",
            "  inflating: images2/non-face-resized/frame186.jpg  \n",
            "  inflating: images2/non-face-resized/frame187.jpg  \n",
            "  inflating: images2/non-face-resized/frame188.jpg  \n",
            "  inflating: images2/non-face-resized/frame189.jpg  \n",
            "  inflating: images2/non-face-resized/frame19.jpg  \n",
            "  inflating: images2/non-face-resized/frame190.jpg  \n",
            "  inflating: images2/non-face-resized/frame191.jpg  \n",
            "  inflating: images2/non-face-resized/frame192.jpg  \n",
            "  inflating: images2/non-face-resized/frame193.jpg  \n",
            "  inflating: images2/non-face-resized/frame194.jpg  \n",
            "  inflating: images2/non-face-resized/frame195.jpg  \n",
            "  inflating: images2/non-face-resized/frame196.jpg  \n",
            "  inflating: images2/non-face-resized/frame197.jpg  \n",
            "  inflating: images2/non-face-resized/frame198.jpg  \n",
            "  inflating: images2/non-face-resized/frame199.jpg  \n",
            "  inflating: images2/non-face-resized/frame2.jpg  \n",
            "  inflating: images2/non-face-resized/frame20.jpg  \n",
            "  inflating: images2/non-face-resized/frame200.jpg  \n",
            "  inflating: images2/non-face-resized/frame201.jpg  \n",
            "  inflating: images2/non-face-resized/frame202.jpg  \n",
            "  inflating: images2/non-face-resized/frame203.jpg  \n",
            "  inflating: images2/non-face-resized/frame204.jpg  \n",
            "  inflating: images2/non-face-resized/frame205.jpg  \n",
            "  inflating: images2/non-face-resized/frame206.jpg  \n",
            "  inflating: images2/non-face-resized/frame207.jpg  \n",
            "  inflating: images2/non-face-resized/frame208.jpg  \n",
            "  inflating: images2/non-face-resized/frame209.jpg  \n",
            "  inflating: images2/non-face-resized/frame21.jpg  \n",
            "  inflating: images2/non-face-resized/frame210.jpg  \n",
            "  inflating: images2/non-face-resized/frame211.jpg  \n",
            "  inflating: images2/non-face-resized/frame212.jpg  \n",
            "  inflating: images2/non-face-resized/frame213.jpg  \n",
            "  inflating: images2/non-face-resized/frame214.jpg  \n",
            "  inflating: images2/non-face-resized/frame215.jpg  \n",
            "  inflating: images2/non-face-resized/frame216.jpg  \n",
            "  inflating: images2/non-face-resized/frame217.jpg  \n",
            "  inflating: images2/non-face-resized/frame218.jpg  \n",
            "  inflating: images2/non-face-resized/frame219.jpg  \n",
            "  inflating: images2/non-face-resized/frame22.jpg  \n",
            "  inflating: images2/non-face-resized/frame220.jpg  \n",
            "  inflating: images2/non-face-resized/frame221.jpg  \n",
            "  inflating: images2/non-face-resized/frame222.jpg  \n",
            "  inflating: images2/non-face-resized/frame223.jpg  \n",
            "  inflating: images2/non-face-resized/frame224.jpg  \n",
            "  inflating: images2/non-face-resized/frame225.jpg  \n",
            "  inflating: images2/non-face-resized/frame226.jpg  \n",
            "  inflating: images2/non-face-resized/frame227.jpg  \n",
            "  inflating: images2/non-face-resized/frame228.jpg  \n",
            "  inflating: images2/non-face-resized/frame229.jpg  \n",
            "  inflating: images2/non-face-resized/frame23.jpg  \n",
            "  inflating: images2/non-face-resized/frame230.jpg  \n",
            "  inflating: images2/non-face-resized/frame231.jpg  \n",
            "  inflating: images2/non-face-resized/frame232.jpg  \n",
            "  inflating: images2/non-face-resized/frame233.jpg  \n",
            "  inflating: images2/non-face-resized/frame234.jpg  \n",
            "  inflating: images2/non-face-resized/frame235.jpg  \n",
            "  inflating: images2/non-face-resized/frame236.jpg  \n",
            "  inflating: images2/non-face-resized/frame237.jpg  \n",
            "  inflating: images2/non-face-resized/frame238.jpg  \n",
            "  inflating: images2/non-face-resized/frame239.jpg  \n",
            "  inflating: images2/non-face-resized/frame24.jpg  \n",
            "  inflating: images2/non-face-resized/frame240.jpg  \n",
            "  inflating: images2/non-face-resized/frame241.jpg  \n",
            "  inflating: images2/non-face-resized/frame242.jpg  \n",
            "  inflating: images2/non-face-resized/frame243.jpg  \n",
            "  inflating: images2/non-face-resized/frame244.jpg  \n",
            "  inflating: images2/non-face-resized/frame245.jpg  \n",
            "  inflating: images2/non-face-resized/frame246.jpg  \n",
            "  inflating: images2/non-face-resized/frame247.jpg  \n",
            "  inflating: images2/non-face-resized/frame248.jpg  \n",
            "  inflating: images2/non-face-resized/frame249.jpg  \n",
            "  inflating: images2/non-face-resized/frame25.jpg  \n",
            "  inflating: images2/non-face-resized/frame250.jpg  \n",
            "  inflating: images2/non-face-resized/frame251.jpg  \n",
            "  inflating: images2/non-face-resized/frame252.jpg  \n",
            "  inflating: images2/non-face-resized/frame253.jpg  \n",
            "  inflating: images2/non-face-resized/frame254.jpg  \n",
            "  inflating: images2/non-face-resized/frame255.jpg  \n",
            "  inflating: images2/non-face-resized/frame256.jpg  \n",
            "  inflating: images2/non-face-resized/frame257.jpg  \n",
            "  inflating: images2/non-face-resized/frame258.jpg  \n",
            "  inflating: images2/non-face-resized/frame259.jpg  \n",
            "  inflating: images2/non-face-resized/frame26.jpg  \n",
            "  inflating: images2/non-face-resized/frame260.jpg  \n",
            "  inflating: images2/non-face-resized/frame261.jpg  \n",
            "  inflating: images2/non-face-resized/frame262.jpg  \n",
            "  inflating: images2/non-face-resized/frame263.jpg  \n",
            "  inflating: images2/non-face-resized/frame264.jpg  \n",
            "  inflating: images2/non-face-resized/frame265.jpg  \n",
            "  inflating: images2/non-face-resized/frame266.jpg  \n",
            "  inflating: images2/non-face-resized/frame267.jpg  \n",
            "  inflating: images2/non-face-resized/frame268.jpg  \n",
            "  inflating: images2/non-face-resized/frame269.jpg  \n",
            "  inflating: images2/non-face-resized/frame27.jpg  \n",
            "  inflating: images2/non-face-resized/frame270.jpg  \n",
            "  inflating: images2/non-face-resized/frame271.jpg  \n",
            "  inflating: images2/non-face-resized/frame272.jpg  \n",
            "  inflating: images2/non-face-resized/frame273.jpg  \n",
            "  inflating: images2/non-face-resized/frame274.jpg  \n",
            "  inflating: images2/non-face-resized/frame275.jpg  \n",
            "  inflating: images2/non-face-resized/frame276.jpg  \n",
            "  inflating: images2/non-face-resized/frame277.jpg  \n",
            "  inflating: images2/non-face-resized/frame278.jpg  \n",
            "  inflating: images2/non-face-resized/frame279.jpg  \n",
            "  inflating: images2/non-face-resized/frame28.jpg  \n",
            "  inflating: images2/non-face-resized/frame280.jpg  \n",
            "  inflating: images2/non-face-resized/frame281.jpg  \n",
            "  inflating: images2/non-face-resized/frame282.jpg  \n",
            "  inflating: images2/non-face-resized/frame283.jpg  \n",
            "  inflating: images2/non-face-resized/frame284.jpg  \n",
            "  inflating: images2/non-face-resized/frame285.jpg  \n",
            "  inflating: images2/non-face-resized/frame286.jpg  \n",
            "  inflating: images2/non-face-resized/frame287.jpg  \n",
            "  inflating: images2/non-face-resized/frame288.jpg  \n",
            "  inflating: images2/non-face-resized/frame289.jpg  \n",
            "  inflating: images2/non-face-resized/frame29.jpg  \n",
            "  inflating: images2/non-face-resized/frame290.jpg  \n",
            "  inflating: images2/non-face-resized/frame291.jpg  \n",
            "  inflating: images2/non-face-resized/frame292.jpg  \n",
            "  inflating: images2/non-face-resized/frame293.jpg  \n",
            "  inflating: images2/non-face-resized/frame294.jpg  \n",
            "  inflating: images2/non-face-resized/frame295.jpg  \n",
            "  inflating: images2/non-face-resized/frame296.jpg  \n",
            "  inflating: images2/non-face-resized/frame297.jpg  \n",
            "  inflating: images2/non-face-resized/frame298.jpg  \n",
            "  inflating: images2/non-face-resized/frame299.jpg  \n",
            "  inflating: images2/non-face-resized/frame3.jpg  \n",
            "  inflating: images2/non-face-resized/frame30.jpg  \n",
            "  inflating: images2/non-face-resized/frame300.jpg  \n",
            "  inflating: images2/non-face-resized/frame301.jpg  \n",
            "  inflating: images2/non-face-resized/frame302.jpg  \n",
            "  inflating: images2/non-face-resized/frame303.jpg  \n",
            "  inflating: images2/non-face-resized/frame304.jpg  \n",
            "  inflating: images2/non-face-resized/frame305.jpg  \n",
            "  inflating: images2/non-face-resized/frame306.jpg  \n",
            "  inflating: images2/non-face-resized/frame307.jpg  \n",
            "  inflating: images2/non-face-resized/frame308.jpg  \n",
            "  inflating: images2/non-face-resized/frame309.jpg  \n",
            "  inflating: images2/non-face-resized/frame31.jpg  \n",
            "  inflating: images2/non-face-resized/frame310.jpg  \n",
            "  inflating: images2/non-face-resized/frame311.jpg  \n",
            "  inflating: images2/non-face-resized/frame312.jpg  \n",
            "  inflating: images2/non-face-resized/frame313.jpg  \n",
            "  inflating: images2/non-face-resized/frame314.jpg  \n",
            "  inflating: images2/non-face-resized/frame315.jpg  \n",
            "  inflating: images2/non-face-resized/frame316.jpg  \n",
            "  inflating: images2/non-face-resized/frame317.jpg  \n",
            "  inflating: images2/non-face-resized/frame318.jpg  \n",
            "  inflating: images2/non-face-resized/frame319.jpg  \n",
            "  inflating: images2/non-face-resized/frame32.jpg  \n",
            "  inflating: images2/non-face-resized/frame320.jpg  \n",
            "  inflating: images2/non-face-resized/frame321.jpg  \n",
            "  inflating: images2/non-face-resized/frame322.jpg  \n",
            "  inflating: images2/non-face-resized/frame323.jpg  \n",
            "  inflating: images2/non-face-resized/frame324.jpg  \n",
            "  inflating: images2/non-face-resized/frame325.jpg  \n",
            "  inflating: images2/non-face-resized/frame326.jpg  \n",
            "  inflating: images2/non-face-resized/frame327.jpg  \n",
            "  inflating: images2/non-face-resized/frame328.jpg  \n",
            "  inflating: images2/non-face-resized/frame329.jpg  \n",
            "  inflating: images2/non-face-resized/frame33.jpg  \n",
            "  inflating: images2/non-face-resized/frame330.jpg  \n",
            "  inflating: images2/non-face-resized/frame331.jpg  \n",
            "  inflating: images2/non-face-resized/frame332.jpg  \n",
            "  inflating: images2/non-face-resized/frame333.jpg  \n",
            "  inflating: images2/non-face-resized/frame334.jpg  \n",
            "  inflating: images2/non-face-resized/frame335.jpg  \n",
            "  inflating: images2/non-face-resized/frame336.jpg  \n",
            "  inflating: images2/non-face-resized/frame337.jpg  \n",
            "  inflating: images2/non-face-resized/frame338.jpg  \n",
            "  inflating: images2/non-face-resized/frame339.jpg  \n",
            "  inflating: images2/non-face-resized/frame34.jpg  \n",
            "  inflating: images2/non-face-resized/frame340.jpg  \n",
            "  inflating: images2/non-face-resized/frame341.jpg  \n",
            "  inflating: images2/non-face-resized/frame342.jpg  \n",
            "  inflating: images2/non-face-resized/frame343.jpg  \n",
            "  inflating: images2/non-face-resized/frame344.jpg  \n",
            "  inflating: images2/non-face-resized/frame345.jpg  \n",
            "  inflating: images2/non-face-resized/frame346.jpg  \n",
            "  inflating: images2/non-face-resized/frame347.jpg  \n",
            "  inflating: images2/non-face-resized/frame348.jpg  \n",
            "  inflating: images2/non-face-resized/frame349.jpg  \n",
            "  inflating: images2/non-face-resized/frame35.jpg  \n",
            "  inflating: images2/non-face-resized/frame350.jpg  \n",
            "  inflating: images2/non-face-resized/frame351.jpg  \n",
            "  inflating: images2/non-face-resized/frame352.jpg  \n",
            "  inflating: images2/non-face-resized/frame353.jpg  \n",
            "  inflating: images2/non-face-resized/frame354.jpg  \n",
            "  inflating: images2/non-face-resized/frame355.jpg  \n",
            "  inflating: images2/non-face-resized/frame356.jpg  \n",
            "  inflating: images2/non-face-resized/frame357.jpg  \n",
            "  inflating: images2/non-face-resized/frame358.jpg  \n",
            "  inflating: images2/non-face-resized/frame359.jpg  \n",
            "  inflating: images2/non-face-resized/frame36.jpg  \n",
            "  inflating: images2/non-face-resized/frame360.jpg  \n",
            "  inflating: images2/non-face-resized/frame361.jpg  \n",
            "  inflating: images2/non-face-resized/frame362.jpg  \n",
            "  inflating: images2/non-face-resized/frame363.jpg  \n",
            "  inflating: images2/non-face-resized/frame364.jpg  \n",
            "  inflating: images2/non-face-resized/frame365.jpg  \n",
            "  inflating: images2/non-face-resized/frame366.jpg  \n",
            "  inflating: images2/non-face-resized/frame367.jpg  \n",
            "  inflating: images2/non-face-resized/frame368.jpg  \n",
            "  inflating: images2/non-face-resized/frame369.jpg  \n",
            "  inflating: images2/non-face-resized/frame37.jpg  \n",
            "  inflating: images2/non-face-resized/frame370.jpg  \n",
            "  inflating: images2/non-face-resized/frame371.jpg  \n",
            "  inflating: images2/non-face-resized/frame372.jpg  \n",
            "  inflating: images2/non-face-resized/frame373.jpg  \n",
            "  inflating: images2/non-face-resized/frame374.jpg  \n",
            "  inflating: images2/non-face-resized/frame375.jpg  \n",
            "  inflating: images2/non-face-resized/frame376.jpg  \n",
            "  inflating: images2/non-face-resized/frame377.jpg  \n",
            "  inflating: images2/non-face-resized/frame378.jpg  \n",
            "  inflating: images2/non-face-resized/frame379.jpg  \n",
            "  inflating: images2/non-face-resized/frame38.jpg  \n",
            "  inflating: images2/non-face-resized/frame380.jpg  \n",
            "  inflating: images2/non-face-resized/frame381.jpg  \n",
            "  inflating: images2/non-face-resized/frame382.jpg  \n",
            "  inflating: images2/non-face-resized/frame383.jpg  \n",
            "  inflating: images2/non-face-resized/frame384.jpg  \n",
            "  inflating: images2/non-face-resized/frame385.jpg  \n",
            "  inflating: images2/non-face-resized/frame386.jpg  \n",
            "  inflating: images2/non-face-resized/frame387.jpg  \n",
            "  inflating: images2/non-face-resized/frame388.jpg  \n",
            "  inflating: images2/non-face-resized/frame389.jpg  \n",
            "  inflating: images2/non-face-resized/frame39.jpg  \n",
            "  inflating: images2/non-face-resized/frame390.jpg  \n",
            "  inflating: images2/non-face-resized/frame391.jpg  \n",
            "  inflating: images2/non-face-resized/frame392.jpg  \n",
            "  inflating: images2/non-face-resized/frame393.jpg  \n",
            "  inflating: images2/non-face-resized/frame394.jpg  \n",
            "  inflating: images2/non-face-resized/frame395.jpg  \n",
            "  inflating: images2/non-face-resized/frame396.jpg  \n",
            "  inflating: images2/non-face-resized/frame397.jpg  \n",
            "  inflating: images2/non-face-resized/frame398.jpg  \n",
            "  inflating: images2/non-face-resized/frame399.jpg  \n",
            "  inflating: images2/non-face-resized/frame4.jpg  \n",
            "  inflating: images2/non-face-resized/frame40.jpg  \n",
            "  inflating: images2/non-face-resized/frame400.jpg  \n",
            "  inflating: images2/non-face-resized/frame41.jpg  \n",
            "  inflating: images2/non-face-resized/frame42.jpg  \n",
            "  inflating: images2/non-face-resized/frame43.jpg  \n",
            "  inflating: images2/non-face-resized/frame44.jpg  \n",
            "  inflating: images2/non-face-resized/frame45.jpg  \n",
            "  inflating: images2/non-face-resized/frame46.jpg  \n",
            "  inflating: images2/non-face-resized/frame47.jpg  \n",
            "  inflating: images2/non-face-resized/frame48.jpg  \n",
            "  inflating: images2/non-face-resized/frame49.jpg  \n",
            "  inflating: images2/non-face-resized/frame5.jpg  \n",
            "  inflating: images2/non-face-resized/frame50.jpg  \n",
            "  inflating: images2/non-face-resized/frame51.jpg  \n",
            "  inflating: images2/non-face-resized/frame52.jpg  \n",
            "  inflating: images2/non-face-resized/frame53.jpg  \n",
            "  inflating: images2/non-face-resized/frame54.jpg  \n",
            "  inflating: images2/non-face-resized/frame55.jpg  \n",
            "  inflating: images2/non-face-resized/frame56.jpg  \n",
            "  inflating: images2/non-face-resized/frame57.jpg  \n",
            "  inflating: images2/non-face-resized/frame58.jpg  \n",
            "  inflating: images2/non-face-resized/frame59.jpg  \n",
            "  inflating: images2/non-face-resized/frame6.jpg  \n",
            "  inflating: images2/non-face-resized/frame60.jpg  \n",
            "  inflating: images2/non-face-resized/frame61.jpg  \n",
            "  inflating: images2/non-face-resized/frame62.jpg  \n",
            "  inflating: images2/non-face-resized/frame63.jpg  \n",
            "  inflating: images2/non-face-resized/frame64.jpg  \n",
            "  inflating: images2/non-face-resized/frame65.jpg  \n",
            "  inflating: images2/non-face-resized/frame66.jpg  \n",
            "  inflating: images2/non-face-resized/frame67.jpg  \n",
            "  inflating: images2/non-face-resized/frame68.jpg  \n",
            "  inflating: images2/non-face-resized/frame69.jpg  \n",
            "  inflating: images2/non-face-resized/frame7.jpg  \n",
            "  inflating: images2/non-face-resized/frame70.jpg  \n",
            "  inflating: images2/non-face-resized/frame71.jpg  \n",
            "  inflating: images2/non-face-resized/frame72.jpg  \n",
            "  inflating: images2/non-face-resized/frame73.jpg  \n",
            "  inflating: images2/non-face-resized/frame74.jpg  \n",
            "  inflating: images2/non-face-resized/frame75.jpg  \n",
            "  inflating: images2/non-face-resized/frame76.jpg  \n",
            "  inflating: images2/non-face-resized/frame77.jpg  \n",
            "  inflating: images2/non-face-resized/frame78.jpg  \n",
            "  inflating: images2/non-face-resized/frame79.jpg  \n",
            "  inflating: images2/non-face-resized/frame8.jpg  \n",
            "  inflating: images2/non-face-resized/frame80.jpg  \n",
            "  inflating: images2/non-face-resized/frame81.jpg  \n",
            "  inflating: images2/non-face-resized/frame82.jpg  \n",
            "  inflating: images2/non-face-resized/frame83.jpg  \n",
            "  inflating: images2/non-face-resized/frame84.jpg  \n",
            "  inflating: images2/non-face-resized/frame85.jpg  \n",
            "  inflating: images2/non-face-resized/frame86.jpg  \n",
            "  inflating: images2/non-face-resized/frame87.jpg  \n",
            "  inflating: images2/non-face-resized/frame88.jpg  \n",
            "  inflating: images2/non-face-resized/frame89.jpg  \n",
            "  inflating: images2/non-face-resized/frame9.jpg  \n",
            "  inflating: images2/non-face-resized/frame90.jpg  \n",
            "  inflating: images2/non-face-resized/frame91.jpg  \n",
            "  inflating: images2/non-face-resized/frame92.jpg  \n",
            "  inflating: images2/non-face-resized/frame93.jpg  \n",
            "  inflating: images2/non-face-resized/frame94.jpg  \n",
            "  inflating: images2/non-face-resized/frame95.jpg  \n",
            "  inflating: images2/non-face-resized/frame96.jpg  \n",
            "  inflating: images2/non-face-resized/frame97.jpg  \n",
            "  inflating: images2/non-face-resized/frame98.jpg  \n",
            "  inflating: images2/non-face-resized/frame99.jpg  \n"
          ]
        }
      ]
    },
    {
      "cell_type": "code",
      "source": [
        "!ls images2/non-face-resized/\n"
      ],
      "metadata": {
        "colab": {
          "base_uri": "https://localhost:8080/"
        },
        "id": "Xsi4-onZRJJw",
        "outputId": "4af47274-edbf-412c-dfe0-3ba4192625a6"
      },
      "execution_count": null,
      "outputs": [
        {
          "output_type": "stream",
          "name": "stdout",
          "text": [
            "frame100.jpg  frame173.jpg  frame245.jpg  frame317.jpg\tframe38.jpg\n",
            "frame101.jpg  frame174.jpg  frame246.jpg  frame318.jpg\tframe390.jpg\n",
            "frame102.jpg  frame175.jpg  frame247.jpg  frame319.jpg\tframe391.jpg\n",
            "frame103.jpg  frame176.jpg  frame248.jpg  frame31.jpg\tframe392.jpg\n",
            "frame104.jpg  frame177.jpg  frame249.jpg  frame320.jpg\tframe393.jpg\n",
            "frame105.jpg  frame178.jpg  frame24.jpg   frame321.jpg\tframe394.jpg\n",
            "frame106.jpg  frame179.jpg  frame250.jpg  frame322.jpg\tframe395.jpg\n",
            "frame107.jpg  frame17.jpg   frame251.jpg  frame323.jpg\tframe396.jpg\n",
            "frame108.jpg  frame180.jpg  frame252.jpg  frame324.jpg\tframe397.jpg\n",
            "frame109.jpg  frame181.jpg  frame253.jpg  frame325.jpg\tframe398.jpg\n",
            "frame10.jpg   frame182.jpg  frame254.jpg  frame326.jpg\tframe399.jpg\n",
            "frame110.jpg  frame183.jpg  frame255.jpg  frame327.jpg\tframe39.jpg\n",
            "frame111.jpg  frame184.jpg  frame256.jpg  frame328.jpg\tframe3.jpg\n",
            "frame112.jpg  frame185.jpg  frame257.jpg  frame329.jpg\tframe400.jpg\n",
            "frame113.jpg  frame186.jpg  frame258.jpg  frame32.jpg\tframe40.jpg\n",
            "frame114.jpg  frame187.jpg  frame259.jpg  frame330.jpg\tframe41.jpg\n",
            "frame115.jpg  frame188.jpg  frame25.jpg   frame331.jpg\tframe42.jpg\n",
            "frame116.jpg  frame189.jpg  frame260.jpg  frame332.jpg\tframe43.jpg\n",
            "frame117.jpg  frame18.jpg   frame261.jpg  frame333.jpg\tframe44.jpg\n",
            "frame118.jpg  frame190.jpg  frame262.jpg  frame334.jpg\tframe45.jpg\n",
            "frame119.jpg  frame191.jpg  frame263.jpg  frame335.jpg\tframe46.jpg\n",
            "frame11.jpg   frame192.jpg  frame264.jpg  frame336.jpg\tframe47.jpg\n",
            "frame120.jpg  frame193.jpg  frame265.jpg  frame337.jpg\tframe48.jpg\n",
            "frame121.jpg  frame194.jpg  frame266.jpg  frame338.jpg\tframe49.jpg\n",
            "frame122.jpg  frame195.jpg  frame267.jpg  frame339.jpg\tframe4.jpg\n",
            "frame123.jpg  frame196.jpg  frame268.jpg  frame33.jpg\tframe50.jpg\n",
            "frame124.jpg  frame197.jpg  frame269.jpg  frame340.jpg\tframe51.jpg\n",
            "frame125.jpg  frame198.jpg  frame26.jpg   frame341.jpg\tframe52.jpg\n",
            "frame126.jpg  frame199.jpg  frame270.jpg  frame342.jpg\tframe53.jpg\n",
            "frame127.jpg  frame19.jpg   frame271.jpg  frame343.jpg\tframe54.jpg\n",
            "frame128.jpg  frame1.jpg    frame272.jpg  frame344.jpg\tframe55.jpg\n",
            "frame129.jpg  frame200.jpg  frame273.jpg  frame345.jpg\tframe56.jpg\n",
            "frame12.jpg   frame201.jpg  frame274.jpg  frame346.jpg\tframe57.jpg\n",
            "frame130.jpg  frame202.jpg  frame275.jpg  frame347.jpg\tframe58.jpg\n",
            "frame131.jpg  frame203.jpg  frame276.jpg  frame348.jpg\tframe59.jpg\n",
            "frame132.jpg  frame204.jpg  frame277.jpg  frame349.jpg\tframe5.jpg\n",
            "frame133.jpg  frame205.jpg  frame278.jpg  frame34.jpg\tframe60.jpg\n",
            "frame134.jpg  frame206.jpg  frame279.jpg  frame350.jpg\tframe61.jpg\n",
            "frame135.jpg  frame207.jpg  frame27.jpg   frame351.jpg\tframe62.jpg\n",
            "frame136.jpg  frame208.jpg  frame280.jpg  frame352.jpg\tframe63.jpg\n",
            "frame137.jpg  frame209.jpg  frame281.jpg  frame353.jpg\tframe64.jpg\n",
            "frame138.jpg  frame20.jpg   frame282.jpg  frame354.jpg\tframe65.jpg\n",
            "frame139.jpg  frame210.jpg  frame283.jpg  frame355.jpg\tframe66.jpg\n",
            "frame13.jpg   frame211.jpg  frame284.jpg  frame356.jpg\tframe67.jpg\n",
            "frame140.jpg  frame212.jpg  frame285.jpg  frame357.jpg\tframe68.jpg\n",
            "frame141.jpg  frame213.jpg  frame286.jpg  frame358.jpg\tframe69.jpg\n",
            "frame142.jpg  frame214.jpg  frame287.jpg  frame359.jpg\tframe6.jpg\n",
            "frame143.jpg  frame215.jpg  frame288.jpg  frame35.jpg\tframe70.jpg\n",
            "frame144.jpg  frame216.jpg  frame289.jpg  frame360.jpg\tframe71.jpg\n",
            "frame145.jpg  frame217.jpg  frame28.jpg   frame361.jpg\tframe72.jpg\n",
            "frame146.jpg  frame218.jpg  frame290.jpg  frame362.jpg\tframe73.jpg\n",
            "frame147.jpg  frame219.jpg  frame291.jpg  frame363.jpg\tframe74.jpg\n",
            "frame148.jpg  frame21.jpg   frame292.jpg  frame364.jpg\tframe75.jpg\n",
            "frame149.jpg  frame220.jpg  frame293.jpg  frame365.jpg\tframe76.jpg\n",
            "frame14.jpg   frame221.jpg  frame294.jpg  frame366.jpg\tframe77.jpg\n",
            "frame150.jpg  frame222.jpg  frame295.jpg  frame367.jpg\tframe78.jpg\n",
            "frame151.jpg  frame223.jpg  frame296.jpg  frame368.jpg\tframe79.jpg\n",
            "frame152.jpg  frame224.jpg  frame297.jpg  frame369.jpg\tframe7.jpg\n",
            "frame153.jpg  frame225.jpg  frame298.jpg  frame36.jpg\tframe80.jpg\n",
            "frame154.jpg  frame226.jpg  frame299.jpg  frame370.jpg\tframe81.jpg\n",
            "frame155.jpg  frame227.jpg  frame29.jpg   frame371.jpg\tframe82.jpg\n",
            "frame156.jpg  frame228.jpg  frame2.jpg\t  frame372.jpg\tframe83.jpg\n",
            "frame157.jpg  frame229.jpg  frame300.jpg  frame373.jpg\tframe84.jpg\n",
            "frame158.jpg  frame22.jpg   frame301.jpg  frame374.jpg\tframe85.jpg\n",
            "frame159.jpg  frame230.jpg  frame302.jpg  frame375.jpg\tframe86.jpg\n",
            "frame15.jpg   frame231.jpg  frame303.jpg  frame376.jpg\tframe87.jpg\n",
            "frame160.jpg  frame232.jpg  frame304.jpg  frame377.jpg\tframe88.jpg\n",
            "frame161.jpg  frame233.jpg  frame305.jpg  frame378.jpg\tframe89.jpg\n",
            "frame162.jpg  frame234.jpg  frame306.jpg  frame379.jpg\tframe8.jpg\n",
            "frame163.jpg  frame235.jpg  frame307.jpg  frame37.jpg\tframe90.jpg\n",
            "frame164.jpg  frame236.jpg  frame308.jpg  frame380.jpg\tframe91.jpg\n",
            "frame165.jpg  frame237.jpg  frame309.jpg  frame381.jpg\tframe92.jpg\n",
            "frame166.jpg  frame238.jpg  frame30.jpg   frame382.jpg\tframe93.jpg\n",
            "frame167.jpg  frame239.jpg  frame310.jpg  frame383.jpg\tframe94.jpg\n",
            "frame168.jpg  frame23.jpg   frame311.jpg  frame384.jpg\tframe95.jpg\n",
            "frame169.jpg  frame240.jpg  frame312.jpg  frame385.jpg\tframe96.jpg\n",
            "frame16.jpg   frame241.jpg  frame313.jpg  frame386.jpg\tframe97.jpg\n",
            "frame170.jpg  frame242.jpg  frame314.jpg  frame387.jpg\tframe98.jpg\n",
            "frame171.jpg  frame243.jpg  frame315.jpg  frame388.jpg\tframe99.jpg\n",
            "frame172.jpg  frame244.jpg  frame316.jpg  frame389.jpg\tframe9.jpg\n"
          ]
        }
      ]
    },
    {
      "cell_type": "code",
      "source": [
        "directory_faces = 'images/'\n",
        "image_vectors = []\n",
        "\n",
        "for folder in os.listdir(directory_faces):\n",
        "  path = os.path.join(directory_faces, folder)\n",
        "  if os.path.isdir(path):\n",
        "    sub_directory = path\n",
        "    for image in os.listdir(sub_directory):\n",
        "            f = os.path.join(sub_directory, image)\n",
        "            # The function imread loads an image from the specified file and returns it\n",
        "            img = cv2.imread(f, cv2.IMREAD_GRAYSCALE)\n",
        "            vector = np.array(img)\n",
        "            result = vector.flatten()\n",
        "            image_vectors.append(result)\n",
        " "
      ],
      "metadata": {
        "id": "pXzbfhWiVC2h"
      },
      "execution_count": null,
      "outputs": []
    },
    {
      "cell_type": "code",
      "source": [
        "directory_non_faces = 'images2/non-face-resized'\n",
        "for image in os.listdir(directory_non_faces):\n",
        "  f = os.path.join(directory_non_faces, image)\n",
        "  img = cv2.imread(f, cv2.IMREAD_GRAYSCALE)\n",
        "  vector = np.array(img)\n",
        "  result = vector.flatten()\n",
        "  image_vectors.append(result)"
      ],
      "metadata": {
        "id": "CAgk4Sj10eYh"
      },
      "execution_count": null,
      "outputs": []
    },
    {
      "cell_type": "code",
      "source": [
        "image_vectors = np.array(image_vectors)\n",
        "image_vectors.shape "
      ],
      "metadata": {
        "colab": {
          "base_uri": "https://localhost:8080/"
        },
        "id": "Q-qak12S0fJ2",
        "outputId": "d766698b-31b8-4ecd-b260-4bd911e4982e"
      },
      "execution_count": null,
      "outputs": [
        {
          "output_type": "execute_result",
          "data": {
            "text/plain": [
              "(800, 10304)"
            ]
          },
          "metadata": {},
          "execution_count": 22
        }
      ]
    },
    {
      "cell_type": "code",
      "execution_count": null,
      "metadata": {
        "id": "5pNI-3skPmUx",
        "colab": {
          "base_uri": "https://localhost:8080/",
          "height": 129
        },
        "outputId": "9de1cc58-7c39-41ce-c444-31daf2326498"
      },
      "outputs": [
        {
          "output_type": "display_data",
          "data": {
            "text/plain": [
              "<PIL.Image.Image image mode=L size=92x112 at 0x7FB75B615710>"
            ],
            "image/png": "[encoded data removed]"
          },
          "metadata": {}
        }
      ],
      "source": [
        "cv2_imshow(img)"
      ]
    },
    {
      "cell_type": "code",
      "source": [
        "labels = []\n",
        "\n",
        "for i in range (0,401):\n",
        "    labels.append(0)\n",
        "\n",
        "for i in range(401, 800):\n",
        "    labels.append(1)\n",
        "\n",
        "\n",
        "\n",
        "labels = np.array(labels)\n",
        "len(labels)"
      ],
      "metadata": {
        "colab": {
          "base_uri": "https://localhost:8080/"
        },
        "id": "Z0brmTw81WcN",
        "outputId": "6fa00119-75ee-45b1-e14e-ab601aa01a8d"
      },
      "execution_count": null,
      "outputs": [
        {
          "output_type": "execute_result",
          "data": {
            "text/plain": [
              "800"
            ]
          },
          "metadata": {},
          "execution_count": 24
        }
      ]
    },
    {
      "cell_type": "code",
      "source": [
        "train_data = []\n",
        "test_data = []\n",
        "train_labels = []\n",
        "test_labels = []\n",
        "\n",
        "for i in range(0,800):\n",
        "    if(i%2 ==  0 ): \n",
        "        test_data.append(image_vectors[i])\n",
        "        test_labels.append(labels[i])\n",
        "    \n",
        "    else:\n",
        "        train_data.append(image_vectors[i])\n",
        "        train_labels.append(labels[i])\n",
        "    \n",
        "train_data = np.array(train_data)   \n",
        "test_data = np.array(test_data)    \n",
        "train_labels = np.array(train_labels)    \n",
        "test_labels = np.array(test_labels)    \n",
        "\n",
        "print(train_data.shape)\n",
        "print(test_data.shape)\n",
        "print(train_labels.shape)\n",
        "print(test_labels.shape)\n"
      ],
      "metadata": {
        "colab": {
          "base_uri": "https://localhost:8080/"
        },
        "id": "cpWo-9-P2WMr",
        "outputId": "c5ba6e1c-cb56-4268-985c-c46f15c708ea"
      },
      "execution_count": null,
      "outputs": [
        {
          "output_type": "stream",
          "name": "stdout",
          "text": [
            "(400, 10304)\n",
            "(400, 10304)\n",
            "(400,)\n",
            "(400,)\n"
          ]
        }
      ]
    },
    {
      "cell_type": "code",
      "execution_count": null,
      "metadata": {
        "id": "_8TQBmivfNSx"
      },
      "outputs": [],
      "source": [
        "def get_reduced_dim_mat(dimensions, matrix):\n",
        "  projection_matrix_r = np.delete(train_eigen_vecs, np.s_[int(dimensions) : train_eigen_vecs.shape[1]], axis=1)\n",
        "  reduced_dim_mat = np.dot(np.transpose(projection_matrix_r),np.transpose(matrix)) \n",
        "  reduced_dim_mat = np.transpose(reduced_dim_mat)\n",
        "\n",
        "  return reduced_dim_mat"
      ]
    },
    {
      "cell_type": "code",
      "execution_count": null,
      "metadata": {
        "id": "iosdVZvCMj3K"
      },
      "outputs": [],
      "source": [
        "def KNNclf(neighbours, X_train, y_train, X_test, y_test):\n",
        "  clf = KNeighborsClassifier(n_neighbors=neighbours)\n",
        "  clf.fit(X_train, y_train)\n",
        "  y_pred = clf.predict(X_test)\n",
        "  accuracy = metrics.accuracy_score(y_test, y_pred)\n",
        "  print(\"Correct labels are:\")\n",
        "  print(y_test)\n",
        "  print(\"Predicted labels are:\")\n",
        "  print(y_pred)\n",
        "  print(\"Accuracy: \", accuracy)\n",
        "  #print(confusion_matrix(y_test, y_pred))\n",
        "  #print(classification_report(y_test, y_pred))\n",
        "  return accuracy"
      ]
    },
    {
      "cell_type": "code",
      "source": [
        "alphaaa = np.array([0.8,0.85,0.9,0.95])"
      ],
      "metadata": {
        "id": "dK02rI3X2dVd"
      },
      "execution_count": null,
      "outputs": []
    },
    {
      "cell_type": "code",
      "execution_count": null,
      "metadata": {
        "colab": {
          "base_uri": "https://localhost:8080/"
        },
        "outputId": "f580908e-4161-4db8-b478-55ae1b772481",
        "id": "bFcOH93D2iOi"
      },
      "outputs": [
        {
          "output_type": "stream",
          "name": "stdout",
          "text": [
            "[104.9125 105.045  105.73   ...  74.5525  74.16    73.5725]\n"
          ]
        }
      ],
      "source": [
        "train_data_mean = np.mean(train_data,axis=0)\n",
        "print(train_data_mean)"
      ]
    },
    {
      "cell_type": "code",
      "source": [
        "train_data_mean.shape"
      ],
      "metadata": {
        "colab": {
          "base_uri": "https://localhost:8080/"
        },
        "outputId": "d3213415-0281-4034-d31a-5f0948ef4a0b",
        "id": "nx0DV7BM2ltd"
      },
      "execution_count": null,
      "outputs": [
        {
          "output_type": "execute_result",
          "data": {
            "text/plain": [
              "(10304,)"
            ]
          },
          "metadata": {},
          "execution_count": 30
        }
      ]
    },
    {
      "cell_type": "code",
      "execution_count": null,
      "metadata": {
        "colab": {
          "base_uri": "https://localhost:8080/"
        },
        "outputId": "99576bf1-d436-4cc1-e7e5-0feea20de022",
        "id": "MPpI1iyu28Ql"
      },
      "outputs": [
        {
          "output_type": "stream",
          "name": "stdout",
          "text": [
            "[[-65.9125 -61.045  -52.73   ... -45.5525 -48.16   -44.5725]\n",
            " [-56.9125 -56.045  -60.73   ... -27.5525 -28.16   -27.5725]\n",
            " [-60.9125 -62.045  -73.73   ... -31.5525 -31.16   -36.5725]\n",
            " ...\n",
            " [ 56.0875  53.955   73.27   ... 126.4475 123.84   124.4275]\n",
            " [144.0875 147.955  147.27   ... 179.4475 179.84   177.4275]\n",
            " [ 10.0875   9.955   10.27   ... 173.4475 146.84   170.4275]]\n",
            "(400, 10304)\n"
          ]
        }
      ],
      "source": [
        "Centered_Train_Data_Matrix = train_data - np.transpose(train_data_mean)\n",
        "print(Centered_Train_Data_Matrix)\n",
        "print(Centered_Train_Data_Matrix.shape)"
      ]
    },
    {
      "cell_type": "code",
      "execution_count": null,
      "metadata": {
        "colab": {
          "base_uri": "https://localhost:8080/"
        },
        "outputId": "45c95df3-1f54-4ed2-d96c-11f9cb64eaa3",
        "id": "r4elfl_a3X-U"
      },
      "outputs": [
        {
          "output_type": "stream",
          "name": "stdout",
          "text": [
            "[[3705.43984375 3665.0214375  3655.548875   ...  852.54084375\n",
            "   872.424       893.54259375]\n",
            " [3665.0214375  3701.372975   3682.33465    ...  838.6976375\n",
            "   848.0703      867.1492375 ]\n",
            " [3655.548875   3682.33465    3723.3971     ...  821.301675\n",
            "   868.3407      894.927075  ]\n",
            " ...\n",
            " [ 852.54084375  838.6976375   821.301675   ... 3236.76224375\n",
            "  2979.6341     2801.04869375]\n",
            " [ 872.424       848.0703      868.3407     ... 2979.6341\n",
            "  3175.5444     2905.6909    ]\n",
            " [ 893.54259375  867.1492375   894.927075   ... 2801.04869375\n",
            "  2905.6909     3150.15974375]]\n"
          ]
        }
      ],
      "source": [
        "Train_Covariance_Matrix = np.dot(np.transpose(Centered_Train_Data_Matrix),Centered_Train_Data_Matrix)/Centered_Train_Data_Matrix.shape[0]\n",
        "print(Train_Covariance_Matrix)"
      ]
    },
    {
      "cell_type": "code",
      "execution_count": null,
      "metadata": {
        "colab": {
          "base_uri": "https://localhost:8080/"
        },
        "outputId": "25773ccb-8181-4bd1-f2cc-2d770a03b0e5",
        "id": "LkbCRuHQ3a5q"
      },
      "outputs": [
        {
          "output_type": "stream",
          "name": "stdout",
          "text": [
            "[[3705.43984375 3665.0214375  3655.548875   ...  852.54084375\n",
            "   872.424       893.54259375]\n",
            " [3665.0214375  3701.372975   3682.33465    ...  838.6976375\n",
            "   848.0703      867.1492375 ]\n",
            " [3655.548875   3682.33465    3723.3971     ...  821.301675\n",
            "   868.3407      894.927075  ]\n",
            " ...\n",
            " [ 852.54084375  838.6976375   821.301675   ... 3236.76224375\n",
            "  2979.6341     2801.04869375]\n",
            " [ 872.424       848.0703      868.3407     ... 2979.6341\n",
            "  3175.5444     2905.6909    ]\n",
            " [ 893.54259375  867.1492375   894.927075   ... 2801.04869375\n",
            "  2905.6909     3150.15974375]]\n",
            "(10304, 10304)\n",
            "(10304, 10304)\n"
          ]
        }
      ],
      "source": [
        "cov_mat = np.cov(np.transpose(train_data), bias=True)\n",
        "print(cov_mat)\n",
        "print(cov_mat.shape)\n",
        "print(Train_Covariance_Matrix.shape)"
      ]
    },
    {
      "cell_type": "code",
      "execution_count": null,
      "metadata": {
        "colab": {
          "base_uri": "https://localhost:8080/"
        },
        "outputId": "a66acaf9-9ecc-4494-c66f-4aa364ee3fe8",
        "id": "1LynijS63cnm"
      },
      "outputs": [
        {
          "output_type": "stream",
          "name": "stdout",
          "text": [
            "\n",
            "Arrays are not equal\n",
            "\n",
            "Mismatched elements: 14383835 / 106172416 (13.5%)\n",
            "Max absolute difference: 9.09494702e-13\n",
            "Max relative difference: 2.22044605e-16\n",
            " x: array([[3705.439844, 3665.021437, 3655.548875, ...,  852.540844,\n",
            "         872.424   ,  893.542594],\n",
            "       [3665.021437, 3701.372975, 3682.33465 , ...,  838.697637,...\n",
            " y: array([[3705.439844, 3665.021437, 3655.548875, ...,  852.540844,\n",
            "         872.424   ,  893.542594],\n",
            "       [3665.021437, 3701.372975, 3682.33465 , ...,  838.697637,...\n"
          ]
        }
      ],
      "source": [
        "try:\n",
        "  np.testing.assert_array_equal(cov_mat, Train_Covariance_Matrix)\n",
        "except AssertionError as e:\n",
        "  print(e)"
      ]
    },
    {
      "cell_type": "code",
      "execution_count": null,
      "metadata": {
        "colab": {
          "base_uri": "https://localhost:8080/"
        },
        "outputId": "e06afec9-d02a-454b-f6af-15b18dffe39c",
        "id": "I0R9B_tT3fbH"
      },
      "outputs": [
        {
          "output_type": "stream",
          "name": "stdout",
          "text": [
            "[ 7.40782988e+06  4.82457068e+06  2.25324300e+06 ... -2.40789937e-09\n",
            " -2.52146845e-09 -4.67411165e-09]\n",
            "[[ 0.01392463 -0.00362344  0.01696366 ...  0.          0.\n",
            "   0.        ]\n",
            " [ 0.01416199 -0.00364141  0.01632985 ...  0.04659731  0.02669531\n",
            "   0.4280951 ]\n",
            " [ 0.01431051 -0.00357428  0.01647154 ... -0.00215188 -0.52776899\n",
            "  -0.14743541]\n",
            " ...\n",
            " [ 0.00436418  0.00720789  0.01794976 ...  0.00842207  0.01372168\n",
            "  -0.0057341 ]\n",
            " [ 0.00391967  0.00745812  0.01898317 ...  0.00186113  0.00574614\n",
            "   0.0045054 ]\n",
            " [ 0.00376756  0.00731701  0.01851467 ... -0.00901422 -0.00920342\n",
            "   0.01718666]]\n"
          ]
        }
      ],
      "source": [
        "train_eigen_vals, train_eigen_vecs = LA.eigh(Train_Covariance_Matrix)\n",
        "idx = train_eigen_vals.argsort()[::-1]   \n",
        "train_eigen_vals = train_eigen_vals[idx]\n",
        "train_eigen_vecs = train_eigen_vecs[:,idx]\n",
        "print(train_eigen_vals)\n",
        "print(train_eigen_vecs)"
      ]
    },
    {
      "cell_type": "code",
      "execution_count": null,
      "metadata": {
        "colab": {
          "base_uri": "https://localhost:8080/"
        },
        "outputId": "f5ee80b8-ac18-4343-b498-27b23a46c548",
        "id": "DV2k9S5035Lo"
      },
      "outputs": [
        {
          "output_type": "stream",
          "name": "stdout",
          "text": [
            "\n",
            "Sum of  Eigen Values=  30476876.297362484 \n",
            "\n",
            "Explained variance for alpha = 0.8 is 36.0 dimensions\n",
            "Explained variance for alpha = 0.85 is 60.0 dimensions\n",
            "Explained variance for alpha = 0.9 is 99.0 dimensions\n",
            "Explained variance for alpha = 0.95 is 172.0 dimensions\n"
          ]
        }
      ],
      "source": [
        "train_eigen_values_total = np.sum(train_eigen_vals)\n",
        "\n",
        "print(\"\\nSum of  Eigen Values= \",train_eigen_values_total,\"\\n\")\n",
        "num_of_dim = np.empty(len(alphaaa),)\n",
        "k = 0\n",
        "for alpha in alphaaa:\n",
        "  sum = 0\n",
        "  r = 0\n",
        "  while sum < alpha * train_eigen_values_total:\n",
        "        sum += train_eigen_vals[r]\n",
        "        r += 1\n",
        "  num_of_dim[k] = r\n",
        "  print(\"Explained variance for alpha = \" + str(alpha) + \" is \" + str(num_of_dim[k]) + \" dimensions\")\n",
        "  k += 1\n"
      ]
    },
    {
      "cell_type": "code",
      "execution_count": null,
      "metadata": {
        "colab": {
          "base_uri": "https://localhost:8080/"
        },
        "outputId": "5499f2ef-1410-4a65-a502-548098b62972",
        "id": "Bh_dHgFA4VkS"
      },
      "outputs": [
        {
          "output_type": "stream",
          "name": "stdout",
          "text": [
            "(4, 4)\n",
            "36 dimensions with 1 nearest neighbours\n",
            "Correct labels are:\n",
            "[0 0 0 0 0 0 0 0 0 0 0 0 0 0 0 0 0 0 0 0 0 0 0 0 0 0 0 0 0 0 0 0 0 0 0 0 0\n",
            " 0 0 0 0 0 0 0 0 0 0 0 0 0 0 0 0 0 0 0 0 0 0 0 0 0 0 0 0 0 0 0 0 0 0 0 0 0\n",
            " 0 0 0 0 0 0 0 0 0 0 0 0 0 0 0 0 0 0 0 0 0 0 0 0 0 0 0 0 0 0 0 0 0 0 0 0 0\n",
            " 0 0 0 0 0 0 0 0 0 0 0 0 0 0 0 0 0 0 0 0 0 0 0 0 0 0 0 0 0 0 0 0 0 0 0 0 0\n",
            " 0 0 0 0 0 0 0 0 0 0 0 0 0 0 0 0 0 0 0 0 0 0 0 0 0 0 0 0 0 0 0 0 0 0 0 0 0\n",
            " 0 0 0 0 0 0 0 0 0 0 0 0 0 0 0 0 1 1 1 1 1 1 1 1 1 1 1 1 1 1 1 1 1 1 1 1 1\n",
            " 1 1 1 1 1 1 1 1 1 1 1 1 1 1 1 1 1 1 1 1 1 1 1 1 1 1 1 1 1 1 1 1 1 1 1 1 1\n",
            " 1 1 1 1 1 1 1 1 1 1 1 1 1 1 1 1 1 1 1 1 1 1 1 1 1 1 1 1 1 1 1 1 1 1 1 1 1\n",
            " 1 1 1 1 1 1 1 1 1 1 1 1 1 1 1 1 1 1 1 1 1 1 1 1 1 1 1 1 1 1 1 1 1 1 1 1 1\n",
            " 1 1 1 1 1 1 1 1 1 1 1 1 1 1 1 1 1 1 1 1 1 1 1 1 1 1 1 1 1 1 1 1 1 1 1 1 1\n",
            " 1 1 1 1 1 1 1 1 1 1 1 1 1 1 1 1 1 1 1 1 1 1 1 1 1 1 1 1 1 1]\n",
            "Predicted labels are:\n",
            "[0 0 0 0 0 0 0 0 0 0 0 0 0 0 0 0 0 0 0 0 0 0 0 0 0 0 0 0 0 0 0 0 0 0 0 0 0\n",
            " 0 0 0 0 0 0 0 0 0 0 0 0 0 0 0 0 0 0 0 0 0 0 0 0 0 0 0 0 0 0 0 0 0 0 0 0 0\n",
            " 0 0 0 0 0 0 0 0 0 0 0 0 0 0 0 0 0 0 0 0 0 0 0 0 0 0 0 0 0 0 0 0 0 0 0 0 0\n",
            " 0 0 0 0 0 0 0 0 0 0 0 0 0 0 0 0 0 0 0 0 0 0 0 0 0 0 0 0 0 0 0 0 0 0 0 0 0\n",
            " 0 0 0 0 0 0 0 0 0 0 0 0 0 0 0 0 0 0 0 0 0 0 0 0 0 0 0 0 0 0 0 0 0 0 0 0 0\n",
            " 0 0 0 0 0 0 0 0 0 0 0 0 0 0 0 1 1 1 1 1 1 1 1 0 1 1 0 1 1 1 1 1 1 1 1 1 1\n",
            " 1 0 1 1 1 1 0 1 1 1 1 1 1 1 0 1 1 1 1 1 1 1 1 1 0 1 1 1 1 1 0 1 1 0 1 1 1\n",
            " 1 1 1 0 1 1 1 1 1 1 1 1 1 1 1 1 1 1 1 1 1 1 1 0 1 1 1 1 1 1 1 1 1 0 1 1 1\n",
            " 1 1 1 1 0 1 1 0 1 1 1 1 1 0 1 1 1 1 1 0 1 1 0 1 1 1 1 1 1 1 1 1 1 1 1 1 1\n",
            " 1 0 1 1 1 1 1 1 1 1 1 1 1 1 1 1 1 1 1 1 1 1 1 1 1 1 1 0 1 1 1 1 1 1 1 1 1\n",
            " 1 1 1 1 1 1 1 1 1 1 1 1 1 1 1 1 1 1 1 1 1 1 1 1 1 0 1 1 1 1]\n",
            "Accuracy:  0.95\n",
            "36 dimensions with 3 nearest neighbours\n",
            "Correct labels are:\n",
            "[0 0 0 0 0 0 0 0 0 0 0 0 0 0 0 0 0 0 0 0 0 0 0 0 0 0 0 0 0 0 0 0 0 0 0 0 0\n",
            " 0 0 0 0 0 0 0 0 0 0 0 0 0 0 0 0 0 0 0 0 0 0 0 0 0 0 0 0 0 0 0 0 0 0 0 0 0\n",
            " 0 0 0 0 0 0 0 0 0 0 0 0 0 0 0 0 0 0 0 0 0 0 0 0 0 0 0 0 0 0 0 0 0 0 0 0 0\n",
            " 0 0 0 0 0 0 0 0 0 0 0 0 0 0 0 0 0 0 0 0 0 0 0 0 0 0 0 0 0 0 0 0 0 0 0 0 0\n",
            " 0 0 0 0 0 0 0 0 0 0 0 0 0 0 0 0 0 0 0 0 0 0 0 0 0 0 0 0 0 0 0 0 0 0 0 0 0\n",
            " 0 0 0 0 0 0 0 0 0 0 0 0 0 0 0 0 1 1 1 1 1 1 1 1 1 1 1 1 1 1 1 1 1 1 1 1 1\n",
            " 1 1 1 1 1 1 1 1 1 1 1 1 1 1 1 1 1 1 1 1 1 1 1 1 1 1 1 1 1 1 1 1 1 1 1 1 1\n",
            " 1 1 1 1 1 1 1 1 1 1 1 1 1 1 1 1 1 1 1 1 1 1 1 1 1 1 1 1 1 1 1 1 1 1 1 1 1\n",
            " 1 1 1 1 1 1 1 1 1 1 1 1 1 1 1 1 1 1 1 1 1 1 1 1 1 1 1 1 1 1 1 1 1 1 1 1 1\n",
            " 1 1 1 1 1 1 1 1 1 1 1 1 1 1 1 1 1 1 1 1 1 1 1 1 1 1 1 1 1 1 1 1 1 1 1 1 1\n",
            " 1 1 1 1 1 1 1 1 1 1 1 1 1 1 1 1 1 1 1 1 1 1 1 1 1 1 1 1 1 1]\n",
            "Predicted labels are:\n",
            "[0 0 0 0 0 0 0 0 0 0 0 0 0 0 0 0 0 0 0 0 0 0 0 0 0 0 0 0 0 0 0 0 0 0 0 0 0\n",
            " 0 0 0 0 0 0 0 0 0 0 0 0 0 0 0 0 0 0 0 0 0 0 0 0 0 0 0 0 0 0 0 0 0 0 0 0 0\n",
            " 0 0 0 0 0 0 0 0 0 0 0 0 0 0 0 0 0 0 0 0 0 0 0 0 0 0 0 0 0 0 0 0 0 0 0 0 0\n",
            " 0 0 0 0 0 0 0 0 0 0 0 0 0 0 0 0 0 0 0 0 0 0 0 0 0 0 0 0 0 0 0 0 0 0 0 0 0\n",
            " 0 0 0 0 0 0 0 0 0 0 0 0 0 0 0 0 0 0 0 0 0 0 0 0 0 0 0 0 0 0 0 0 0 0 0 0 0\n",
            " 0 0 0 0 0 0 0 0 0 0 0 0 0 0 0 0 1 1 1 1 1 1 1 0 1 0 0 1 1 1 1 1 1 1 1 1 0\n",
            " 1 0 1 1 1 0 0 1 1 1 0 1 1 1 0 1 1 1 1 1 1 1 1 1 0 1 1 1 1 1 0 1 1 0 1 1 1\n",
            " 1 1 1 0 1 1 1 1 1 1 0 1 1 1 1 1 1 1 0 1 1 1 1 0 1 0 1 1 1 1 1 1 1 0 1 1 1\n",
            " 1 1 1 1 0 1 1 0 1 1 1 1 1 0 1 1 1 1 1 0 1 1 0 1 1 1 1 0 1 1 1 1 1 1 1 1 1\n",
            " 1 0 1 1 1 1 1 1 1 1 1 1 1 1 1 1 1 1 1 1 1 1 1 1 1 1 1 0 1 0 1 1 1 1 1 1 1\n",
            " 1 1 1 1 1 1 1 1 1 1 1 1 1 1 0 1 1 1 1 1 1 1 1 1 1 0 1 1 1 1]\n",
            "Accuracy:  0.9275\n",
            "36 dimensions with 5 nearest neighbours\n",
            "Correct labels are:\n",
            "[0 0 0 0 0 0 0 0 0 0 0 0 0 0 0 0 0 0 0 0 0 0 0 0 0 0 0 0 0 0 0 0 0 0 0 0 0\n",
            " 0 0 0 0 0 0 0 0 0 0 0 0 0 0 0 0 0 0 0 0 0 0 0 0 0 0 0 0 0 0 0 0 0 0 0 0 0\n",
            " 0 0 0 0 0 0 0 0 0 0 0 0 0 0 0 0 0 0 0 0 0 0 0 0 0 0 0 0 0 0 0 0 0 0 0 0 0\n",
            " 0 0 0 0 0 0 0 0 0 0 0 0 0 0 0 0 0 0 0 0 0 0 0 0 0 0 0 0 0 0 0 0 0 0 0 0 0\n",
            " 0 0 0 0 0 0 0 0 0 0 0 0 0 0 0 0 0 0 0 0 0 0 0 0 0 0 0 0 0 0 0 0 0 0 0 0 0\n",
            " 0 0 0 0 0 0 0 0 0 0 0 0 0 0 0 0 1 1 1 1 1 1 1 1 1 1 1 1 1 1 1 1 1 1 1 1 1\n",
            " 1 1 1 1 1 1 1 1 1 1 1 1 1 1 1 1 1 1 1 1 1 1 1 1 1 1 1 1 1 1 1 1 1 1 1 1 1\n",
            " 1 1 1 1 1 1 1 1 1 1 1 1 1 1 1 1 1 1 1 1 1 1 1 1 1 1 1 1 1 1 1 1 1 1 1 1 1\n",
            " 1 1 1 1 1 1 1 1 1 1 1 1 1 1 1 1 1 1 1 1 1 1 1 1 1 1 1 1 1 1 1 1 1 1 1 1 1\n",
            " 1 1 1 1 1 1 1 1 1 1 1 1 1 1 1 1 1 1 1 1 1 1 1 1 1 1 1 1 1 1 1 1 1 1 1 1 1\n",
            " 1 1 1 1 1 1 1 1 1 1 1 1 1 1 1 1 1 1 1 1 1 1 1 1 1 1 1 1 1 1]\n",
            "Predicted labels are:\n",
            "[0 0 0 0 0 0 0 0 0 0 0 0 0 0 0 0 0 0 0 0 0 0 0 0 0 0 0 0 0 0 0 0 0 0 0 0 0\n",
            " 0 0 0 0 0 0 0 0 0 0 0 0 0 0 0 0 0 0 0 0 0 0 0 0 0 0 0 0 0 0 0 0 0 0 0 0 0\n",
            " 0 0 0 0 0 0 0 0 0 0 0 0 0 0 0 0 0 0 0 0 0 0 0 0 0 0 0 0 0 0 0 0 0 0 0 0 0\n",
            " 0 0 0 0 0 0 0 0 0 0 0 0 0 0 0 0 0 0 0 0 0 0 0 0 0 0 0 0 0 0 0 0 0 0 0 0 0\n",
            " 0 0 0 0 0 0 0 0 0 0 0 0 0 0 0 0 0 0 0 0 0 0 0 0 0 0 0 0 0 0 0 0 0 0 0 0 0\n",
            " 0 0 0 0 0 0 0 0 0 0 0 0 0 0 0 1 1 1 1 1 1 1 1 0 1 0 0 1 1 1 1 1 0 1 1 1 0\n",
            " 1 0 1 1 1 0 0 1 1 1 0 1 1 1 0 1 1 1 1 0 1 1 1 1 0 1 1 1 1 1 0 1 1 0 1 1 1\n",
            " 1 1 1 0 1 1 1 1 1 1 0 1 1 1 1 1 1 1 0 1 1 1 1 1 1 0 1 1 1 1 1 1 1 0 1 1 1\n",
            " 1 1 1 1 0 1 1 0 1 1 1 1 1 1 1 1 1 1 1 1 1 1 0 1 1 1 1 0 1 1 1 1 1 1 1 1 1\n",
            " 1 1 1 1 1 1 0 1 1 1 1 1 1 1 1 1 1 1 1 1 1 1 1 1 1 1 1 0 1 0 1 1 1 1 1 1 1\n",
            " 1 1 1 1 1 1 1 1 1 1 1 1 1 1 0 1 1 1 1 1 1 1 1 0 0 0 1 1 1 1]\n",
            "Accuracy:  0.9225\n",
            "36 dimensions with 7 nearest neighbours\n",
            "Correct labels are:\n",
            "[0 0 0 0 0 0 0 0 0 0 0 0 0 0 0 0 0 0 0 0 0 0 0 0 0 0 0 0 0 0 0 0 0 0 0 0 0\n",
            " 0 0 0 0 0 0 0 0 0 0 0 0 0 0 0 0 0 0 0 0 0 0 0 0 0 0 0 0 0 0 0 0 0 0 0 0 0\n",
            " 0 0 0 0 0 0 0 0 0 0 0 0 0 0 0 0 0 0 0 0 0 0 0 0 0 0 0 0 0 0 0 0 0 0 0 0 0\n",
            " 0 0 0 0 0 0 0 0 0 0 0 0 0 0 0 0 0 0 0 0 0 0 0 0 0 0 0 0 0 0 0 0 0 0 0 0 0\n",
            " 0 0 0 0 0 0 0 0 0 0 0 0 0 0 0 0 0 0 0 0 0 0 0 0 0 0 0 0 0 0 0 0 0 0 0 0 0\n",
            " 0 0 0 0 0 0 0 0 0 0 0 0 0 0 0 0 1 1 1 1 1 1 1 1 1 1 1 1 1 1 1 1 1 1 1 1 1\n",
            " 1 1 1 1 1 1 1 1 1 1 1 1 1 1 1 1 1 1 1 1 1 1 1 1 1 1 1 1 1 1 1 1 1 1 1 1 1\n",
            " 1 1 1 1 1 1 1 1 1 1 1 1 1 1 1 1 1 1 1 1 1 1 1 1 1 1 1 1 1 1 1 1 1 1 1 1 1\n",
            " 1 1 1 1 1 1 1 1 1 1 1 1 1 1 1 1 1 1 1 1 1 1 1 1 1 1 1 1 1 1 1 1 1 1 1 1 1\n",
            " 1 1 1 1 1 1 1 1 1 1 1 1 1 1 1 1 1 1 1 1 1 1 1 1 1 1 1 1 1 1 1 1 1 1 1 1 1\n",
            " 1 1 1 1 1 1 1 1 1 1 1 1 1 1 1 1 1 1 1 1 1 1 1 1 1 1 1 1 1 1]\n",
            "Predicted labels are:\n",
            "[0 0 0 0 0 0 0 0 0 0 0 0 0 0 0 0 0 0 0 0 0 0 0 0 0 0 0 0 0 0 0 0 0 0 0 0 0\n",
            " 0 0 0 0 0 0 0 0 0 0 0 0 0 0 0 0 0 0 0 0 0 0 0 0 0 0 0 0 0 0 0 0 0 0 0 0 0\n",
            " 0 0 0 0 0 0 0 0 0 0 0 0 0 0 0 0 0 0 0 0 0 0 0 0 0 0 0 0 0 0 0 0 0 0 0 0 0\n",
            " 0 0 0 0 0 0 0 0 0 0 0 0 0 0 0 0 0 0 0 0 0 0 0 0 0 0 0 0 0 0 0 0 0 0 0 0 0\n",
            " 0 0 0 0 0 0 0 0 0 0 0 0 0 0 0 0 0 0 0 0 0 0 0 0 0 0 0 0 0 0 0 0 0 0 0 0 0\n",
            " 0 0 0 0 0 0 0 0 0 0 0 0 0 0 0 1 1 1 1 1 1 1 1 0 1 0 0 1 1 1 1 1 1 1 1 1 0\n",
            " 1 0 1 1 1 0 0 1 1 1 0 1 1 1 0 1 1 1 1 0 1 1 1 1 0 1 1 1 1 0 0 1 1 0 1 1 1\n",
            " 1 1 1 0 1 1 1 1 1 1 0 1 1 1 1 1 1 1 0 1 1 1 1 0 1 0 1 1 1 1 1 1 1 0 1 1 1\n",
            " 1 1 1 1 0 1 1 0 1 1 1 1 1 0 1 1 0 1 1 0 1 1 0 1 1 1 1 0 0 1 1 1 1 1 1 1 1\n",
            " 1 1 1 1 1 1 0 1 1 1 1 0 1 1 1 1 1 1 1 1 1 1 1 1 1 1 1 0 1 0 1 1 1 1 1 1 1\n",
            " 1 1 1 1 1 1 1 1 1 1 1 1 1 1 0 1 1 1 1 1 1 1 1 0 0 0 1 1 1 1]\n",
            "Accuracy:  0.9075\n",
            "60 dimensions with 1 nearest neighbours\n",
            "Correct labels are:\n",
            "[0 0 0 0 0 0 0 0 0 0 0 0 0 0 0 0 0 0 0 0 0 0 0 0 0 0 0 0 0 0 0 0 0 0 0 0 0\n",
            " 0 0 0 0 0 0 0 0 0 0 0 0 0 0 0 0 0 0 0 0 0 0 0 0 0 0 0 0 0 0 0 0 0 0 0 0 0\n",
            " 0 0 0 0 0 0 0 0 0 0 0 0 0 0 0 0 0 0 0 0 0 0 0 0 0 0 0 0 0 0 0 0 0 0 0 0 0\n",
            " 0 0 0 0 0 0 0 0 0 0 0 0 0 0 0 0 0 0 0 0 0 0 0 0 0 0 0 0 0 0 0 0 0 0 0 0 0\n",
            " 0 0 0 0 0 0 0 0 0 0 0 0 0 0 0 0 0 0 0 0 0 0 0 0 0 0 0 0 0 0 0 0 0 0 0 0 0\n",
            " 0 0 0 0 0 0 0 0 0 0 0 0 0 0 0 0 1 1 1 1 1 1 1 1 1 1 1 1 1 1 1 1 1 1 1 1 1\n",
            " 1 1 1 1 1 1 1 1 1 1 1 1 1 1 1 1 1 1 1 1 1 1 1 1 1 1 1 1 1 1 1 1 1 1 1 1 1\n",
            " 1 1 1 1 1 1 1 1 1 1 1 1 1 1 1 1 1 1 1 1 1 1 1 1 1 1 1 1 1 1 1 1 1 1 1 1 1\n",
            " 1 1 1 1 1 1 1 1 1 1 1 1 1 1 1 1 1 1 1 1 1 1 1 1 1 1 1 1 1 1 1 1 1 1 1 1 1\n",
            " 1 1 1 1 1 1 1 1 1 1 1 1 1 1 1 1 1 1 1 1 1 1 1 1 1 1 1 1 1 1 1 1 1 1 1 1 1\n",
            " 1 1 1 1 1 1 1 1 1 1 1 1 1 1 1 1 1 1 1 1 1 1 1 1 1 1 1 1 1 1]\n",
            "Predicted labels are:\n",
            "[0 0 0 0 0 0 0 0 0 0 0 0 0 0 0 0 0 0 0 0 0 0 0 0 0 0 0 0 0 0 0 0 0 0 0 0 0\n",
            " 0 0 0 0 0 0 0 0 0 0 0 0 0 0 0 0 0 0 0 0 0 0 0 0 0 0 0 0 0 0 0 0 0 0 0 0 0\n",
            " 0 0 0 0 0 0 0 0 0 0 0 0 0 0 0 0 0 0 0 0 0 0 0 0 0 0 0 0 0 0 0 0 0 0 0 0 0\n",
            " 0 0 0 0 0 0 0 0 0 0 0 0 0 0 0 0 0 0 0 0 0 0 0 0 0 0 0 0 0 0 0 0 0 0 0 0 0\n",
            " 0 0 0 0 0 0 0 0 0 0 0 0 0 0 0 0 0 0 0 0 0 0 0 0 0 0 0 0 0 0 0 0 0 0 0 0 0\n",
            " 0 0 0 0 0 0 0 0 0 0 0 0 0 0 0 0 1 1 1 1 1 1 1 0 1 1 0 1 1 1 1 1 1 1 1 1 1\n",
            " 1 0 1 1 1 1 0 1 1 1 1 1 1 1 0 1 1 1 1 1 1 1 1 1 0 1 1 1 1 1 1 1 1 0 1 1 1\n",
            " 1 1 1 0 1 1 1 1 1 1 1 1 1 1 1 1 1 1 1 1 1 1 1 0 1 1 1 1 1 1 1 1 1 0 1 1 1\n",
            " 1 1 1 1 0 1 1 0 1 1 1 1 1 0 1 1 1 1 1 0 1 1 0 1 1 1 1 0 1 1 1 1 1 1 1 1 1\n",
            " 1 0 1 1 1 1 1 1 1 1 1 0 1 1 1 1 1 1 1 1 1 1 1 1 1 1 1 0 1 1 1 1 1 1 1 1 1\n",
            " 1 1 1 1 1 1 1 1 1 1 1 1 1 1 1 1 1 1 1 1 1 1 1 1 1 0 1 1 1 1]\n",
            "Accuracy:  0.95\n",
            "60 dimensions with 3 nearest neighbours\n",
            "Correct labels are:\n",
            "[0 0 0 0 0 0 0 0 0 0 0 0 0 0 0 0 0 0 0 0 0 0 0 0 0 0 0 0 0 0 0 0 0 0 0 0 0\n",
            " 0 0 0 0 0 0 0 0 0 0 0 0 0 0 0 0 0 0 0 0 0 0 0 0 0 0 0 0 0 0 0 0 0 0 0 0 0\n",
            " 0 0 0 0 0 0 0 0 0 0 0 0 0 0 0 0 0 0 0 0 0 0 0 0 0 0 0 0 0 0 0 0 0 0 0 0 0\n",
            " 0 0 0 0 0 0 0 0 0 0 0 0 0 0 0 0 0 0 0 0 0 0 0 0 0 0 0 0 0 0 0 0 0 0 0 0 0\n",
            " 0 0 0 0 0 0 0 0 0 0 0 0 0 0 0 0 0 0 0 0 0 0 0 0 0 0 0 0 0 0 0 0 0 0 0 0 0\n",
            " 0 0 0 0 0 0 0 0 0 0 0 0 0 0 0 0 1 1 1 1 1 1 1 1 1 1 1 1 1 1 1 1 1 1 1 1 1\n",
            " 1 1 1 1 1 1 1 1 1 1 1 1 1 1 1 1 1 1 1 1 1 1 1 1 1 1 1 1 1 1 1 1 1 1 1 1 1\n",
            " 1 1 1 1 1 1 1 1 1 1 1 1 1 1 1 1 1 1 1 1 1 1 1 1 1 1 1 1 1 1 1 1 1 1 1 1 1\n",
            " 1 1 1 1 1 1 1 1 1 1 1 1 1 1 1 1 1 1 1 1 1 1 1 1 1 1 1 1 1 1 1 1 1 1 1 1 1\n",
            " 1 1 1 1 1 1 1 1 1 1 1 1 1 1 1 1 1 1 1 1 1 1 1 1 1 1 1 1 1 1 1 1 1 1 1 1 1\n",
            " 1 1 1 1 1 1 1 1 1 1 1 1 1 1 1 1 1 1 1 1 1 1 1 1 1 1 1 1 1 1]\n",
            "Predicted labels are:\n",
            "[0 0 0 0 0 0 0 0 0 0 0 0 0 0 0 0 0 0 0 0 0 0 0 0 0 0 0 0 0 0 0 0 0 0 0 0 0\n",
            " 0 0 0 0 0 0 0 0 0 0 0 0 0 0 0 0 0 0 0 0 0 0 0 0 0 0 0 0 0 0 0 0 0 0 0 0 0\n",
            " 0 0 0 0 0 0 0 0 0 0 0 0 0 0 0 0 0 0 0 0 0 0 0 0 0 0 0 0 0 0 0 0 0 0 0 0 0\n",
            " 0 0 0 0 0 0 0 0 0 0 0 0 0 0 0 0 0 0 0 0 0 0 0 0 0 0 0 0 0 0 0 0 0 0 0 0 0\n",
            " 0 0 0 0 0 0 0 0 0 0 0 0 0 0 0 0 0 0 0 0 0 0 0 0 0 0 0 0 0 0 0 0 0 0 0 0 0\n",
            " 0 0 0 0 0 0 0 0 0 0 0 0 0 0 0 0 1 1 1 1 1 1 1 1 1 1 0 1 1 1 1 1 0 1 1 1 0\n",
            " 1 0 1 1 1 0 0 1 1 1 0 1 1 1 0 1 1 1 1 0 1 1 1 1 0 1 1 1 1 1 0 1 1 0 1 1 1\n",
            " 1 1 1 0 1 1 1 1 1 1 0 1 1 1 1 1 1 1 0 1 1 1 1 1 1 0 1 1 1 1 1 1 1 0 1 1 1\n",
            " 1 1 1 1 0 1 1 0 1 1 1 1 1 1 1 1 0 1 1 1 1 1 0 1 1 1 1 0 1 1 1 1 1 1 1 1 1\n",
            " 1 0 1 1 1 1 1 1 1 1 1 0 1 1 1 1 1 1 1 1 1 1 1 1 1 1 0 0 1 0 1 1 1 1 1 1 1\n",
            " 1 1 1 1 1 1 1 1 1 1 1 1 1 1 0 1 1 1 1 1 1 1 1 1 1 0 1 1 1 1]\n",
            "Accuracy:  0.9275\n",
            "60 dimensions with 5 nearest neighbours\n",
            "Correct labels are:\n",
            "[0 0 0 0 0 0 0 0 0 0 0 0 0 0 0 0 0 0 0 0 0 0 0 0 0 0 0 0 0 0 0 0 0 0 0 0 0\n",
            " 0 0 0 0 0 0 0 0 0 0 0 0 0 0 0 0 0 0 0 0 0 0 0 0 0 0 0 0 0 0 0 0 0 0 0 0 0\n",
            " 0 0 0 0 0 0 0 0 0 0 0 0 0 0 0 0 0 0 0 0 0 0 0 0 0 0 0 0 0 0 0 0 0 0 0 0 0\n",
            " 0 0 0 0 0 0 0 0 0 0 0 0 0 0 0 0 0 0 0 0 0 0 0 0 0 0 0 0 0 0 0 0 0 0 0 0 0\n",
            " 0 0 0 0 0 0 0 0 0 0 0 0 0 0 0 0 0 0 0 0 0 0 0 0 0 0 0 0 0 0 0 0 0 0 0 0 0\n",
            " 0 0 0 0 0 0 0 0 0 0 0 0 0 0 0 0 1 1 1 1 1 1 1 1 1 1 1 1 1 1 1 1 1 1 1 1 1\n",
            " 1 1 1 1 1 1 1 1 1 1 1 1 1 1 1 1 1 1 1 1 1 1 1 1 1 1 1 1 1 1 1 1 1 1 1 1 1\n",
            " 1 1 1 1 1 1 1 1 1 1 1 1 1 1 1 1 1 1 1 1 1 1 1 1 1 1 1 1 1 1 1 1 1 1 1 1 1\n",
            " 1 1 1 1 1 1 1 1 1 1 1 1 1 1 1 1 1 1 1 1 1 1 1 1 1 1 1 1 1 1 1 1 1 1 1 1 1\n",
            " 1 1 1 1 1 1 1 1 1 1 1 1 1 1 1 1 1 1 1 1 1 1 1 1 1 1 1 1 1 1 1 1 1 1 1 1 1\n",
            " 1 1 1 1 1 1 1 1 1 1 1 1 1 1 1 1 1 1 1 1 1 1 1 1 1 1 1 1 1 1]\n",
            "Predicted labels are:\n",
            "[0 0 0 0 0 0 0 0 0 0 0 0 0 0 0 0 0 0 0 0 0 0 0 0 0 0 0 0 0 0 0 0 0 0 0 0 0\n",
            " 0 0 0 0 0 0 0 0 0 0 0 0 0 0 0 0 0 0 0 0 0 0 0 0 0 0 0 0 0 0 0 0 0 0 0 0 0\n",
            " 0 0 0 0 0 0 0 0 0 0 0 0 0 0 0 0 0 0 0 0 0 0 0 0 0 0 0 0 0 0 0 0 0 0 0 0 0\n",
            " 0 0 0 0 0 0 0 0 0 0 0 0 0 0 0 0 0 0 0 0 0 0 0 0 0 0 0 0 0 0 0 0 0 0 0 0 0\n",
            " 0 0 0 0 0 0 0 0 0 0 0 0 0 0 0 0 0 0 0 0 0 0 0 0 0 0 0 0 0 0 0 0 0 0 0 0 0\n",
            " 0 0 0 0 0 0 0 0 0 0 0 0 0 0 0 1 1 1 1 1 1 1 1 0 1 0 0 1 1 1 1 1 0 1 1 1 0\n",
            " 1 0 1 1 1 0 0 1 1 1 0 1 1 1 0 1 1 1 1 0 1 1 1 1 0 1 1 1 1 1 0 1 1 0 1 1 1\n",
            " 1 1 1 0 1 1 1 1 1 1 0 1 1 1 1 1 1 1 0 1 1 1 1 1 1 0 1 1 1 1 1 1 1 0 1 1 1\n",
            " 1 1 1 1 0 1 1 0 1 1 1 1 1 1 1 1 0 1 1 1 1 1 0 1 1 1 1 0 1 1 1 1 1 1 1 1 1\n",
            " 1 1 1 1 1 1 0 1 1 1 1 0 1 1 1 1 1 1 1 1 1 1 1 1 1 1 0 0 1 0 1 1 1 1 1 1 1\n",
            " 1 1 1 1 1 1 1 0 1 1 1 1 1 1 0 1 1 1 1 1 1 1 1 0 0 0 1 1 1 1]\n",
            "Accuracy:  0.9125\n",
            "60 dimensions with 7 nearest neighbours\n",
            "Correct labels are:\n",
            "[0 0 0 0 0 0 0 0 0 0 0 0 0 0 0 0 0 0 0 0 0 0 0 0 0 0 0 0 0 0 0 0 0 0 0 0 0\n",
            " 0 0 0 0 0 0 0 0 0 0 0 0 0 0 0 0 0 0 0 0 0 0 0 0 0 0 0 0 0 0 0 0 0 0 0 0 0\n",
            " 0 0 0 0 0 0 0 0 0 0 0 0 0 0 0 0 0 0 0 0 0 0 0 0 0 0 0 0 0 0 0 0 0 0 0 0 0\n",
            " 0 0 0 0 0 0 0 0 0 0 0 0 0 0 0 0 0 0 0 0 0 0 0 0 0 0 0 0 0 0 0 0 0 0 0 0 0\n",
            " 0 0 0 0 0 0 0 0 0 0 0 0 0 0 0 0 0 0 0 0 0 0 0 0 0 0 0 0 0 0 0 0 0 0 0 0 0\n",
            " 0 0 0 0 0 0 0 0 0 0 0 0 0 0 0 0 1 1 1 1 1 1 1 1 1 1 1 1 1 1 1 1 1 1 1 1 1\n",
            " 1 1 1 1 1 1 1 1 1 1 1 1 1 1 1 1 1 1 1 1 1 1 1 1 1 1 1 1 1 1 1 1 1 1 1 1 1\n",
            " 1 1 1 1 1 1 1 1 1 1 1 1 1 1 1 1 1 1 1 1 1 1 1 1 1 1 1 1 1 1 1 1 1 1 1 1 1\n",
            " 1 1 1 1 1 1 1 1 1 1 1 1 1 1 1 1 1 1 1 1 1 1 1 1 1 1 1 1 1 1 1 1 1 1 1 1 1\n",
            " 1 1 1 1 1 1 1 1 1 1 1 1 1 1 1 1 1 1 1 1 1 1 1 1 1 1 1 1 1 1 1 1 1 1 1 1 1\n",
            " 1 1 1 1 1 1 1 1 1 1 1 1 1 1 1 1 1 1 1 1 1 1 1 1 1 1 1 1 1 1]\n",
            "Predicted labels are:\n",
            "[0 0 0 0 0 0 0 0 0 0 0 0 0 0 0 0 0 0 0 0 0 0 0 0 0 0 0 0 0 0 0 0 0 0 0 0 0\n",
            " 0 0 0 0 0 0 0 0 0 0 0 0 0 0 0 0 0 0 0 0 0 0 0 0 0 0 0 0 0 0 0 0 0 0 0 0 0\n",
            " 0 0 0 0 0 0 0 0 0 0 0 0 0 0 0 0 0 0 0 0 0 0 0 0 0 0 0 0 0 0 0 0 0 0 0 0 0\n",
            " 0 0 0 0 0 0 0 0 0 0 0 0 0 0 0 0 0 0 0 0 0 0 0 0 0 0 0 0 0 0 0 0 0 0 0 0 0\n",
            " 0 0 0 0 0 0 0 0 0 0 0 0 0 0 0 0 0 0 0 0 0 0 0 0 0 0 0 0 0 0 0 0 0 0 0 0 0\n",
            " 0 0 0 0 0 0 0 0 0 0 0 0 0 0 0 1 1 1 1 1 1 1 1 0 1 0 0 1 1 1 1 1 0 1 1 1 0\n",
            " 1 0 1 1 1 0 0 1 1 1 0 1 1 1 0 1 1 1 1 0 1 1 1 1 0 1 1 1 1 1 0 1 1 0 1 1 1\n",
            " 1 1 1 0 1 1 1 1 1 1 0 1 1 1 1 1 0 1 0 1 1 1 1 0 0 0 1 1 1 1 1 1 1 0 1 1 1\n",
            " 1 1 1 1 1 1 1 0 1 1 1 1 1 0 1 1 0 1 1 0 1 1 0 1 1 1 1 0 0 1 1 1 1 1 1 1 1\n",
            " 1 1 1 1 1 1 0 1 1 1 1 0 1 1 1 1 1 1 1 1 1 1 1 1 1 1 0 0 1 0 1 1 1 1 1 1 1\n",
            " 1 1 1 1 1 1 1 1 1 1 1 1 1 1 0 1 1 1 1 1 1 1 1 0 0 0 1 1 1 1]\n",
            "Accuracy:  0.9025\n",
            "99 dimensions with 1 nearest neighbours\n",
            "Correct labels are:\n",
            "[0 0 0 0 0 0 0 0 0 0 0 0 0 0 0 0 0 0 0 0 0 0 0 0 0 0 0 0 0 0 0 0 0 0 0 0 0\n",
            " 0 0 0 0 0 0 0 0 0 0 0 0 0 0 0 0 0 0 0 0 0 0 0 0 0 0 0 0 0 0 0 0 0 0 0 0 0\n",
            " 0 0 0 0 0 0 0 0 0 0 0 0 0 0 0 0 0 0 0 0 0 0 0 0 0 0 0 0 0 0 0 0 0 0 0 0 0\n",
            " 0 0 0 0 0 0 0 0 0 0 0 0 0 0 0 0 0 0 0 0 0 0 0 0 0 0 0 0 0 0 0 0 0 0 0 0 0\n",
            " 0 0 0 0 0 0 0 0 0 0 0 0 0 0 0 0 0 0 0 0 0 0 0 0 0 0 0 0 0 0 0 0 0 0 0 0 0\n",
            " 0 0 0 0 0 0 0 0 0 0 0 0 0 0 0 0 1 1 1 1 1 1 1 1 1 1 1 1 1 1 1 1 1 1 1 1 1\n",
            " 1 1 1 1 1 1 1 1 1 1 1 1 1 1 1 1 1 1 1 1 1 1 1 1 1 1 1 1 1 1 1 1 1 1 1 1 1\n",
            " 1 1 1 1 1 1 1 1 1 1 1 1 1 1 1 1 1 1 1 1 1 1 1 1 1 1 1 1 1 1 1 1 1 1 1 1 1\n",
            " 1 1 1 1 1 1 1 1 1 1 1 1 1 1 1 1 1 1 1 1 1 1 1 1 1 1 1 1 1 1 1 1 1 1 1 1 1\n",
            " 1 1 1 1 1 1 1 1 1 1 1 1 1 1 1 1 1 1 1 1 1 1 1 1 1 1 1 1 1 1 1 1 1 1 1 1 1\n",
            " 1 1 1 1 1 1 1 1 1 1 1 1 1 1 1 1 1 1 1 1 1 1 1 1 1 1 1 1 1 1]\n",
            "Predicted labels are:\n",
            "[0 0 0 0 0 0 0 0 0 0 0 0 0 0 0 0 0 0 0 0 0 0 0 0 0 0 0 0 0 0 0 0 0 0 0 0 0\n",
            " 0 0 0 0 0 0 0 0 0 0 0 0 0 0 0 0 0 0 0 0 0 0 0 0 0 0 0 0 0 0 0 0 0 0 0 0 0\n",
            " 0 0 0 0 0 0 0 0 0 0 0 0 0 0 0 0 0 0 0 0 0 0 0 0 0 0 0 0 0 0 0 0 0 0 0 0 0\n",
            " 0 0 0 0 0 0 0 0 0 0 0 0 0 0 0 0 0 0 0 0 0 0 0 0 0 0 0 0 0 0 0 0 0 0 0 0 0\n",
            " 0 0 0 0 0 0 0 0 0 0 0 0 0 0 0 0 0 0 0 0 0 0 0 0 0 0 0 0 0 0 0 0 0 0 0 0 0\n",
            " 0 0 0 0 0 0 0 0 0 0 0 0 0 0 0 0 1 1 1 1 1 1 1 1 1 1 0 1 1 1 1 1 1 1 1 1 0\n",
            " 1 0 1 1 1 0 0 1 1 1 1 1 1 1 0 1 1 1 1 1 1 1 1 1 0 1 1 1 1 0 1 1 1 0 1 1 1\n",
            " 1 1 1 0 1 1 1 1 1 1 1 1 1 1 1 1 1 1 1 1 1 1 1 0 1 0 1 1 1 1 1 1 1 0 1 1 1\n",
            " 1 1 1 1 1 1 1 0 1 1 1 1 1 0 1 1 1 1 1 0 1 1 0 1 1 1 1 1 1 1 1 1 1 1 1 1 1\n",
            " 1 0 1 1 1 1 1 1 1 1 1 0 1 1 1 1 1 1 1 1 1 1 1 1 1 1 1 0 1 1 1 1 1 1 1 1 1\n",
            " 1 1 1 1 1 1 1 1 1 1 1 1 1 1 0 1 1 1 1 1 1 1 1 1 1 0 1 1 1 1]\n",
            "Accuracy:  0.945\n",
            "99 dimensions with 3 nearest neighbours\n",
            "Correct labels are:\n",
            "[0 0 0 0 0 0 0 0 0 0 0 0 0 0 0 0 0 0 0 0 0 0 0 0 0 0 0 0 0 0 0 0 0 0 0 0 0\n",
            " 0 0 0 0 0 0 0 0 0 0 0 0 0 0 0 0 0 0 0 0 0 0 0 0 0 0 0 0 0 0 0 0 0 0 0 0 0\n",
            " 0 0 0 0 0 0 0 0 0 0 0 0 0 0 0 0 0 0 0 0 0 0 0 0 0 0 0 0 0 0 0 0 0 0 0 0 0\n",
            " 0 0 0 0 0 0 0 0 0 0 0 0 0 0 0 0 0 0 0 0 0 0 0 0 0 0 0 0 0 0 0 0 0 0 0 0 0\n",
            " 0 0 0 0 0 0 0 0 0 0 0 0 0 0 0 0 0 0 0 0 0 0 0 0 0 0 0 0 0 0 0 0 0 0 0 0 0\n",
            " 0 0 0 0 0 0 0 0 0 0 0 0 0 0 0 0 1 1 1 1 1 1 1 1 1 1 1 1 1 1 1 1 1 1 1 1 1\n",
            " 1 1 1 1 1 1 1 1 1 1 1 1 1 1 1 1 1 1 1 1 1 1 1 1 1 1 1 1 1 1 1 1 1 1 1 1 1\n",
            " 1 1 1 1 1 1 1 1 1 1 1 1 1 1 1 1 1 1 1 1 1 1 1 1 1 1 1 1 1 1 1 1 1 1 1 1 1\n",
            " 1 1 1 1 1 1 1 1 1 1 1 1 1 1 1 1 1 1 1 1 1 1 1 1 1 1 1 1 1 1 1 1 1 1 1 1 1\n",
            " 1 1 1 1 1 1 1 1 1 1 1 1 1 1 1 1 1 1 1 1 1 1 1 1 1 1 1 1 1 1 1 1 1 1 1 1 1\n",
            " 1 1 1 1 1 1 1 1 1 1 1 1 1 1 1 1 1 1 1 1 1 1 1 1 1 1 1 1 1 1]\n",
            "Predicted labels are:\n",
            "[0 0 0 0 0 0 0 0 0 0 0 0 0 0 0 0 0 0 0 0 0 0 0 0 0 0 0 0 0 0 0 0 0 0 0 0 0\n",
            " 0 0 0 0 0 0 0 0 0 0 0 0 0 0 0 0 0 0 0 0 0 0 0 0 0 0 0 0 0 0 0 0 0 0 0 0 0\n",
            " 0 0 0 0 0 0 0 0 0 0 0 0 0 0 0 0 0 0 0 0 0 0 0 0 0 0 0 0 0 0 0 0 0 0 0 0 0\n",
            " 0 0 0 0 0 0 0 0 0 0 0 0 0 0 0 0 0 0 0 0 0 0 0 0 0 0 0 0 0 0 0 0 0 0 0 0 0\n",
            " 0 0 0 0 0 0 0 0 0 0 0 0 0 0 0 0 0 0 0 0 0 0 0 0 0 0 0 0 0 0 0 0 0 0 0 0 0\n",
            " 0 0 0 0 0 0 0 0 0 0 0 0 0 0 0 0 1 1 1 1 1 1 1 1 1 1 0 1 1 1 1 0 0 1 1 1 0\n",
            " 1 0 1 1 1 0 0 1 1 1 0 1 1 1 0 1 1 1 1 0 1 1 1 1 0 1 1 1 1 0 1 1 1 0 1 1 1\n",
            " 1 1 1 0 1 1 1 1 1 1 0 1 1 1 1 1 1 1 0 1 1 1 1 0 1 0 1 1 1 1 1 1 1 0 1 1 1\n",
            " 1 1 1 1 0 1 1 0 1 1 1 1 1 0 1 1 0 1 1 0 1 1 0 1 1 1 1 0 1 1 1 1 1 1 1 1 1\n",
            " 1 0 1 1 1 1 1 1 1 1 1 0 1 1 1 1 1 1 1 1 1 1 1 1 1 1 0 0 1 0 1 1 1 1 1 1 1\n",
            " 1 1 1 1 1 1 1 1 1 1 1 1 1 1 0 1 1 1 1 1 1 1 1 1 0 0 1 1 1 1]\n",
            "Accuracy:  0.915\n",
            "99 dimensions with 5 nearest neighbours\n",
            "Correct labels are:\n",
            "[0 0 0 0 0 0 0 0 0 0 0 0 0 0 0 0 0 0 0 0 0 0 0 0 0 0 0 0 0 0 0 0 0 0 0 0 0\n",
            " 0 0 0 0 0 0 0 0 0 0 0 0 0 0 0 0 0 0 0 0 0 0 0 0 0 0 0 0 0 0 0 0 0 0 0 0 0\n",
            " 0 0 0 0 0 0 0 0 0 0 0 0 0 0 0 0 0 0 0 0 0 0 0 0 0 0 0 0 0 0 0 0 0 0 0 0 0\n",
            " 0 0 0 0 0 0 0 0 0 0 0 0 0 0 0 0 0 0 0 0 0 0 0 0 0 0 0 0 0 0 0 0 0 0 0 0 0\n",
            " 0 0 0 0 0 0 0 0 0 0 0 0 0 0 0 0 0 0 0 0 0 0 0 0 0 0 0 0 0 0 0 0 0 0 0 0 0\n",
            " 0 0 0 0 0 0 0 0 0 0 0 0 0 0 0 0 1 1 1 1 1 1 1 1 1 1 1 1 1 1 1 1 1 1 1 1 1\n",
            " 1 1 1 1 1 1 1 1 1 1 1 1 1 1 1 1 1 1 1 1 1 1 1 1 1 1 1 1 1 1 1 1 1 1 1 1 1\n",
            " 1 1 1 1 1 1 1 1 1 1 1 1 1 1 1 1 1 1 1 1 1 1 1 1 1 1 1 1 1 1 1 1 1 1 1 1 1\n",
            " 1 1 1 1 1 1 1 1 1 1 1 1 1 1 1 1 1 1 1 1 1 1 1 1 1 1 1 1 1 1 1 1 1 1 1 1 1\n",
            " 1 1 1 1 1 1 1 1 1 1 1 1 1 1 1 1 1 1 1 1 1 1 1 1 1 1 1 1 1 1 1 1 1 1 1 1 1\n",
            " 1 1 1 1 1 1 1 1 1 1 1 1 1 1 1 1 1 1 1 1 1 1 1 1 1 1 1 1 1 1]\n",
            "Predicted labels are:\n",
            "[0 0 0 0 0 0 0 0 0 0 0 0 0 0 0 0 0 0 0 0 0 0 0 0 0 0 0 0 0 0 0 0 0 0 0 0 0\n",
            " 0 0 0 0 0 0 0 0 0 0 0 0 0 0 0 0 0 0 0 0 0 0 0 0 0 0 0 0 0 0 0 0 0 0 0 0 0\n",
            " 0 0 0 0 0 0 0 0 0 0 0 0 0 0 0 0 0 0 0 0 0 0 0 0 0 0 0 0 0 0 0 0 0 0 0 0 0\n",
            " 0 0 0 0 0 0 0 0 0 0 0 0 0 0 0 0 0 0 0 0 0 0 0 0 0 0 0 0 0 0 0 0 0 0 0 0 0\n",
            " 0 0 0 0 0 0 0 0 0 0 0 0 0 0 0 0 0 0 0 0 0 0 0 0 0 0 0 0 0 0 0 0 0 0 0 0 0\n",
            " 0 0 0 0 0 0 0 0 0 0 0 0 0 0 0 0 1 1 1 1 1 1 1 1 1 0 0 1 1 1 0 0 0 1 1 1 0\n",
            " 1 0 0 1 1 0 0 1 1 1 0 1 1 1 0 1 1 1 1 0 1 1 1 1 0 1 1 1 1 0 0 1 1 0 1 1 1\n",
            " 1 1 1 0 1 1 1 1 1 1 0 1 1 1 1 1 1 1 0 1 1 1 1 0 1 0 1 1 1 1 1 1 1 0 1 1 1\n",
            " 1 1 1 1 0 1 1 0 1 1 1 1 1 0 1 1 0 1 1 0 1 1 0 1 1 1 1 0 1 1 1 1 1 1 1 1 1\n",
            " 1 1 1 1 1 1 0 1 1 0 1 0 1 1 1 1 1 1 1 1 1 1 1 1 1 1 0 0 1 0 1 1 1 1 1 1 1\n",
            " 1 1 1 1 1 1 1 0 1 1 1 1 1 1 0 1 1 1 1 1 1 1 1 0 0 0 1 1 1 1]\n",
            "Accuracy:  0.8975\n",
            "99 dimensions with 7 nearest neighbours\n",
            "Correct labels are:\n",
            "[0 0 0 0 0 0 0 0 0 0 0 0 0 0 0 0 0 0 0 0 0 0 0 0 0 0 0 0 0 0 0 0 0 0 0 0 0\n",
            " 0 0 0 0 0 0 0 0 0 0 0 0 0 0 0 0 0 0 0 0 0 0 0 0 0 0 0 0 0 0 0 0 0 0 0 0 0\n",
            " 0 0 0 0 0 0 0 0 0 0 0 0 0 0 0 0 0 0 0 0 0 0 0 0 0 0 0 0 0 0 0 0 0 0 0 0 0\n",
            " 0 0 0 0 0 0 0 0 0 0 0 0 0 0 0 0 0 0 0 0 0 0 0 0 0 0 0 0 0 0 0 0 0 0 0 0 0\n",
            " 0 0 0 0 0 0 0 0 0 0 0 0 0 0 0 0 0 0 0 0 0 0 0 0 0 0 0 0 0 0 0 0 0 0 0 0 0\n",
            " 0 0 0 0 0 0 0 0 0 0 0 0 0 0 0 0 1 1 1 1 1 1 1 1 1 1 1 1 1 1 1 1 1 1 1 1 1\n",
            " 1 1 1 1 1 1 1 1 1 1 1 1 1 1 1 1 1 1 1 1 1 1 1 1 1 1 1 1 1 1 1 1 1 1 1 1 1\n",
            " 1 1 1 1 1 1 1 1 1 1 1 1 1 1 1 1 1 1 1 1 1 1 1 1 1 1 1 1 1 1 1 1 1 1 1 1 1\n",
            " 1 1 1 1 1 1 1 1 1 1 1 1 1 1 1 1 1 1 1 1 1 1 1 1 1 1 1 1 1 1 1 1 1 1 1 1 1\n",
            " 1 1 1 1 1 1 1 1 1 1 1 1 1 1 1 1 1 1 1 1 1 1 1 1 1 1 1 1 1 1 1 1 1 1 1 1 1\n",
            " 1 1 1 1 1 1 1 1 1 1 1 1 1 1 1 1 1 1 1 1 1 1 1 1 1 1 1 1 1 1]\n",
            "Predicted labels are:\n",
            "[0 0 0 0 0 0 0 0 0 0 0 0 0 0 0 0 0 0 0 0 0 0 0 0 0 0 0 0 0 0 0 0 0 0 0 0 0\n",
            " 0 0 0 0 0 0 0 0 0 0 0 0 0 0 0 0 0 0 0 0 0 0 0 0 0 0 0 0 0 0 0 0 0 0 0 0 0\n",
            " 0 0 0 0 0 0 0 0 0 0 0 0 0 0 0 0 0 0 0 0 0 0 0 0 0 0 0 0 0 0 0 0 0 0 0 0 0\n",
            " 0 0 0 0 0 0 0 0 0 0 0 0 0 0 0 0 0 0 0 0 0 0 0 0 0 0 0 0 0 0 0 0 0 0 0 0 0\n",
            " 0 0 0 0 0 0 0 0 0 0 0 0 0 0 0 0 0 0 0 0 0 0 0 0 0 0 0 0 0 0 0 0 0 0 0 0 0\n",
            " 0 0 0 0 0 0 0 0 0 0 0 0 0 0 0 0 1 1 1 1 1 1 1 1 1 0 0 1 1 1 0 0 0 1 1 1 0\n",
            " 1 0 1 0 1 0 0 1 1 1 0 1 1 1 0 1 1 1 1 0 0 1 1 1 0 1 1 1 1 0 0 1 1 0 1 1 1\n",
            " 1 1 1 0 1 1 1 1 1 1 0 1 1 1 1 1 0 1 0 1 1 1 1 0 0 0 1 1 1 1 1 1 1 0 1 1 1\n",
            " 1 1 1 1 1 1 1 0 1 0 1 1 1 0 1 1 0 1 1 0 1 1 0 1 1 1 1 0 1 1 1 1 1 1 1 1 1\n",
            " 1 1 1 1 1 1 0 1 1 0 1 0 1 1 1 1 1 1 1 1 1 1 1 1 1 1 0 0 1 0 1 1 1 1 1 1 1\n",
            " 1 1 1 1 1 1 1 0 1 1 1 1 1 1 0 1 1 1 1 1 1 1 1 0 0 0 1 1 1 1]\n",
            "Accuracy:  0.89\n",
            "172 dimensions with 1 nearest neighbours\n",
            "Correct labels are:\n",
            "[0 0 0 0 0 0 0 0 0 0 0 0 0 0 0 0 0 0 0 0 0 0 0 0 0 0 0 0 0 0 0 0 0 0 0 0 0\n",
            " 0 0 0 0 0 0 0 0 0 0 0 0 0 0 0 0 0 0 0 0 0 0 0 0 0 0 0 0 0 0 0 0 0 0 0 0 0\n",
            " 0 0 0 0 0 0 0 0 0 0 0 0 0 0 0 0 0 0 0 0 0 0 0 0 0 0 0 0 0 0 0 0 0 0 0 0 0\n",
            " 0 0 0 0 0 0 0 0 0 0 0 0 0 0 0 0 0 0 0 0 0 0 0 0 0 0 0 0 0 0 0 0 0 0 0 0 0\n",
            " 0 0 0 0 0 0 0 0 0 0 0 0 0 0 0 0 0 0 0 0 0 0 0 0 0 0 0 0 0 0 0 0 0 0 0 0 0\n",
            " 0 0 0 0 0 0 0 0 0 0 0 0 0 0 0 0 1 1 1 1 1 1 1 1 1 1 1 1 1 1 1 1 1 1 1 1 1\n",
            " 1 1 1 1 1 1 1 1 1 1 1 1 1 1 1 1 1 1 1 1 1 1 1 1 1 1 1 1 1 1 1 1 1 1 1 1 1\n",
            " 1 1 1 1 1 1 1 1 1 1 1 1 1 1 1 1 1 1 1 1 1 1 1 1 1 1 1 1 1 1 1 1 1 1 1 1 1\n",
            " 1 1 1 1 1 1 1 1 1 1 1 1 1 1 1 1 1 1 1 1 1 1 1 1 1 1 1 1 1 1 1 1 1 1 1 1 1\n",
            " 1 1 1 1 1 1 1 1 1 1 1 1 1 1 1 1 1 1 1 1 1 1 1 1 1 1 1 1 1 1 1 1 1 1 1 1 1\n",
            " 1 1 1 1 1 1 1 1 1 1 1 1 1 1 1 1 1 1 1 1 1 1 1 1 1 1 1 1 1 1]\n",
            "Predicted labels are:\n",
            "[0 0 0 0 0 0 0 0 0 0 0 0 0 0 0 0 0 0 0 0 0 0 0 0 0 0 0 0 0 0 0 0 0 0 0 0 0\n",
            " 0 0 0 0 0 0 0 0 0 0 0 0 0 0 0 0 0 0 0 0 0 0 0 0 0 0 0 0 0 0 0 0 0 0 0 0 0\n",
            " 0 0 0 0 0 0 0 0 0 0 0 0 0 0 0 0 0 0 0 0 0 0 0 0 0 0 0 0 0 0 0 0 0 0 0 0 0\n",
            " 0 0 0 0 0 0 0 0 0 0 0 0 0 0 0 0 0 0 0 0 0 0 0 0 0 0 0 0 0 0 0 0 0 0 0 0 0\n",
            " 0 0 0 0 0 0 0 0 0 0 0 0 0 0 0 0 0 0 0 0 0 0 0 0 0 0 0 0 0 0 0 0 0 0 0 0 0\n",
            " 0 0 0 0 0 0 0 0 0 0 0 0 0 0 0 0 1 1 1 1 1 1 1 1 1 1 0 1 1 1 1 1 1 0 1 1 0\n",
            " 1 0 1 0 1 0 0 1 1 1 0 1 1 1 0 1 1 1 1 1 1 1 1 1 0 1 1 1 1 0 0 1 1 0 1 1 1\n",
            " 1 1 1 0 1 1 1 1 1 1 0 1 1 1 1 1 1 1 1 1 1 1 1 0 1 0 1 1 1 1 1 1 1 0 1 1 1\n",
            " 1 1 1 1 1 1 1 0 1 0 1 1 1 0 1 1 0 1 1 0 1 1 0 1 1 1 1 1 1 1 1 1 1 1 1 1 1\n",
            " 1 0 1 1 1 1 0 1 1 1 1 0 1 1 1 1 1 1 1 1 1 1 1 1 1 1 1 0 1 1 1 1 1 1 1 1 1\n",
            " 1 1 1 1 1 1 1 1 1 1 1 1 1 1 0 1 1 1 1 1 1 1 1 0 0 0 1 1 1 1]\n",
            "Accuracy:  0.92\n",
            "172 dimensions with 3 nearest neighbours\n",
            "Correct labels are:\n",
            "[0 0 0 0 0 0 0 0 0 0 0 0 0 0 0 0 0 0 0 0 0 0 0 0 0 0 0 0 0 0 0 0 0 0 0 0 0\n",
            " 0 0 0 0 0 0 0 0 0 0 0 0 0 0 0 0 0 0 0 0 0 0 0 0 0 0 0 0 0 0 0 0 0 0 0 0 0\n",
            " 0 0 0 0 0 0 0 0 0 0 0 0 0 0 0 0 0 0 0 0 0 0 0 0 0 0 0 0 0 0 0 0 0 0 0 0 0\n",
            " 0 0 0 0 0 0 0 0 0 0 0 0 0 0 0 0 0 0 0 0 0 0 0 0 0 0 0 0 0 0 0 0 0 0 0 0 0\n",
            " 0 0 0 0 0 0 0 0 0 0 0 0 0 0 0 0 0 0 0 0 0 0 0 0 0 0 0 0 0 0 0 0 0 0 0 0 0\n",
            " 0 0 0 0 0 0 0 0 0 0 0 0 0 0 0 0 1 1 1 1 1 1 1 1 1 1 1 1 1 1 1 1 1 1 1 1 1\n",
            " 1 1 1 1 1 1 1 1 1 1 1 1 1 1 1 1 1 1 1 1 1 1 1 1 1 1 1 1 1 1 1 1 1 1 1 1 1\n",
            " 1 1 1 1 1 1 1 1 1 1 1 1 1 1 1 1 1 1 1 1 1 1 1 1 1 1 1 1 1 1 1 1 1 1 1 1 1\n",
            " 1 1 1 1 1 1 1 1 1 1 1 1 1 1 1 1 1 1 1 1 1 1 1 1 1 1 1 1 1 1 1 1 1 1 1 1 1\n",
            " 1 1 1 1 1 1 1 1 1 1 1 1 1 1 1 1 1 1 1 1 1 1 1 1 1 1 1 1 1 1 1 1 1 1 1 1 1\n",
            " 1 1 1 1 1 1 1 1 1 1 1 1 1 1 1 1 1 1 1 1 1 1 1 1 1 1 1 1 1 1]\n",
            "Predicted labels are:\n",
            "[0 0 0 0 0 0 0 0 0 0 0 0 0 0 0 0 0 0 0 0 0 0 0 0 0 0 0 0 0 0 0 0 0 0 0 0 0\n",
            " 0 0 0 0 0 0 0 0 0 0 0 0 0 0 0 0 0 0 0 0 0 0 0 0 0 0 0 0 0 0 0 0 0 0 0 0 0\n",
            " 0 0 0 0 0 0 0 0 0 0 0 0 0 0 0 0 0 0 0 0 0 0 0 0 0 0 0 0 0 0 0 0 0 0 0 0 0\n",
            " 0 0 0 0 0 0 0 0 0 0 0 0 0 0 0 0 0 0 0 0 0 0 0 0 0 0 0 0 0 0 0 0 0 0 0 0 0\n",
            " 0 0 0 0 0 0 0 0 0 0 0 0 0 0 0 0 0 0 0 0 0 0 0 0 0 0 0 0 0 0 0 0 0 0 0 0 0\n",
            " 0 0 0 0 0 0 0 0 0 0 0 0 0 0 0 0 1 1 1 1 1 1 1 0 1 0 0 1 1 1 0 0 0 1 1 1 0\n",
            " 1 0 1 0 1 0 0 1 1 1 0 1 1 1 0 1 1 1 1 0 1 1 1 1 0 1 1 1 1 0 0 1 1 0 1 1 1\n",
            " 1 1 1 0 1 1 1 1 1 1 0 1 1 1 1 1 0 1 0 1 1 1 1 0 1 0 1 1 1 1 1 1 1 0 1 1 1\n",
            " 1 1 1 1 0 1 1 0 1 0 1 1 1 0 1 1 0 1 1 0 1 1 0 1 1 1 1 0 1 1 1 1 1 1 1 1 1\n",
            " 1 0 1 1 1 1 0 1 1 0 1 0 1 1 1 1 1 1 1 1 1 1 1 1 1 1 0 0 1 0 1 1 1 1 1 1 1\n",
            " 1 1 1 1 1 1 1 0 1 1 1 1 1 1 0 1 1 1 1 1 1 1 1 1 0 0 1 1 1 1]\n",
            "Accuracy:  0.89\n",
            "172 dimensions with 5 nearest neighbours\n",
            "Correct labels are:\n",
            "[0 0 0 0 0 0 0 0 0 0 0 0 0 0 0 0 0 0 0 0 0 0 0 0 0 0 0 0 0 0 0 0 0 0 0 0 0\n",
            " 0 0 0 0 0 0 0 0 0 0 0 0 0 0 0 0 0 0 0 0 0 0 0 0 0 0 0 0 0 0 0 0 0 0 0 0 0\n",
            " 0 0 0 0 0 0 0 0 0 0 0 0 0 0 0 0 0 0 0 0 0 0 0 0 0 0 0 0 0 0 0 0 0 0 0 0 0\n",
            " 0 0 0 0 0 0 0 0 0 0 0 0 0 0 0 0 0 0 0 0 0 0 0 0 0 0 0 0 0 0 0 0 0 0 0 0 0\n",
            " 0 0 0 0 0 0 0 0 0 0 0 0 0 0 0 0 0 0 0 0 0 0 0 0 0 0 0 0 0 0 0 0 0 0 0 0 0\n",
            " 0 0 0 0 0 0 0 0 0 0 0 0 0 0 0 0 1 1 1 1 1 1 1 1 1 1 1 1 1 1 1 1 1 1 1 1 1\n",
            " 1 1 1 1 1 1 1 1 1 1 1 1 1 1 1 1 1 1 1 1 1 1 1 1 1 1 1 1 1 1 1 1 1 1 1 1 1\n",
            " 1 1 1 1 1 1 1 1 1 1 1 1 1 1 1 1 1 1 1 1 1 1 1 1 1 1 1 1 1 1 1 1 1 1 1 1 1\n",
            " 1 1 1 1 1 1 1 1 1 1 1 1 1 1 1 1 1 1 1 1 1 1 1 1 1 1 1 1 1 1 1 1 1 1 1 1 1\n",
            " 1 1 1 1 1 1 1 1 1 1 1 1 1 1 1 1 1 1 1 1 1 1 1 1 1 1 1 1 1 1 1 1 1 1 1 1 1\n",
            " 1 1 1 1 1 1 1 1 1 1 1 1 1 1 1 1 1 1 1 1 1 1 1 1 1 1 1 1 1 1]\n",
            "Predicted labels are:\n",
            "[0 0 0 0 0 0 0 0 0 0 0 0 0 0 0 0 0 0 0 0 0 0 0 0 0 0 0 0 0 0 0 0 0 0 0 0 0\n",
            " 0 0 0 0 0 0 0 0 0 0 0 0 0 0 0 0 0 0 0 0 0 0 0 0 0 0 0 0 0 0 0 0 0 0 0 0 0\n",
            " 0 0 0 0 0 0 0 0 0 0 0 0 0 0 0 0 0 0 0 0 0 0 0 0 0 0 0 0 0 0 0 0 0 0 0 0 0\n",
            " 0 0 0 0 0 0 0 0 0 0 0 0 0 0 0 0 0 0 0 0 0 0 0 0 0 0 0 0 0 0 0 0 0 0 0 0 0\n",
            " 0 0 0 0 0 0 0 0 0 0 0 0 0 0 0 0 0 0 0 0 0 0 0 0 0 0 0 0 0 0 0 0 0 0 0 0 0\n",
            " 0 0 0 0 0 0 0 0 0 0 0 0 0 0 0 0 1 1 1 1 1 1 1 1 1 0 0 1 1 1 0 0 0 1 1 1 0\n",
            " 1 0 0 0 1 0 0 1 1 1 0 1 1 0 0 1 1 1 1 0 1 1 1 1 0 1 1 1 1 0 0 1 1 0 1 1 1\n",
            " 1 1 1 0 1 1 1 1 1 1 0 1 1 1 1 1 1 1 0 1 1 1 1 0 0 0 0 1 1 1 1 1 1 0 1 1 1\n",
            " 1 1 1 1 0 1 1 0 1 0 1 1 0 0 1 1 0 1 1 0 1 1 0 1 1 1 1 0 0 1 1 1 1 1 1 1 1\n",
            " 1 1 1 1 1 1 0 1 1 0 1 0 1 1 1 1 1 1 1 1 1 1 1 1 1 1 0 0 1 0 1 1 1 1 0 1 1\n",
            " 1 1 1 1 1 1 1 0 1 0 1 1 1 1 0 1 1 1 1 1 1 1 1 0 0 0 1 1 1 1]\n",
            "Accuracy:  0.875\n",
            "172 dimensions with 7 nearest neighbours\n",
            "Correct labels are:\n",
            "[0 0 0 0 0 0 0 0 0 0 0 0 0 0 0 0 0 0 0 0 0 0 0 0 0 0 0 0 0 0 0 0 0 0 0 0 0\n",
            " 0 0 0 0 0 0 0 0 0 0 0 0 0 0 0 0 0 0 0 0 0 0 0 0 0 0 0 0 0 0 0 0 0 0 0 0 0\n",
            " 0 0 0 0 0 0 0 0 0 0 0 0 0 0 0 0 0 0 0 0 0 0 0 0 0 0 0 0 0 0 0 0 0 0 0 0 0\n",
            " 0 0 0 0 0 0 0 0 0 0 0 0 0 0 0 0 0 0 0 0 0 0 0 0 0 0 0 0 0 0 0 0 0 0 0 0 0\n",
            " 0 0 0 0 0 0 0 0 0 0 0 0 0 0 0 0 0 0 0 0 0 0 0 0 0 0 0 0 0 0 0 0 0 0 0 0 0\n",
            " 0 0 0 0 0 0 0 0 0 0 0 0 0 0 0 0 1 1 1 1 1 1 1 1 1 1 1 1 1 1 1 1 1 1 1 1 1\n",
            " 1 1 1 1 1 1 1 1 1 1 1 1 1 1 1 1 1 1 1 1 1 1 1 1 1 1 1 1 1 1 1 1 1 1 1 1 1\n",
            " 1 1 1 1 1 1 1 1 1 1 1 1 1 1 1 1 1 1 1 1 1 1 1 1 1 1 1 1 1 1 1 1 1 1 1 1 1\n",
            " 1 1 1 1 1 1 1 1 1 1 1 1 1 1 1 1 1 1 1 1 1 1 1 1 1 1 1 1 1 1 1 1 1 1 1 1 1\n",
            " 1 1 1 1 1 1 1 1 1 1 1 1 1 1 1 1 1 1 1 1 1 1 1 1 1 1 1 1 1 1 1 1 1 1 1 1 1\n",
            " 1 1 1 1 1 1 1 1 1 1 1 1 1 1 1 1 1 1 1 1 1 1 1 1 1 1 1 1 1 1]\n",
            "Predicted labels are:\n",
            "[0 0 0 0 0 0 0 0 0 0 0 0 0 0 0 0 0 0 0 0 0 0 0 0 0 0 0 0 0 0 0 0 0 0 0 0 0\n",
            " 0 0 0 0 0 0 0 0 0 0 0 0 0 0 0 0 0 0 0 0 0 0 0 0 0 0 0 0 0 0 0 0 0 0 0 0 0\n",
            " 0 0 0 0 0 0 0 0 0 0 0 0 0 0 0 0 0 0 0 0 0 0 0 0 0 0 0 0 0 0 0 0 0 0 0 0 0\n",
            " 0 0 0 0 0 0 0 0 0 0 0 0 0 0 0 0 0 0 0 0 0 0 0 0 0 0 0 0 0 0 0 0 0 0 0 0 0\n",
            " 0 0 0 0 0 0 0 0 0 0 0 0 0 0 0 0 0 0 0 0 0 0 0 0 0 0 0 0 0 0 0 0 0 0 0 0 0\n",
            " 0 0 0 0 0 0 0 0 0 0 0 0 0 0 0 0 1 1 1 1 1 1 1 0 1 0 0 1 1 1 0 0 0 1 1 1 0\n",
            " 1 0 1 0 1 0 0 1 1 1 0 1 1 1 0 1 1 1 1 0 0 1 0 1 0 1 1 1 1 0 0 1 1 0 1 1 1\n",
            " 1 1 1 0 1 1 1 1 1 1 0 1 1 1 1 1 1 1 0 1 1 1 1 0 0 0 0 1 1 1 1 1 1 0 1 1 1\n",
            " 1 1 1 1 0 1 1 0 1 0 1 1 0 0 1 1 0 1 1 0 1 1 0 1 1 0 1 0 1 1 1 1 1 1 1 1 1\n",
            " 1 1 1 1 1 1 0 1 1 0 1 0 1 1 1 1 1 1 1 1 1 1 1 1 1 0 0 0 1 0 1 1 1 1 0 1 1\n",
            " 1 1 1 1 1 1 1 0 1 0 1 1 1 1 0 1 1 1 1 1 1 1 1 0 0 0 1 1 1 1]\n",
            "Accuracy:  0.87\n"
          ]
        }
      ],
      "source": [
        "k_neighbours = [1, 3, 5, 7]\n",
        "accuracies = np.empty((len(alphaaa), len(k_neighbours)))\n",
        "print(accuracies.shape)\n",
        "\n",
        "for alpha , dim in enumerate(num_of_dim):\n",
        "  X_train = get_reduced_dim_mat(dim, train_data - np.transpose(train_data_mean))\n",
        "  X_test = get_reduced_dim_mat(dim, test_data - np.transpose(train_data_mean))\n",
        "  y_train = train_labels\n",
        "  y_test = test_labels\n",
        "  for neighbour, k in enumerate(k_neighbours):\n",
        "    print(str(int(dim)) + \" dimensions with \" + str(k) + \" nearest neighbours\")\n",
        "    accuracy = KNNclf(k, X_train, y_train, X_test, y_test)\n",
        "    accuracies[alpha][neighbour] = accuracy\n",
        "accuracies = np.transpose(accuracies)\n"
      ]
    },
    {
      "cell_type": "code",
      "source": [
        "print(accuracies[alpha].shape)"
      ],
      "metadata": {
        "colab": {
          "base_uri": "https://localhost:8080/"
        },
        "id": "uzdx05IaCanL",
        "outputId": "807daca5-7e40-4f2f-8b8c-4b380c1d28da"
      },
      "execution_count": null,
      "outputs": [
        {
          "output_type": "stream",
          "name": "stdout",
          "text": [
            "(4,)\n"
          ]
        }
      ]
    },
    {
      "cell_type": "code",
      "source": [
        "plt.figure(figsize=(10, 10))\n",
        "\n",
        "for i in range(len(alphaaa)):\n",
        "  plt.subplot(2, 2, i+1)\n",
        "  plt.title(\"alpha=\" + str(alphaaa[i]))\n",
        "  plt.plot(k_neighbours, accuracies.T[i])"
      ],
      "metadata": {
        "colab": {
          "base_uri": "https://localhost:8080/",
          "height": 607
        },
        "outputId": "d9d9ff46-90d2-4660-d136-ae62b52b2d2a",
        "id": "UGTykG5i4bXe"
      },
      "execution_count": null,
      "outputs": [
        {
          "output_type": "display_data",
          "data": {
            "text/plain": [
              "<Figure size 720x720 with 4 Axes>"
            ],
            "image/png": "[encoded data removed]"
          },
          "metadata": {
            "needs_background": "light"
          }
        }
      ]
    },
    {
      "cell_type": "code",
      "execution_count": null,
      "metadata": {
        "colab": {
          "base_uri": "https://localhost:8080/",
          "height": 694
        },
        "outputId": "eef954d9-2aa1-4257-b06d-30d56d7b9711",
        "id": "qEX1UJ2_4dii"
      },
      "outputs": [
        {
          "output_type": "stream",
          "name": "stdout",
          "text": [
            "[0.8  0.85 0.9  0.95]\n",
            "[[0.95   0.95   0.945  0.92  ]\n",
            " [0.9275 0.9275 0.915  0.89  ]\n",
            " [0.9225 0.9125 0.8975 0.875 ]\n",
            " [0.9075 0.9025 0.89   0.87  ]]\n"
          ]
        },
        {
          "output_type": "display_data",
          "data": {
            "text/plain": [
              "<Figure size 720x720 with 4 Axes>"
            ],
            "image/png": "[encoded data removed]"
          },
          "metadata": {
            "needs_background": "light"
          }
        }
      ],
      "source": [
        "print(alphaaa)\n",
        "print(accuracies)\n",
        "plt.figure(figsize=(10, 10))\n",
        "\n",
        "for i in range(len(k_neighbours)):\n",
        "  plt.subplot(2, 2, i+1)\n",
        "  plt.title(str(k_neighbours[i]) + \" neighbour(s)\")\n",
        "  plt.plot(alphaaa, accuracies[i])\n"
      ]
    },
    {
      "cell_type": "code",
      "execution_count": null,
      "metadata": {
        "colab": {
          "base_uri": "https://localhost:8080/"
        },
        "outputId": "184ade0a-a6c8-44c3-9177-47b1c6f14e8e",
        "id": "lpVkURgP7A21"
      },
      "outputs": [
        {
          "output_type": "stream",
          "name": "stdout",
          "text": [
            "(400, 10304)\n"
          ]
        }
      ],
      "source": [
        "n = 400\n",
        "LDA_mean_0 = np.zeros((1,train_data.shape[1]))\n",
        "LDA_mean_1 = np.zeros((1,train_data.shape[1]))\n",
        "\n",
        "LDA_mean_0 = np.mean( train_data[0:200,:],  axis = 0 )\n",
        "LDA_mean_1 = np.mean( train_data[201:400,:],  axis = 0 )\n",
        "\n",
        "\n",
        "mu_sub = LDA_mean_0 - LDA_mean_1\n",
        "\n",
        "B = np.dot(mu_sub.T, mu_sub)\n",
        "\n",
        "print(train_data.shape)\n"
      ]
    },
    {
      "cell_type": "code",
      "execution_count": null,
      "metadata": {
        "colab": {
          "base_uri": "https://localhost:8080/"
        },
        "outputId": "e70e626f-973f-4255-bd6d-82fb3435b289",
        "id": "GFJYaZ7O7GUr"
      },
      "outputs": [
        {
          "output_type": "stream",
          "name": "stdout",
          "text": [
            "[[-46.33       -41.31       -32.67       ... -46.175      -49.02\n",
            "  -43.925     ]\n",
            " [-37.33       -36.31       -40.67       ... -28.175      -29.02\n",
            "  -26.925     ]\n",
            " [-41.33       -42.31       -53.67       ... -32.175      -32.02\n",
            "  -35.925     ]\n",
            " ...\n",
            " [ 36.46733668  34.19095477  53.18592965 ... 127.40201005 124.74371859\n",
            "  123.67839196]\n",
            " [124.46733668 128.19095477 127.18592965 ... 180.40201005 180.74371859\n",
            "  176.67839196]\n",
            " [ -9.53266332  -9.80904523  -9.81407035 ... 174.40201005 147.74371859\n",
            "  169.67839196]]\n",
            "(400, 10304)\n",
            "0 \t 0 \t 400\n",
            "Center Class matrices: \n",
            " [[[-4.63300000e+01 -4.13100000e+01 -3.26700000e+01 ... -4.61750000e+01\n",
            "   -4.90200000e+01 -4.39250000e+01]\n",
            "  [-3.73300000e+01 -3.63100000e+01 -4.06700000e+01 ... -2.81750000e+01\n",
            "   -2.90200000e+01 -2.69250000e+01]\n",
            "  [-4.13300000e+01 -4.23100000e+01 -5.36700000e+01 ... -3.21750000e+01\n",
            "   -3.20200000e+01 -3.59250000e+01]\n",
            "  ...\n",
            "  [ 3.64673367e+01  3.41909548e+01  5.31859296e+01 ...  1.27402010e+02\n",
            "    1.24743719e+02  1.23678392e+02]\n",
            "  [ 1.24467337e+02  1.28190955e+02  1.27185930e+02 ...  1.80402010e+02\n",
            "    1.80743719e+02  1.76678392e+02]\n",
            "  [-9.53266332e+00 -9.80904523e+00 -9.81407035e+00 ...  1.74402010e+02\n",
            "    1.47743719e+02  1.69678392e+02]]\n",
            "\n",
            " [[-8.41972834e-03  1.08188601e-02 -1.06894843e-04 ...  5.33987527e-03\n",
            "   -7.67735383e-03  1.78738803e-02]\n",
            "  [-1.51800278e-03  8.79004939e-03 -8.56580981e-05 ...  4.86623810e-03\n",
            "   -7.42624655e-03  1.81319452e-02]\n",
            "  [ 1.07440204e-02  7.84982200e-03 -5.22184202e-04 ...  4.69613439e-03\n",
            "   -7.63058100e-03  1.82517844e-02]\n",
            "  ...\n",
            "  [-1.22114456e-02 -9.09342055e-03 -1.14517061e-02 ...  1.10407696e-02\n",
            "   -4.27170364e-03  1.61157229e-02]\n",
            "  [ 1.39206053e-02  3.93397977e-03  4.07291328e-03 ...  1.12730027e-02\n",
            "   -5.35247922e-03  1.57407315e-02]\n",
            "  [-5.63263947e-03 -1.88709184e-03  3.33440479e-03 ...  1.04865617e-02\n",
            "   -4.98789476e-03  1.63972584e-02]]] \n",
            "\n",
            "[[1329732.79023211 1312447.76477004 1306172.40532323 ...  348443.07449501\n",
            "   355992.57482322  351593.50801634]\n",
            " [1312447.7469846  1325862.57362855 1315742.6632625  ...  342960.83366708\n",
            "   346302.66270138  340993.29388338]\n",
            " [1306172.40797637 1315742.68316663 1329622.57939729 ...  336123.96098325\n",
            "   354525.42510019  352009.34710582]\n",
            " ...\n",
            " [ 348443.08162379  342960.83544243  336123.95485543 ... 1294365.01032882\n",
            "  1191514.27025833 1120696.57329696]\n",
            " [ 355992.57106146  346302.65447701  354525.40464308 ... 1191514.26243775\n",
            "  1269894.58335811 1162543.74447411]\n",
            " [ 351593.49697585  340993.27832659  352009.3190092  ... 1120696.5820449\n",
            "  1162543.76031169 1259843.57019221]]\n",
            "\n",
            "S dims: (10304, 10304)\n"
          ]
        }
      ],
      "source": [
        "LDA_Centered_Data_Matrix = np.zeros((train_data.shape[0],train_data.shape[1]))\n",
        "\n",
        "for i in range(0,201,1):\n",
        "  LDA_Centered_Data_Matrix[i,:] = train_data[i,:] - LDA_mean_0\n",
        "\n",
        "for i in range(201,400,1):\n",
        "  LDA_Centered_Data_Matrix[i,:] = train_data[i,:] - LDA_mean_1\n",
        "\n",
        "  \n",
        "print(LDA_Centered_Data_Matrix)   \n",
        "print(LDA_Centered_Data_Matrix.shape)\n",
        "\n",
        "LDA_Centered_Data_Matrix40 = np.empty((2, n, 10304))\n",
        "for i in range(0, train_data.shape[0], n):\n",
        "   print(i//n,\"\\t\",i,\"\\t\",i+n)\n",
        "   LDA_Centered_Data_Matrix40[i//n] = LDA_Centered_Data_Matrix[i:i+n,:]\n",
        "\n",
        "print(\"Center Class matrices: \\n\",LDA_Centered_Data_Matrix40,\"\\n\") \n",
        "\n",
        "S = np.empty((10304,10304))\n",
        "\n",
        "\n",
        "for i in range(0,2,1):\n",
        "  S += np.dot(np.transpose(LDA_Centered_Data_Matrix40[i]),LDA_Centered_Data_Matrix40[i])\n",
        "\n",
        "print(S)\n",
        "print(\"\\nS dims:\",S.shape)\n"
      ]
    },
    {
      "cell_type": "code",
      "execution_count": null,
      "metadata": {
        "colab": {
          "base_uri": "https://localhost:8080/"
        },
        "outputId": "8281b610-6659-4408-fbee-6d07e2258ba5",
        "id": "xJE6rbpU7lbA"
      },
      "outputs": [
        {
          "output_type": "stream",
          "name": "stdout",
          "text": [
            "False\n"
          ]
        }
      ],
      "source": [
        "print(np.allclose(S.transpose(),S))"
      ]
    },
    {
      "cell_type": "code",
      "execution_count": null,
      "metadata": {
        "colab": {
          "base_uri": "https://localhost:8080/",
          "height": 35
        },
        "outputId": "407add05-a932-4064-fdea-28e127ba59da",
        "id": "hBAb12N57nM_"
      },
      "outputs": [
        {
          "output_type": "execute_result",
          "data": {
            "text/plain": [
              "'\\nfixed_S = (np.triu_indices(len(S),1))\\nS[fixed_S] = np.transpose(np.tril(S,-1))[fixed_S]\\nprint(np.allclose(S.transpose(),S))\\nprint(S)\\n'"
            ],
            "application/vnd.google.colaboratory.intrinsic+json": {
              "type": "string"
            }
          },
          "metadata": {},
          "execution_count": 44
        }
      ],
      "source": [
        "\"\"\"\n",
        "fixed_S = (np.triu_indices(len(S),1))\n",
        "S[fixed_S] = np.transpose(np.tril(S,-1))[fixed_S]\n",
        "print(np.allclose(S.transpose(),S))\n",
        "print(S)\n",
        "\"\"\""
      ]
    },
    {
      "cell_type": "code",
      "execution_count": null,
      "metadata": {
        "colab": {
          "base_uri": "https://localhost:8080/"
        },
        "outputId": "e0d543ff-a2c7-464d-fa66-7670e76c118d",
        "id": "BBNY2olj7o9p"
      },
      "outputs": [
        {
          "output_type": "stream",
          "name": "stdout",
          "text": [
            "(10304, 10304)\n",
            "\n",
            " [[ 22.30053115 -30.28772851 -24.67349041 ...   0.72593331  -1.8207061\n",
            "    5.41637443]\n",
            " [-19.09394405  25.88178023  22.40763406 ...  -1.70574397   0.28894651\n",
            "   -2.05058785]\n",
            " [-33.40863754  32.48509866  27.68358881 ...   2.43678482   4.86907924\n",
            "  -14.89715878]\n",
            " ...\n",
            " [ -0.66901488  -1.96633317  -2.31457943 ...   0.95425575  -0.76412185\n",
            "    0.6822402 ]\n",
            " [ -0.30743539   0.65630565   4.30979255 ...  -0.46332367   0.98137785\n",
            "   -1.01964862]\n",
            " [ 18.82730395 -23.47237458 -12.51908294 ...  -0.61061367  -0.43706929\n",
            "    5.61199477]]\n"
          ]
        }
      ],
      "source": [
        "S_inv=np.linalg.inv(S)\n",
        "print(S_inv.shape)\n",
        "print(\"\\n\",S_inv)"
      ]
    },
    {
      "cell_type": "code",
      "execution_count": null,
      "metadata": {
        "colab": {
          "base_uri": "https://localhost:8080/",
          "height": 53
        },
        "outputId": "c70e1093-9a4b-47c1-c04c-9f95bf978a9d",
        "id": "bUM0qnwc7rP9"
      },
      "outputs": [
        {
          "output_type": "execute_result",
          "data": {
            "text/plain": [
              "'\\nfixed_S_inv = (np.triu_indices(len(S_inv),1))\\nS_inv[fixed_S_inv] = np.transpose(np.tril(S_inv,-1))[fixed_S_inv]\\nprint((np.transpose(S_inv)== S_inv).all())\\nprint(S_inv)\\nprint(B)\\nSB=np.dot(S_inv,B)\\nprint(SB)\\nprint(SB.shape)\\n'"
            ],
            "application/vnd.google.colaboratory.intrinsic+json": {
              "type": "string"
            }
          },
          "metadata": {},
          "execution_count": 46
        }
      ],
      "source": [
        "\"\"\"\n",
        "fixed_S_inv = (np.triu_indices(len(S_inv),1))\n",
        "S_inv[fixed_S_inv] = np.transpose(np.tril(S_inv,-1))[fixed_S_inv]\n",
        "print((np.transpose(S_inv)== S_inv).all())\n",
        "print(S_inv)\n",
        "print(B)\n",
        "SB=np.dot(S_inv,B)\n",
        "print(SB)\n",
        "print(SB.shape)\n",
        "\"\"\""
      ]
    },
    {
      "cell_type": "code",
      "source": [
        "SB = np.dot(S_inv,B)"
      ],
      "metadata": {
        "id": "cK2joZSBMVS7"
      },
      "execution_count": null,
      "outputs": []
    },
    {
      "cell_type": "code",
      "execution_count": null,
      "metadata": {
        "colab": {
          "base_uri": "https://localhost:8080/"
        },
        "outputId": "955a4251-41ca-43e5-9b97-1c382015085b",
        "id": "EbodA5ht7uoL"
      },
      "outputs": [
        {
          "output_type": "stream",
          "name": "stdout",
          "text": [
            "[-5.08900074e+10 -1.83321852e+10 -1.44228488e+10 ...  1.44156351e+10\n",
            "  1.83663938e+10  5.05664865e+10]\n",
            "(10304,)\n",
            "[[ 1.33489437e-01 -7.00513876e-02  9.62312551e-05 ... -1.27498066e-02\n",
            "   7.66475686e-02  1.38218665e-01]\n",
            " [-1.57616975e-01  8.80310003e-02  2.02042258e-02 ...  2.99967979e-02\n",
            "  -9.35773780e-02 -1.62321980e-01]\n",
            " [-1.31631345e-01  6.51384608e-02  7.60524086e-02 ...  8.74124018e-02\n",
            "  -7.11955907e-02 -1.37121998e-01]\n",
            " ...\n",
            " [-2.04237902e-03 -2.90303789e-03 -1.46521790e-03 ...  1.89630537e-03\n",
            "  -2.58473359e-03  2.01702194e-03]\n",
            " [ 1.10503282e-03  1.97516310e-03 -3.02974114e-03 ...  2.82125994e-03\n",
            "   1.88678774e-03 -1.00098117e-03]\n",
            " [-1.69770481e-02 -1.89438626e-02 -1.16195305e-02 ...  1.33242608e-02\n",
            "  -1.88336883e-02  1.73856916e-02]]\n",
            "(10304, 10304)\n",
            "[[ 1.33489437e-01 -7.00513876e-02  9.62312551e-05 ... -2.68200873e-02\n",
            "   4.76334539e-02 -2.62333647e-02]\n",
            " [-1.57616975e-01  8.80310003e-02  2.02042258e-02 ... -3.39384686e-02\n",
            "  -1.40476763e-02 -1.28822074e-02]\n",
            " [-1.31631345e-01  6.51384608e-02  7.60524086e-02 ...  3.08260866e-02\n",
            "  -1.77706596e-03 -8.53907440e-03]\n",
            " ...\n",
            " [-2.04237902e-03 -2.90303789e-03 -1.46521790e-03 ...  1.99207763e-03\n",
            "   3.18989558e-03 -7.05979075e-03]\n",
            " [ 1.10503282e-03  1.97516310e-03 -3.02974114e-03 ... -1.74804694e-03\n",
            "  -3.86154791e-03  1.58990022e-04]\n",
            " [-1.69770481e-02 -1.89438626e-02 -1.16195305e-02 ...  3.24351744e-02\n",
            "  -7.56267134e-03 -3.73008431e-02]]\n",
            "(10304, 40)\n"
          ]
        }
      ],
      "source": [
        "S_eigenvals, S_eigenvecs = LA.eigh(SB)\n",
        "idx = S_eigenvals.argsort()[::-1]   \n",
        "eigenvals = S_eigenvals[idx]\n",
        "eigenvecs = S_eigenvecs[:,idx]\n",
        "print(S_eigenvals)\n",
        "print(S_eigenvals.shape)\n",
        "print(S_eigenvecs)\n",
        "print(S_eigenvecs.shape)\n",
        "projection_matrix = S_eigenvecs[:,0:40]\n",
        "print(projection_matrix)\n",
        "print(projection_matrix.shape)"
      ]
    },
    {
      "cell_type": "markdown",
      "source": [
        ""
      ],
      "metadata": {
        "id": "9_9Zw6nbgEJE"
      }
    },
    {
      "cell_type": "code",
      "source": [
        "projection_matrix = eigenvecs[:,0:39]\n",
        "print(projection_matrix)\n",
        "print(projection_matrix.shape)"
      ],
      "metadata": {
        "id": "RcvicciZ9C_G",
        "colab": {
          "base_uri": "https://localhost:8080/"
        },
        "outputId": "c7e9051d-865d-4623-cf11-8a0e0f697c84"
      },
      "execution_count": null,
      "outputs": [
        {
          "output_type": "stream",
          "name": "stdout",
          "text": [
            "[[ 0.13821867  0.07664757 -0.01274981 ...  0.07258083 -0.05109595\n",
            "   0.00706614]\n",
            " [-0.16232198 -0.09357738  0.0299968  ...  0.06937102 -0.06783499\n",
            "   0.02214626]\n",
            " [-0.137122   -0.07119559  0.0874124  ... -0.22694327  0.08254525\n",
            "  -0.07822123]\n",
            " ...\n",
            " [ 0.00201702 -0.00258473  0.00189631 ... -0.00930851  0.01088475\n",
            "  -0.00838212]\n",
            " [-0.00100098  0.00188679  0.00282126 ...  0.00045696 -0.00054039\n",
            "   0.00091753]\n",
            " [ 0.01738569 -0.01883369  0.01332426 ...  0.03270658  0.0152224\n",
            "  -0.02716305]]\n",
            "(10304, 39)\n"
          ]
        }
      ]
    },
    {
      "cell_type": "code",
      "execution_count": null,
      "metadata": {
        "colab": {
          "base_uri": "https://localhost:8080/"
        },
        "outputId": "1a147cb0-debd-4a82-fb03-61bb1447ced9",
        "id": "Ixjw0vbH9elm"
      },
      "outputs": [
        {
          "output_type": "stream",
          "name": "stdout",
          "text": [
            "Reduced Data Matrix\n",
            " [[-17.33504097   3.41882113  -9.2135258  ...  -1.57065959  12.0953333\n",
            "   -2.17318395]\n",
            " [  0.19229537  -0.44211289   3.91037749 ...  -0.75483455  13.41103065\n",
            "   19.73228035]\n",
            " [-24.43557139  14.12233051 -17.1340807  ...  27.89810409 -25.69628037\n",
            "  -19.05451949]\n",
            " ...\n",
            " [-24.24956142  16.71068935 -29.05692071 ... -23.47806997  25.48574545\n",
            "   39.5075465 ]\n",
            " [ 10.66551677  23.193718   -15.62852452 ...  31.37169795  49.65250711\n",
            "   -8.29017497]\n",
            " [ 28.33876782 -23.00716925 -27.61312641 ...  32.77752573  13.39425846\n",
            "   46.77653165]]\n",
            "Reduced Data Matrix Dimensions\n",
            " (400, 39)\n"
          ]
        }
      ],
      "source": [
        "test_LDA =np.dot(np.transpose(projection_matrix),np.transpose(test_data))\n",
        "test_LDA = np.transpose(test_LDA)\n",
        "print(\"Reduced Data Matrix\\n\",test_LDA)\n",
        "print(\"Reduced Data Matrix Dimensions\\n\",test_LDA.shape)\n",
        "train_LDA=np.dot(np.transpose(projection_matrix),np.transpose(train_data))\n",
        "train_LDA = np.transpose(train_LDA)"
      ]
    },
    {
      "cell_type": "code",
      "execution_count": null,
      "metadata": {
        "colab": {
          "base_uri": "https://localhost:8080/"
        },
        "outputId": "8ebd05c1-32f0-46be-b242-f76fb0691e25",
        "id": "-S1EzQhW9qUf"
      },
      "outputs": [
        {
          "output_type": "stream",
          "name": "stdout",
          "text": [
            "Train Data Dimensions: (400, 39)\n",
            "Test Data Dimensions: (400, 39)\n"
          ]
        }
      ],
      "source": [
        "X_train = train_LDA\n",
        "X_test = test_LDA\n",
        "y_train=train_labels\n",
        "y_test=test_labels\n",
        "print(\"Train Data Dimensions:\",train_LDA.shape)\n",
        "print(\"Test Data Dimensions:\",test_LDA.shape)\n"
      ]
    },
    {
      "cell_type": "code",
      "source": [
        "k_neighbours = [1, 3, 5, 7]\n",
        "accuracies_LDA = np.empty( (len(k_neighbours),))\n",
        "\n",
        "\n",
        "\n",
        "for i, k in enumerate(k_neighbours):\n",
        "  print(str(k) + \" nearest neighbours\")\n",
        "  accuracy = KNNclf(k, X_train, y_train, X_test, y_test)\n",
        "  accuracies_LDA[i] = accuracy\n",
        "  print(\" \")\n",
        "\n",
        "\n",
        "accuracies_LDA = np.transpose(accuracies_LDA)\n",
        "accuracies_LDA"
      ],
      "metadata": {
        "colab": {
          "base_uri": "https://localhost:8080/"
        },
        "outputId": "89cc3c7d-4e3f-484a-8bf6-df02bda349bd",
        "id": "VFWfZGct9vQ3"
      },
      "execution_count": null,
      "outputs": [
        {
          "output_type": "stream",
          "name": "stdout",
          "text": [
            "1 nearest neighbours\n",
            "Correct labels are:\n",
            "[0 0 0 0 0 0 0 0 0 0 0 0 0 0 0 0 0 0 0 0 0 0 0 0 0 0 0 0 0 0 0 0 0 0 0 0 0\n",
            " 0 0 0 0 0 0 0 0 0 0 0 0 0 0 0 0 0 0 0 0 0 0 0 0 0 0 0 0 0 0 0 0 0 0 0 0 0\n",
            " 0 0 0 0 0 0 0 0 0 0 0 0 0 0 0 0 0 0 0 0 0 0 0 0 0 0 0 0 0 0 0 0 0 0 0 0 0\n",
            " 0 0 0 0 0 0 0 0 0 0 0 0 0 0 0 0 0 0 0 0 0 0 0 0 0 0 0 0 0 0 0 0 0 0 0 0 0\n",
            " 0 0 0 0 0 0 0 0 0 0 0 0 0 0 0 0 0 0 0 0 0 0 0 0 0 0 0 0 0 0 0 0 0 0 0 0 0\n",
            " 0 0 0 0 0 0 0 0 0 0 0 0 0 0 0 0 1 1 1 1 1 1 1 1 1 1 1 1 1 1 1 1 1 1 1 1 1\n",
            " 1 1 1 1 1 1 1 1 1 1 1 1 1 1 1 1 1 1 1 1 1 1 1 1 1 1 1 1 1 1 1 1 1 1 1 1 1\n",
            " 1 1 1 1 1 1 1 1 1 1 1 1 1 1 1 1 1 1 1 1 1 1 1 1 1 1 1 1 1 1 1 1 1 1 1 1 1\n",
            " 1 1 1 1 1 1 1 1 1 1 1 1 1 1 1 1 1 1 1 1 1 1 1 1 1 1 1 1 1 1 1 1 1 1 1 1 1\n",
            " 1 1 1 1 1 1 1 1 1 1 1 1 1 1 1 1 1 1 1 1 1 1 1 1 1 1 1 1 1 1 1 1 1 1 1 1 1\n",
            " 1 1 1 1 1 1 1 1 1 1 1 1 1 1 1 1 1 1 1 1 1 1 1 1 1 1 1 1 1 1]\n",
            "Predicted labels are:\n",
            "[0 1 0 0 0 0 0 0 1 0 0 0 0 0 0 0 0 0 0 0 0 0 0 0 1 0 0 0 0 0 0 0 0 0 0 0 0\n",
            " 0 0 0 0 0 0 0 1 0 0 0 0 0 0 0 0 0 0 0 0 0 0 0 0 0 0 0 0 0 0 0 0 1 0 0 0 0\n",
            " 0 0 0 0 1 0 0 0 0 0 0 0 0 0 0 0 0 0 0 0 0 1 0 0 0 1 0 0 0 0 0 0 0 0 1 0 0\n",
            " 0 0 0 1 0 1 0 1 0 0 0 0 0 0 0 0 0 0 0 1 0 1 1 1 1 0 0 0 0 0 0 0 0 0 0 0 0\n",
            " 0 0 0 0 0 0 0 0 0 0 0 0 1 0 0 0 0 0 1 0 0 0 0 0 1 1 0 0 0 0 0 0 0 0 0 0 0\n",
            " 0 0 0 0 0 0 0 0 0 0 0 0 0 0 0 1 1 1 1 1 1 1 1 1 0 0 1 1 1 1 1 0 1 0 1 1 0\n",
            " 1 1 0 0 0 1 1 1 1 1 0 0 1 1 0 1 1 1 0 0 1 0 0 1 1 0 1 1 1 1 1 1 1 0 1 1 1\n",
            " 0 1 1 0 1 1 1 1 1 1 0 1 1 1 1 0 0 0 0 1 1 1 0 1 1 0 1 0 1 1 1 1 0 0 1 1 1\n",
            " 0 0 1 0 0 1 1 1 1 1 0 1 1 1 0 0 1 1 1 1 1 1 0 1 1 1 1 1 0 1 0 1 1 1 1 1 1\n",
            " 1 1 0 0 1 0 0 1 1 1 0 0 1 0 1 0 1 1 1 1 1 1 1 0 0 1 0 0 1 1 1 1 0 1 0 0 1\n",
            " 1 1 1 1 1 1 1 1 1 0 1 0 1 1 0 1 1 1 1 1 0 1 1 0 0 1 0 1 1 1]\n",
            "Accuracy:  0.7925\n",
            " \n",
            "3 nearest neighbours\n",
            "Correct labels are:\n",
            "[0 0 0 0 0 0 0 0 0 0 0 0 0 0 0 0 0 0 0 0 0 0 0 0 0 0 0 0 0 0 0 0 0 0 0 0 0\n",
            " 0 0 0 0 0 0 0 0 0 0 0 0 0 0 0 0 0 0 0 0 0 0 0 0 0 0 0 0 0 0 0 0 0 0 0 0 0\n",
            " 0 0 0 0 0 0 0 0 0 0 0 0 0 0 0 0 0 0 0 0 0 0 0 0 0 0 0 0 0 0 0 0 0 0 0 0 0\n",
            " 0 0 0 0 0 0 0 0 0 0 0 0 0 0 0 0 0 0 0 0 0 0 0 0 0 0 0 0 0 0 0 0 0 0 0 0 0\n",
            " 0 0 0 0 0 0 0 0 0 0 0 0 0 0 0 0 0 0 0 0 0 0 0 0 0 0 0 0 0 0 0 0 0 0 0 0 0\n",
            " 0 0 0 0 0 0 0 0 0 0 0 0 0 0 0 0 1 1 1 1 1 1 1 1 1 1 1 1 1 1 1 1 1 1 1 1 1\n",
            " 1 1 1 1 1 1 1 1 1 1 1 1 1 1 1 1 1 1 1 1 1 1 1 1 1 1 1 1 1 1 1 1 1 1 1 1 1\n",
            " 1 1 1 1 1 1 1 1 1 1 1 1 1 1 1 1 1 1 1 1 1 1 1 1 1 1 1 1 1 1 1 1 1 1 1 1 1\n",
            " 1 1 1 1 1 1 1 1 1 1 1 1 1 1 1 1 1 1 1 1 1 1 1 1 1 1 1 1 1 1 1 1 1 1 1 1 1\n",
            " 1 1 1 1 1 1 1 1 1 1 1 1 1 1 1 1 1 1 1 1 1 1 1 1 1 1 1 1 1 1 1 1 1 1 1 1 1\n",
            " 1 1 1 1 1 1 1 1 1 1 1 1 1 1 1 1 1 1 1 1 1 1 1 1 1 1 1 1 1 1]\n",
            "Predicted labels are:\n",
            "[0 1 0 0 0 0 0 0 0 0 0 0 0 0 0 0 0 0 0 0 0 0 0 0 0 0 0 0 0 0 0 0 0 0 0 0 0\n",
            " 0 0 0 0 0 0 0 0 0 0 0 0 0 0 0 0 0 0 0 0 0 0 0 0 0 0 0 0 0 0 0 0 1 0 0 0 0\n",
            " 0 0 0 0 1 0 0 0 0 0 0 1 0 0 0 0 0 0 0 0 0 0 0 0 0 0 0 0 0 0 0 0 0 0 1 0 0\n",
            " 0 0 0 0 0 1 0 0 0 0 0 0 0 0 0 0 0 0 0 0 0 0 0 0 0 0 0 0 0 0 0 0 0 0 0 0 0\n",
            " 0 0 0 0 0 0 0 0 0 0 0 0 0 0 0 0 0 0 1 0 0 0 0 0 1 0 0 0 0 0 0 0 0 0 0 0 0\n",
            " 0 0 0 0 0 0 0 0 0 0 0 0 0 0 0 1 1 1 1 1 1 1 1 1 1 0 1 1 1 1 1 0 1 0 1 1 1\n",
            " 1 0 0 0 0 1 0 1 1 1 0 0 1 1 0 1 1 1 0 0 1 0 0 1 1 0 0 1 1 1 1 1 1 0 1 0 1\n",
            " 1 1 1 0 1 1 1 1 1 1 0 1 1 1 1 1 0 0 0 1 1 0 0 1 1 0 0 0 1 1 1 1 0 0 1 1 1\n",
            " 0 0 1 0 0 1 0 0 1 1 0 1 0 1 0 0 1 1 1 1 1 1 0 1 1 1 1 0 0 1 0 1 1 1 1 1 1\n",
            " 1 1 0 0 1 0 0 1 1 1 0 0 1 0 1 0 1 1 1 1 1 1 1 0 0 1 0 0 1 1 1 1 1 1 0 1 1\n",
            " 1 1 1 1 1 1 1 1 1 0 1 0 1 1 0 1 0 1 1 0 0 1 1 0 1 1 0 1 1 1]\n",
            "Accuracy:  0.8125\n",
            " \n",
            "5 nearest neighbours\n",
            "Correct labels are:\n",
            "[0 0 0 0 0 0 0 0 0 0 0 0 0 0 0 0 0 0 0 0 0 0 0 0 0 0 0 0 0 0 0 0 0 0 0 0 0\n",
            " 0 0 0 0 0 0 0 0 0 0 0 0 0 0 0 0 0 0 0 0 0 0 0 0 0 0 0 0 0 0 0 0 0 0 0 0 0\n",
            " 0 0 0 0 0 0 0 0 0 0 0 0 0 0 0 0 0 0 0 0 0 0 0 0 0 0 0 0 0 0 0 0 0 0 0 0 0\n",
            " 0 0 0 0 0 0 0 0 0 0 0 0 0 0 0 0 0 0 0 0 0 0 0 0 0 0 0 0 0 0 0 0 0 0 0 0 0\n",
            " 0 0 0 0 0 0 0 0 0 0 0 0 0 0 0 0 0 0 0 0 0 0 0 0 0 0 0 0 0 0 0 0 0 0 0 0 0\n",
            " 0 0 0 0 0 0 0 0 0 0 0 0 0 0 0 0 1 1 1 1 1 1 1 1 1 1 1 1 1 1 1 1 1 1 1 1 1\n",
            " 1 1 1 1 1 1 1 1 1 1 1 1 1 1 1 1 1 1 1 1 1 1 1 1 1 1 1 1 1 1 1 1 1 1 1 1 1\n",
            " 1 1 1 1 1 1 1 1 1 1 1 1 1 1 1 1 1 1 1 1 1 1 1 1 1 1 1 1 1 1 1 1 1 1 1 1 1\n",
            " 1 1 1 1 1 1 1 1 1 1 1 1 1 1 1 1 1 1 1 1 1 1 1 1 1 1 1 1 1 1 1 1 1 1 1 1 1\n",
            " 1 1 1 1 1 1 1 1 1 1 1 1 1 1 1 1 1 1 1 1 1 1 1 1 1 1 1 1 1 1 1 1 1 1 1 1 1\n",
            " 1 1 1 1 1 1 1 1 1 1 1 1 1 1 1 1 1 1 1 1 1 1 1 1 1 1 1 1 1 1]\n",
            "Predicted labels are:\n",
            "[0 1 0 0 0 0 0 0 0 0 0 0 0 0 0 0 0 0 0 0 0 0 0 0 0 0 0 0 0 0 0 0 0 0 0 0 0\n",
            " 0 0 0 0 0 0 0 1 0 0 0 0 0 0 0 0 0 0 0 0 0 0 0 0 0 0 0 0 0 0 0 0 1 0 0 0 0\n",
            " 0 0 0 0 0 0 0 0 0 0 0 0 0 0 0 0 0 0 0 0 0 0 0 0 0 0 0 0 0 0 0 0 0 0 1 0 0\n",
            " 0 0 0 0 0 0 0 0 0 0 0 0 0 0 0 0 0 0 0 0 0 0 1 0 0 0 0 0 0 0 0 0 0 0 0 0 0\n",
            " 0 0 0 0 0 0 0 0 0 0 0 0 0 0 0 0 0 0 1 0 0 0 0 0 1 0 1 0 0 0 0 0 0 0 0 0 0\n",
            " 0 0 0 0 0 0 0 0 0 0 0 0 0 0 0 1 1 0 1 1 1 1 1 1 1 0 1 1 1 1 1 0 0 0 1 1 0\n",
            " 1 0 0 1 1 1 0 1 1 1 0 0 1 0 0 1 1 1 0 0 1 0 0 1 1 0 0 1 1 1 1 1 1 0 1 1 1\n",
            " 1 1 1 0 1 1 1 1 1 1 0 1 1 1 1 1 0 1 0 1 1 0 0 1 0 0 0 0 1 1 1 1 0 0 1 1 0\n",
            " 0 0 1 0 0 1 0 0 1 0 0 1 0 1 0 0 1 1 0 1 1 1 0 1 1 1 1 1 0 0 0 1 1 0 1 1 1\n",
            " 1 1 0 0 1 1 0 1 1 1 1 0 1 0 1 0 1 1 1 1 1 1 1 0 0 1 0 1 1 1 1 1 1 0 0 1 1\n",
            " 1 0 1 1 1 1 1 1 1 0 0 0 1 1 0 1 0 1 1 0 0 1 1 0 1 1 0 1 1 1]\n",
            "Accuracy:  0.8\n",
            " \n",
            "7 nearest neighbours\n",
            "Correct labels are:\n",
            "[0 0 0 0 0 0 0 0 0 0 0 0 0 0 0 0 0 0 0 0 0 0 0 0 0 0 0 0 0 0 0 0 0 0 0 0 0\n",
            " 0 0 0 0 0 0 0 0 0 0 0 0 0 0 0 0 0 0 0 0 0 0 0 0 0 0 0 0 0 0 0 0 0 0 0 0 0\n",
            " 0 0 0 0 0 0 0 0 0 0 0 0 0 0 0 0 0 0 0 0 0 0 0 0 0 0 0 0 0 0 0 0 0 0 0 0 0\n",
            " 0 0 0 0 0 0 0 0 0 0 0 0 0 0 0 0 0 0 0 0 0 0 0 0 0 0 0 0 0 0 0 0 0 0 0 0 0\n",
            " 0 0 0 0 0 0 0 0 0 0 0 0 0 0 0 0 0 0 0 0 0 0 0 0 0 0 0 0 0 0 0 0 0 0 0 0 0\n",
            " 0 0 0 0 0 0 0 0 0 0 0 0 0 0 0 0 1 1 1 1 1 1 1 1 1 1 1 1 1 1 1 1 1 1 1 1 1\n",
            " 1 1 1 1 1 1 1 1 1 1 1 1 1 1 1 1 1 1 1 1 1 1 1 1 1 1 1 1 1 1 1 1 1 1 1 1 1\n",
            " 1 1 1 1 1 1 1 1 1 1 1 1 1 1 1 1 1 1 1 1 1 1 1 1 1 1 1 1 1 1 1 1 1 1 1 1 1\n",
            " 1 1 1 1 1 1 1 1 1 1 1 1 1 1 1 1 1 1 1 1 1 1 1 1 1 1 1 1 1 1 1 1 1 1 1 1 1\n",
            " 1 1 1 1 1 1 1 1 1 1 1 1 1 1 1 1 1 1 1 1 1 1 1 1 1 1 1 1 1 1 1 1 1 1 1 1 1\n",
            " 1 1 1 1 1 1 1 1 1 1 1 1 1 1 1 1 1 1 1 1 1 1 1 1 1 1 1 1 1 1]\n",
            "Predicted labels are:\n",
            "[0 1 0 0 0 0 0 0 0 0 0 0 0 0 0 0 0 0 0 0 0 0 0 0 0 0 0 0 0 0 0 0 0 0 0 0 0\n",
            " 0 0 0 0 0 0 0 0 0 0 0 0 0 0 0 0 0 0 0 0 0 0 0 0 0 0 0 0 0 0 0 0 1 0 0 0 0\n",
            " 0 0 0 0 0 0 0 0 0 0 0 0 0 0 0 0 0 0 0 0 0 0 0 0 0 0 0 0 0 0 0 0 0 0 1 0 0\n",
            " 0 0 0 0 0 0 0 0 0 0 0 0 0 0 0 0 0 0 0 0 0 0 0 0 0 0 0 0 0 0 0 0 0 0 0 0 0\n",
            " 0 0 0 0 0 0 0 0 0 0 0 0 0 0 0 0 0 0 1 0 0 0 0 0 0 0 1 0 0 0 0 0 0 0 0 0 0\n",
            " 0 0 0 0 0 0 0 0 0 0 0 0 0 0 0 1 1 0 1 1 1 1 1 1 1 0 1 1 1 1 1 0 0 0 1 1 0\n",
            " 1 0 0 1 0 1 0 1 1 1 0 0 0 0 0 1 1 1 0 0 1 0 0 1 1 0 0 1 1 1 1 1 1 0 1 0 1\n",
            " 1 1 1 0 1 1 1 1 1 1 0 1 1 1 1 1 0 0 0 1 1 0 0 0 0 0 0 0 1 1 1 1 0 0 1 1 0\n",
            " 0 0 1 0 0 1 0 0 1 0 0 1 0 0 0 0 1 1 0 1 1 1 0 0 1 1 1 1 0 0 0 1 1 0 1 1 1\n",
            " 1 1 0 1 1 1 0 1 1 1 1 0 1 0 1 0 1 1 1 1 1 1 1 0 0 1 0 0 1 1 1 1 1 0 0 1 1\n",
            " 1 0 1 1 1 1 1 1 1 0 0 0 1 1 0 1 0 1 1 0 0 1 1 0 1 1 0 1 1 1]\n",
            "Accuracy:  0.79\n",
            " \n"
          ]
        },
        {
          "output_type": "execute_result",
          "data": {
            "text/plain": [
              "array([0.7925, 0.8125, 0.8   , 0.79  ])"
            ]
          },
          "metadata": {},
          "execution_count": 52
        }
      ]
    },
    {
      "cell_type": "code",
      "source": [
        "plt.figure(figsize=(7, 7))\n",
        "\n",
        "plt.plot(k_neighbours, accuracies_LDA)\n",
        "\n"
      ],
      "metadata": {
        "colab": {
          "base_uri": "https://localhost:8080/",
          "height": 446
        },
        "outputId": "bd436505-76e3-4f5e-9428-4898736d3434",
        "id": "Q9Eeis0g924P"
      },
      "execution_count": null,
      "outputs": [
        {
          "output_type": "execute_result",
          "data": {
            "text/plain": [
              "[<matplotlib.lines.Line2D at 0x7fb7585cad90>]"
            ]
          },
          "metadata": {},
          "execution_count": 53
        },
        {
          "output_type": "display_data",
          "data": {
            "text/plain": [
              "<Figure size 504x504 with 1 Axes>"
            ],
            "image/png": "[encoded data removed]"
          },
          "metadata": {
            "needs_background": "light"
          }
        }
      ]
    }
  ]
}