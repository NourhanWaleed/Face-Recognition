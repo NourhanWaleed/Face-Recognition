{
  "cells": [
    {
      "cell_type": "code",
      "execution_count": null,
      "metadata": {
        "id": "4--1lKbohsjh"
      },
      "outputs": [],
      "source": [
        "import os\n",
        "import cv2\n",
        "from google.colab.patches import cv2_imshow\n",
        "import numpy as np\n",
        "from numpy import linalg as LA\n",
        "from sklearn.neighbors import KNeighborsClassifier\n",
        "from sklearn import metrics\n",
        "from sklearn.metrics import classification_report, confusion_matrix\n",
        "import matplotlib.pyplot as plt\n",
        "from random import sample\n",
        "import random"
      ]
    },
    {
      "cell_type": "markdown",
      "metadata": {
        "id": "c1eSdO_NCdZS"
      },
      "source": [
        "## 1. Download the Dataset and Understand the Format"
      ]
    },
    {
      "cell_type": "code",
      "execution_count": null,
      "metadata": {
        "colab": {
          "base_uri": "https://localhost:8080/",
          "height": 74,
          "resources": {
            "http://localhost:8080/nbextensions/google.colab/files.js": {
              "data": "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",
              "headers": [
                [
                  "content-type",
                  "application/javascript"
                ]
              ],
              "ok": true,
              "status": 200,
              "status_text": ""
            }
          }
        },
        "id": "yac6NfsqgWiZ",
        "outputId": "664f9ead-0591-4fc8-8561-3c7ced3324d3"
      },
      "outputs": [
        {
          "output_type": "display_data",
          "data": {
            "text/plain": [
              "<IPython.core.display.HTML object>"
            ],
            "text/html": [
              "\n",
              "     <input type=\"file\" id=\"files-73603066-0214-4a83-84c2-5d3a3f3476e8\" name=\"files[]\" multiple disabled\n",
              "        style=\"border:none\" />\n",
              "     <output id=\"result-73603066-0214-4a83-84c2-5d3a3f3476e8\">\n",
              "      Upload widget is only available when the cell has been executed in the\n",
              "      current browser session. Please rerun this cell to enable.\n",
              "      </output>\n",
              "      <script src=\"/nbextensions/google.colab/files.js\"></script> "
            ]
          },
          "metadata": {}
        },
        {
          "output_type": "stream",
          "name": "stdout",
          "text": [
            "Saving archive.zip to archive (2).zip\n"
          ]
        }
      ],
      "source": [
        "from google.colab import files\n",
        "uploaded = files.upload()"
      ]
    },
    {
      "cell_type": "code",
      "execution_count": null,
      "metadata": {
        "colab": {
          "base_uri": "https://localhost:8080/"
        },
        "id": "UmdC_bmwgmhp",
        "outputId": "f1b7a489-9ae7-4498-adc4-42453e7dce7c"
      },
      "outputs": [
        {
          "output_type": "stream",
          "name": "stdout",
          "text": [
            "Archive:  archive.zip\n",
            "replace images/README? [y]es, [n]o, [A]ll, [N]one, [r]ename: A\n",
            "  inflating: images/README           \n",
            "  inflating: images/s1/1.pgm         \n",
            "  inflating: images/s1/10.pgm        \n",
            "  inflating: images/s1/2.pgm         \n",
            "  inflating: images/s1/3.pgm         \n",
            "  inflating: images/s1/4.pgm         \n",
            "  inflating: images/s1/5.pgm         \n",
            "  inflating: images/s1/6.pgm         \n",
            "  inflating: images/s1/7.pgm         \n",
            "  inflating: images/s1/8.pgm         \n",
            "  inflating: images/s1/9.pgm         \n",
            "  inflating: images/s10/1.pgm        \n",
            "  inflating: images/s10/10.pgm       \n",
            "  inflating: images/s10/2.pgm        \n",
            "  inflating: images/s10/3.pgm        \n",
            "  inflating: images/s10/4.pgm        \n",
            "  inflating: images/s10/5.pgm        \n",
            "  inflating: images/s10/6.pgm        \n",
            "  inflating: images/s10/7.pgm        \n",
            "  inflating: images/s10/8.pgm        \n",
            "  inflating: images/s10/9.pgm        \n",
            "  inflating: images/s11/1.pgm        \n",
            "  inflating: images/s11/10.pgm       \n",
            "  inflating: images/s11/2.pgm        \n",
            "  inflating: images/s11/3.pgm        \n",
            "  inflating: images/s11/4.pgm        \n",
            "  inflating: images/s11/5.pgm        \n",
            "  inflating: images/s11/6.pgm        \n",
            "  inflating: images/s11/7.pgm        \n",
            "  inflating: images/s11/8.pgm        \n",
            "  inflating: images/s11/9.pgm        \n",
            "  inflating: images/s12/1.pgm        \n",
            "  inflating: images/s12/10.pgm       \n",
            "  inflating: images/s12/2.pgm        \n",
            "  inflating: images/s12/3.pgm        \n",
            "  inflating: images/s12/4.pgm        \n",
            "  inflating: images/s12/5.pgm        \n",
            "  inflating: images/s12/6.pgm        \n",
            "  inflating: images/s12/7.pgm        \n",
            "  inflating: images/s12/8.pgm        \n",
            "  inflating: images/s12/9.pgm        \n",
            "  inflating: images/s13/1.pgm        \n",
            "  inflating: images/s13/10.pgm       \n",
            "  inflating: images/s13/2.pgm        \n",
            "  inflating: images/s13/3.pgm        \n",
            "  inflating: images/s13/4.pgm        \n",
            "  inflating: images/s13/5.pgm        \n",
            "  inflating: images/s13/6.pgm        \n",
            "  inflating: images/s13/7.pgm        \n",
            "  inflating: images/s13/8.pgm        \n",
            "  inflating: images/s13/9.pgm        \n",
            "  inflating: images/s14/1.pgm        \n",
            "  inflating: images/s14/10.pgm       \n",
            "  inflating: images/s14/2.pgm        \n",
            "  inflating: images/s14/3.pgm        \n",
            "  inflating: images/s14/4.pgm        \n",
            "  inflating: images/s14/5.pgm        \n",
            "  inflating: images/s14/6.pgm        \n",
            "  inflating: images/s14/7.pgm        \n",
            "  inflating: images/s14/8.pgm        \n",
            "  inflating: images/s14/9.pgm        \n",
            "  inflating: images/s15/1.pgm        \n",
            "  inflating: images/s15/10.pgm       \n",
            "  inflating: images/s15/2.pgm        \n",
            "  inflating: images/s15/3.pgm        \n",
            "  inflating: images/s15/4.pgm        \n",
            "  inflating: images/s15/5.pgm        \n",
            "  inflating: images/s15/6.pgm        \n",
            "  inflating: images/s15/7.pgm        \n",
            "  inflating: images/s15/8.pgm        \n",
            "  inflating: images/s15/9.pgm        \n",
            "  inflating: images/s16/1.pgm        \n",
            "  inflating: images/s16/10.pgm       \n",
            "  inflating: images/s16/2.pgm        \n",
            "  inflating: images/s16/3.pgm        \n",
            "  inflating: images/s16/4.pgm        \n",
            "  inflating: images/s16/5.pgm        \n",
            "  inflating: images/s16/6.pgm        \n",
            "  inflating: images/s16/7.pgm        \n",
            "  inflating: images/s16/8.pgm        \n",
            "  inflating: images/s16/9.pgm        \n",
            "  inflating: images/s17/1.pgm        \n",
            "  inflating: images/s17/10.pgm       \n",
            "  inflating: images/s17/2.pgm        \n",
            "  inflating: images/s17/3.pgm        \n",
            "  inflating: images/s17/4.pgm        \n",
            "  inflating: images/s17/5.pgm        \n",
            "  inflating: images/s17/6.pgm        \n",
            "  inflating: images/s17/7.pgm        \n",
            "  inflating: images/s17/8.pgm        \n",
            "  inflating: images/s17/9.pgm        \n",
            "  inflating: images/s18/1.pgm        \n",
            "  inflating: images/s18/10.pgm       \n",
            "  inflating: images/s18/2.pgm        \n",
            "  inflating: images/s18/3.pgm        \n",
            "  inflating: images/s18/4.pgm        \n",
            "  inflating: images/s18/5.pgm        \n",
            "  inflating: images/s18/6.pgm        \n",
            "  inflating: images/s18/7.pgm        \n",
            "  inflating: images/s18/8.pgm        \n",
            "  inflating: images/s18/9.pgm        \n",
            "  inflating: images/s19/1.pgm        \n",
            "  inflating: images/s19/10.pgm       \n",
            "  inflating: images/s19/2.pgm        \n",
            "  inflating: images/s19/3.pgm        \n",
            "  inflating: images/s19/4.pgm        \n",
            "  inflating: images/s19/5.pgm        \n",
            "  inflating: images/s19/6.pgm        \n",
            "  inflating: images/s19/7.pgm        \n",
            "  inflating: images/s19/8.pgm        \n",
            "  inflating: images/s19/9.pgm        \n",
            "  inflating: images/s2/1.pgm         \n",
            "  inflating: images/s2/10.pgm        \n",
            "  inflating: images/s2/2.pgm         \n",
            "  inflating: images/s2/3.pgm         \n",
            "  inflating: images/s2/4.pgm         \n",
            "  inflating: images/s2/5.pgm         \n",
            "  inflating: images/s2/6.pgm         \n",
            "  inflating: images/s2/7.pgm         \n",
            "  inflating: images/s2/8.pgm         \n",
            "  inflating: images/s2/9.pgm         \n",
            "  inflating: images/s20/1.pgm        \n",
            "  inflating: images/s20/10.pgm       \n",
            "  inflating: images/s20/2.pgm        \n",
            "  inflating: images/s20/3.pgm        \n",
            "  inflating: images/s20/4.pgm        \n",
            "  inflating: images/s20/5.pgm        \n",
            "  inflating: images/s20/6.pgm        \n",
            "  inflating: images/s20/7.pgm        \n",
            "  inflating: images/s20/8.pgm        \n",
            "  inflating: images/s20/9.pgm        \n",
            "  inflating: images/s21/1.pgm        \n",
            "  inflating: images/s21/10.pgm       \n",
            "  inflating: images/s21/2.pgm        \n",
            "  inflating: images/s21/3.pgm        \n",
            "  inflating: images/s21/4.pgm        \n",
            "  inflating: images/s21/5.pgm        \n",
            "  inflating: images/s21/6.pgm        \n",
            "  inflating: images/s21/7.pgm        \n",
            "  inflating: images/s21/8.pgm        \n",
            "  inflating: images/s21/9.pgm        \n",
            "  inflating: images/s22/1.pgm        \n",
            "  inflating: images/s22/10.pgm       \n",
            "  inflating: images/s22/2.pgm        \n",
            "  inflating: images/s22/3.pgm        \n",
            "  inflating: images/s22/4.pgm        \n",
            "  inflating: images/s22/5.pgm        \n",
            "  inflating: images/s22/6.pgm        \n",
            "  inflating: images/s22/7.pgm        \n",
            "  inflating: images/s22/8.pgm        \n",
            "  inflating: images/s22/9.pgm        \n",
            "  inflating: images/s23/1.pgm        \n",
            "  inflating: images/s23/10.pgm       \n",
            "  inflating: images/s23/2.pgm        \n",
            "  inflating: images/s23/3.pgm        \n",
            "  inflating: images/s23/4.pgm        \n",
            "  inflating: images/s23/5.pgm        \n",
            "  inflating: images/s23/6.pgm        \n",
            "  inflating: images/s23/7.pgm        \n",
            "  inflating: images/s23/8.pgm        \n",
            "  inflating: images/s23/9.pgm        \n",
            "  inflating: images/s24/1.pgm        \n",
            "  inflating: images/s24/10.pgm       \n",
            "  inflating: images/s24/2.pgm        \n",
            "  inflating: images/s24/3.pgm        \n",
            "  inflating: images/s24/4.pgm        \n",
            "  inflating: images/s24/5.pgm        \n",
            "  inflating: images/s24/6.pgm        \n",
            "  inflating: images/s24/7.pgm        \n",
            "  inflating: images/s24/8.pgm        \n",
            "  inflating: images/s24/9.pgm        \n",
            "  inflating: images/s25/1.pgm        \n",
            "  inflating: images/s25/10.pgm       \n",
            "  inflating: images/s25/2.pgm        \n",
            "  inflating: images/s25/3.pgm        \n",
            "  inflating: images/s25/4.pgm        \n",
            "  inflating: images/s25/5.pgm        \n",
            "  inflating: images/s25/6.pgm        \n",
            "  inflating: images/s25/7.pgm        \n",
            "  inflating: images/s25/8.pgm        \n",
            "  inflating: images/s25/9.pgm        \n",
            "  inflating: images/s26/1.pgm        \n",
            "  inflating: images/s26/10.pgm       \n",
            "  inflating: images/s26/2.pgm        \n",
            "  inflating: images/s26/3.pgm        \n",
            "  inflating: images/s26/4.pgm        \n",
            "  inflating: images/s26/5.pgm        \n",
            "  inflating: images/s26/6.pgm        \n",
            "  inflating: images/s26/7.pgm        \n",
            "  inflating: images/s26/8.pgm        \n",
            "  inflating: images/s26/9.pgm        \n",
            "  inflating: images/s27/1.pgm        \n",
            "  inflating: images/s27/10.pgm       \n",
            "  inflating: images/s27/2.pgm        \n",
            "  inflating: images/s27/3.pgm        \n",
            "  inflating: images/s27/4.pgm        \n",
            "  inflating: images/s27/5.pgm        \n",
            "  inflating: images/s27/6.pgm        \n",
            "  inflating: images/s27/7.pgm        \n",
            "  inflating: images/s27/8.pgm        \n",
            "  inflating: images/s27/9.pgm        \n",
            "  inflating: images/s28/1.pgm        \n",
            "  inflating: images/s28/10.pgm       \n",
            "  inflating: images/s28/2.pgm        \n",
            "  inflating: images/s28/3.pgm        \n",
            "  inflating: images/s28/4.pgm        \n",
            "  inflating: images/s28/5.pgm        \n",
            "  inflating: images/s28/6.pgm        \n",
            "  inflating: images/s28/7.pgm        \n",
            "  inflating: images/s28/8.pgm        \n",
            "  inflating: images/s28/9.pgm        \n",
            "  inflating: images/s29/1.pgm        \n",
            "  inflating: images/s29/10.pgm       \n",
            "  inflating: images/s29/2.pgm        \n",
            "  inflating: images/s29/3.pgm        \n",
            "  inflating: images/s29/4.pgm        \n",
            "  inflating: images/s29/5.pgm        \n",
            "  inflating: images/s29/6.pgm        \n",
            "  inflating: images/s29/7.pgm        \n",
            "  inflating: images/s29/8.pgm        \n",
            "  inflating: images/s29/9.pgm        \n",
            "  inflating: images/s3/1.pgm         \n",
            "  inflating: images/s3/10.pgm        \n",
            "  inflating: images/s3/2.pgm         \n",
            "  inflating: images/s3/3.pgm         \n",
            "  inflating: images/s3/4.pgm         \n",
            "  inflating: images/s3/5.pgm         \n",
            "  inflating: images/s3/6.pgm         \n",
            "  inflating: images/s3/7.pgm         \n",
            "  inflating: images/s3/8.pgm         \n",
            "  inflating: images/s3/9.pgm         \n",
            "  inflating: images/s30/1.pgm        \n",
            "  inflating: images/s30/10.pgm       \n",
            "  inflating: images/s30/2.pgm        \n",
            "  inflating: images/s30/3.pgm        \n",
            "  inflating: images/s30/4.pgm        \n",
            "  inflating: images/s30/5.pgm        \n",
            "  inflating: images/s30/6.pgm        \n",
            "  inflating: images/s30/7.pgm        \n",
            "  inflating: images/s30/8.pgm        \n",
            "  inflating: images/s30/9.pgm        \n",
            "  inflating: images/s31/1.pgm        \n",
            "  inflating: images/s31/10.pgm       \n",
            "  inflating: images/s31/2.pgm        \n",
            "  inflating: images/s31/3.pgm        \n",
            "  inflating: images/s31/4.pgm        \n",
            "  inflating: images/s31/5.pgm        \n",
            "  inflating: images/s31/6.pgm        \n",
            "  inflating: images/s31/7.pgm        \n",
            "  inflating: images/s31/8.pgm        \n",
            "  inflating: images/s31/9.pgm        \n",
            "  inflating: images/s32/1.pgm        \n",
            "  inflating: images/s32/10.pgm       \n",
            "  inflating: images/s32/2.pgm        \n",
            "  inflating: images/s32/3.pgm        \n",
            "  inflating: images/s32/4.pgm        \n",
            "  inflating: images/s32/5.pgm        \n",
            "  inflating: images/s32/6.pgm        \n",
            "  inflating: images/s32/7.pgm        \n",
            "  inflating: images/s32/8.pgm        \n",
            "  inflating: images/s32/9.pgm        \n",
            "  inflating: images/s33/1.pgm        \n",
            "  inflating: images/s33/10.pgm       \n",
            "  inflating: images/s33/2.pgm        \n",
            "  inflating: images/s33/3.pgm        \n",
            "  inflating: images/s33/4.pgm        \n",
            "  inflating: images/s33/5.pgm        \n",
            "  inflating: images/s33/6.pgm        \n",
            "  inflating: images/s33/7.pgm        \n",
            "  inflating: images/s33/8.pgm        \n",
            "  inflating: images/s33/9.pgm        \n",
            "  inflating: images/s34/1.pgm        \n",
            "  inflating: images/s34/10.pgm       \n",
            "  inflating: images/s34/2.pgm        \n",
            "  inflating: images/s34/3.pgm        \n",
            "  inflating: images/s34/4.pgm        \n",
            "  inflating: images/s34/5.pgm        \n",
            "  inflating: images/s34/6.pgm        \n",
            "  inflating: images/s34/7.pgm        \n",
            "  inflating: images/s34/8.pgm        \n",
            "  inflating: images/s34/9.pgm        \n",
            "  inflating: images/s35/1.pgm        \n",
            "  inflating: images/s35/10.pgm       \n",
            "  inflating: images/s35/2.pgm        \n",
            "  inflating: images/s35/3.pgm        \n",
            "  inflating: images/s35/4.pgm        \n",
            "  inflating: images/s35/5.pgm        \n",
            "  inflating: images/s35/6.pgm        \n",
            "  inflating: images/s35/7.pgm        \n",
            "  inflating: images/s35/8.pgm        \n",
            "  inflating: images/s35/9.pgm        \n",
            "  inflating: images/s36/1.pgm        \n",
            "  inflating: images/s36/10.pgm       \n",
            "  inflating: images/s36/2.pgm        \n",
            "  inflating: images/s36/3.pgm        \n",
            "  inflating: images/s36/4.pgm        \n",
            "  inflating: images/s36/5.pgm        \n",
            "  inflating: images/s36/6.pgm        \n",
            "  inflating: images/s36/7.pgm        \n",
            "  inflating: images/s36/8.pgm        \n",
            "  inflating: images/s36/9.pgm        \n",
            "  inflating: images/s37/1.pgm        \n",
            "  inflating: images/s37/10.pgm       \n",
            "  inflating: images/s37/2.pgm        \n",
            "  inflating: images/s37/3.pgm        \n",
            "  inflating: images/s37/4.pgm        \n",
            "  inflating: images/s37/5.pgm        \n",
            "  inflating: images/s37/6.pgm        \n",
            "  inflating: images/s37/7.pgm        \n",
            "  inflating: images/s37/8.pgm        \n",
            "  inflating: images/s37/9.pgm        \n",
            "  inflating: images/s38/1.pgm        \n",
            "  inflating: images/s38/10.pgm       \n",
            "  inflating: images/s38/2.pgm        \n",
            "  inflating: images/s38/3.pgm        \n",
            "  inflating: images/s38/4.pgm        \n",
            "  inflating: images/s38/5.pgm        \n",
            "  inflating: images/s38/6.pgm        \n",
            "  inflating: images/s38/7.pgm        \n",
            "  inflating: images/s38/8.pgm        \n",
            "  inflating: images/s38/9.pgm        \n",
            "  inflating: images/s39/1.pgm        \n",
            "  inflating: images/s39/10.pgm       \n",
            "  inflating: images/s39/2.pgm        \n",
            "  inflating: images/s39/3.pgm        \n",
            "  inflating: images/s39/4.pgm        \n",
            "  inflating: images/s39/5.pgm        \n",
            "  inflating: images/s39/6.pgm        \n",
            "  inflating: images/s39/7.pgm        \n",
            "  inflating: images/s39/8.pgm        \n",
            "  inflating: images/s39/9.pgm        \n",
            "  inflating: images/s4/1.pgm         \n",
            "  inflating: images/s4/10.pgm        \n",
            "  inflating: images/s4/2.pgm         \n",
            "  inflating: images/s4/3.pgm         \n",
            "  inflating: images/s4/4.pgm         \n",
            "  inflating: images/s4/5.pgm         \n",
            "  inflating: images/s4/6.pgm         \n",
            "  inflating: images/s4/7.pgm         \n",
            "  inflating: images/s4/8.pgm         \n",
            "  inflating: images/s4/9.pgm         \n",
            "  inflating: images/s40/1.pgm        \n",
            "  inflating: images/s40/10.pgm       \n",
            "  inflating: images/s40/2.pgm        \n",
            "  inflating: images/s40/3.pgm        \n",
            "  inflating: images/s40/4.pgm        \n",
            "  inflating: images/s40/5.pgm        \n",
            "  inflating: images/s40/6.pgm        \n",
            "  inflating: images/s40/7.pgm        \n",
            "  inflating: images/s40/8.pgm        \n",
            "  inflating: images/s40/9.pgm        \n",
            "  inflating: images/s5/1.pgm         \n",
            "  inflating: images/s5/10.pgm        \n",
            "  inflating: images/s5/2.pgm         \n",
            "  inflating: images/s5/3.pgm         \n",
            "  inflating: images/s5/4.pgm         \n",
            "  inflating: images/s5/5.pgm         \n",
            "  inflating: images/s5/6.pgm         \n",
            "  inflating: images/s5/7.pgm         \n",
            "  inflating: images/s5/8.pgm         \n",
            "  inflating: images/s5/9.pgm         \n",
            "  inflating: images/s6/1.pgm         \n",
            "  inflating: images/s6/10.pgm        \n",
            "  inflating: images/s6/2.pgm         \n",
            "  inflating: images/s6/3.pgm         \n",
            "  inflating: images/s6/4.pgm         \n",
            "  inflating: images/s6/5.pgm         \n",
            "  inflating: images/s6/6.pgm         \n",
            "  inflating: images/s6/7.pgm         \n",
            "  inflating: images/s6/8.pgm         \n",
            "  inflating: images/s6/9.pgm         \n",
            "  inflating: images/s7/1.pgm         \n",
            "  inflating: images/s7/10.pgm        \n",
            "  inflating: images/s7/2.pgm         \n",
            "  inflating: images/s7/3.pgm         \n",
            "  inflating: images/s7/4.pgm         \n",
            "  inflating: images/s7/5.pgm         \n",
            "  inflating: images/s7/6.pgm         \n",
            "  inflating: images/s7/7.pgm         \n",
            "  inflating: images/s7/8.pgm         \n",
            "  inflating: images/s7/9.pgm         \n",
            "  inflating: images/s8/1.pgm         \n",
            "  inflating: images/s8/10.pgm        \n",
            "  inflating: images/s8/2.pgm         \n",
            "  inflating: images/s8/3.pgm         \n",
            "  inflating: images/s8/4.pgm         \n",
            "  inflating: images/s8/5.pgm         \n",
            "  inflating: images/s8/6.pgm         \n",
            "  inflating: images/s8/7.pgm         \n",
            "  inflating: images/s8/8.pgm         \n",
            "  inflating: images/s8/9.pgm         \n",
            "  inflating: images/s9/1.pgm         \n",
            "  inflating: images/s9/10.pgm        \n",
            "  inflating: images/s9/2.pgm         \n",
            "  inflating: images/s9/3.pgm         \n",
            "  inflating: images/s9/4.pgm         \n",
            "  inflating: images/s9/5.pgm         \n",
            "  inflating: images/s9/6.pgm         \n",
            "  inflating: images/s9/7.pgm         \n",
            "  inflating: images/s9/8.pgm         \n",
            "  inflating: images/s9/9.pgm         \n"
          ]
        }
      ],
      "source": [
        "!unzip archive.zip -d images/\n"
      ]
    },
    {
      "cell_type": "code",
      "execution_count": null,
      "metadata": {
        "colab": {
          "base_uri": "https://localhost:8080/"
        },
        "id": "ExdcGm4ag2Ba",
        "outputId": "eb7b91b8-2a5f-40a8-ee98-e59b33337612"
      },
      "outputs": [
        {
          "output_type": "stream",
          "name": "stdout",
          "text": [
            "10.pgm\t1.pgm  2.pgm  3.pgm  4.pgm  5.pgm  6.pgm  7.pgm  8.pgm\t9.pgm\n"
          ]
        }
      ],
      "source": [
        "!ls images/s1\n"
      ]
    },
    {
      "cell_type": "markdown",
      "metadata": {
        "id": "HxZwIPTCE4YE"
      },
      "source": [
        "##2. Generate the Data Matrix and the Label vector"
      ]
    },
    {
      "cell_type": "code",
      "execution_count": null,
      "metadata": {
        "colab": {
          "base_uri": "https://localhost:8080/"
        },
        "id": "APljhegDiH4k",
        "outputId": "5bf68531-deab-4390-c9ae-9ce2218659ce"
      },
      "outputs": [
        {
          "output_type": "execute_result",
          "data": {
            "text/plain": [
              "(400, 10304)"
            ]
          },
          "metadata": {},
          "execution_count": 5
        }
      ],
      "source": [
        "directory = 'images/'\n",
        "image_vectors = []\n",
        "\n",
        "for folder in os.listdir(directory):\n",
        "  path = os.path.join(directory, folder)\n",
        "  if os.path.isdir(path):\n",
        "    sub_directory = path\n",
        "    for image in os.listdir(sub_directory):\n",
        "            f = os.path.join(sub_directory, image)\n",
        "            # The function imread loads an image from the specified file and returns it\n",
        "            img = cv2.imread(f, cv2.IMREAD_GRAYSCALE)\n",
        "            vector = np.array(img)\n",
        "            result = vector.flatten()\n",
        "            image_vectors.append(result)\n",
        "image_vectors = np.array(image_vectors)\n",
        "image_vectors.shape       "
      ]
    },
    {
      "cell_type": "code",
      "execution_count": null,
      "metadata": {
        "colab": {
          "base_uri": "https://localhost:8080/",
          "height": 129
        },
        "id": "5pNI-3skPmUx",
        "outputId": "14b69dd4-170b-4aa6-9715-6c3912d5b263"
      },
      "outputs": [
        {
          "output_type": "display_data",
          "data": {
            "text/plain": [
              "<PIL.Image.Image image mode=L size=92x112 at 0x7FC18F758FD0>"
            ],
            "image/png": "[encoded data removed]"
          },
          "metadata": {}
        }
      ],
      "source": [
        "cv2_imshow(img)"
      ]
    },
    {
      "cell_type": "code",
      "execution_count": null,
      "metadata": {
        "colab": {
          "base_uri": "https://localhost:8080/"
        },
        "id": "bHuvrB4WvLjf",
        "outputId": "e0ad8201-34fd-47e6-e2f8-b6b872b3918b"
      },
      "outputs": [
        {
          "output_type": "execute_result",
          "data": {
            "text/plain": [
              "array([ 1,  1,  1,  1,  1,  1,  1,  1,  1,  1,  2,  2,  2,  2,  2,  2,  2,\n",
              "        2,  2,  2,  3,  3,  3,  3,  3,  3,  3,  3,  3,  3,  4,  4,  4,  4,\n",
              "        4,  4,  4,  4,  4,  4,  5,  5,  5,  5,  5,  5,  5,  5,  5,  5,  6,\n",
              "        6,  6,  6,  6,  6,  6,  6,  6,  6,  7,  7,  7,  7,  7,  7,  7,  7,\n",
              "        7,  7,  8,  8,  8,  8,  8,  8,  8,  8,  8,  8,  9,  9,  9,  9,  9,\n",
              "        9,  9,  9,  9,  9, 10, 10, 10, 10, 10, 10, 10, 10, 10, 10, 11, 11,\n",
              "       11, 11, 11, 11, 11, 11, 11, 11, 12, 12, 12, 12, 12, 12, 12, 12, 12,\n",
              "       12, 13, 13, 13, 13, 13, 13, 13, 13, 13, 13, 14, 14, 14, 14, 14, 14,\n",
              "       14, 14, 14, 14, 15, 15, 15, 15, 15, 15, 15, 15, 15, 15, 16, 16, 16,\n",
              "       16, 16, 16, 16, 16, 16, 16, 17, 17, 17, 17, 17, 17, 17, 17, 17, 17,\n",
              "       18, 18, 18, 18, 18, 18, 18, 18, 18, 18, 19, 19, 19, 19, 19, 19, 19,\n",
              "       19, 19, 19, 20, 20, 20, 20, 20, 20, 20, 20, 20, 20, 21, 21, 21, 21,\n",
              "       21, 21, 21, 21, 21, 21, 22, 22, 22, 22, 22, 22, 22, 22, 22, 22, 23,\n",
              "       23, 23, 23, 23, 23, 23, 23, 23, 23, 24, 24, 24, 24, 24, 24, 24, 24,\n",
              "       24, 24, 25, 25, 25, 25, 25, 25, 25, 25, 25, 25, 26, 26, 26, 26, 26,\n",
              "       26, 26, 26, 26, 26, 27, 27, 27, 27, 27, 27, 27, 27, 27, 27, 28, 28,\n",
              "       28, 28, 28, 28, 28, 28, 28, 28, 29, 29, 29, 29, 29, 29, 29, 29, 29,\n",
              "       29, 30, 30, 30, 30, 30, 30, 30, 30, 30, 30, 31, 31, 31, 31, 31, 31,\n",
              "       31, 31, 31, 31, 32, 32, 32, 32, 32, 32, 32, 32, 32, 32, 33, 33, 33,\n",
              "       33, 33, 33, 33, 33, 33, 33, 34, 34, 34, 34, 34, 34, 34, 34, 34, 34,\n",
              "       35, 35, 35, 35, 35, 35, 35, 35, 35, 35, 36, 36, 36, 36, 36, 36, 36,\n",
              "       36, 36, 36, 37, 37, 37, 37, 37, 37, 37, 37, 37, 37, 38, 38, 38, 38,\n",
              "       38, 38, 38, 38, 38, 38, 39, 39, 39, 39, 39, 39, 39, 39, 39, 39, 40,\n",
              "       40, 40, 40, 40, 40, 40, 40, 40, 40])"
            ]
          },
          "metadata": {},
          "execution_count": 7
        }
      ],
      "source": [
        "labels = []\n",
        "\n",
        "for i in range (1,41):\n",
        "    for j in range (0,10):\n",
        "        labels.append(i)\n",
        "\n",
        "labels = np.array(labels)\n",
        "labels    "
      ]
    },
    {
      "cell_type": "markdown",
      "metadata": {
        "id": "WA4CGZJNQO9E"
      },
      "source": [
        "## 3. Split the Dataset into Training and Test sets"
      ]
    },
    {
      "cell_type": "markdown",
      "metadata": {
        "id": "QL0iCg2tWUH1"
      },
      "source": [
        "We used a random number generator with a set seed so we can always have the same split."
      ]
    },
    {
      "cell_type": "code",
      "execution_count": null,
      "metadata": {
        "colab": {
          "base_uri": "https://localhost:8080/"
        },
        "id": "u4PXJM7czZ11",
        "outputId": "dab42f47-c109-45e8-9497-607ab421e303"
      },
      "outputs": [
        {
          "output_type": "stream",
          "name": "stdout",
          "text": [
            "(200, 10304)\n",
            "(200, 10304)\n",
            "(200,)\n",
            "(200,)\n"
          ]
        }
      ],
      "source": [
        "train_data = []\n",
        "test_data = []\n",
        "train_labels = []\n",
        "test_labels = []\n",
        "\n",
        "for i in range(0,400):\n",
        "    if(i%2 ==  0 ): \n",
        "        test_data.append(image_vectors[i])\n",
        "        test_labels.append(labels[i])\n",
        "    \n",
        "    else:\n",
        "        train_data.append(image_vectors[i])\n",
        "        train_labels.append(labels[i])\n",
        "    \n",
        "train_data = np.array(train_data)   \n",
        "test_data = np.array(test_data)    \n",
        "train_labels = np.array(train_labels)    \n",
        "test_labels = np.array(test_labels)    \n",
        "\n",
        "print(train_data.shape)\n",
        "print(test_data.shape)\n",
        "print(train_labels.shape)\n",
        "print(test_labels.shape)\n",
        "\n"
      ]
    },
    {
      "cell_type": "markdown",
      "metadata": {
        "id": "HQloCPPVX3QI"
      },
      "source": [
        "## 4. Classification using PCA"
      ]
    },
    {
      "cell_type": "code",
      "execution_count": null,
      "metadata": {
        "id": "jZ7q6myPSs2l"
      },
      "outputs": [],
      "source": [
        "alphaaa = np.array([0.8,0.85,0.9,0.95])"
      ]
    },
    {
      "cell_type": "markdown",
      "metadata": {
        "id": "VR-O_Uv-Ro96"
      },
      "source": [
        "Compute mean"
      ]
    },
    {
      "cell_type": "code",
      "execution_count": null,
      "metadata": {
        "colab": {
          "base_uri": "https://localhost:8080/"
        },
        "id": "2cMEW5hvUU_F",
        "outputId": "36261d3f-ca52-4552-efaa-116081bfc722"
      },
      "outputs": [
        {
          "output_type": "stream",
          "name": "stdout",
          "text": [
            "[85.92  85.765 85.83  ... 73.33  73.975 73.91 ]\n"
          ]
        }
      ],
      "source": [
        "train_data_mean = np.mean(train_data,axis=0)\n",
        "print(train_data_mean)"
      ]
    },
    {
      "cell_type": "code",
      "execution_count": null,
      "metadata": {
        "colab": {
          "base_uri": "https://localhost:8080/"
        },
        "id": "eJssPIPxlAZV",
        "outputId": "97426a7e-3a65-455f-ba72-bc6a93043fef"
      },
      "outputs": [
        {
          "output_type": "execute_result",
          "data": {
            "text/plain": [
              "(10304,)"
            ]
          },
          "metadata": {},
          "execution_count": 11
        }
      ],
      "source": [
        "train_data_mean.shape"
      ]
    },
    {
      "cell_type": "markdown",
      "metadata": {
        "id": "p-PC8OgDSvhR"
      },
      "source": [
        "Centering data matrix"
      ]
    },
    {
      "cell_type": "code",
      "execution_count": null,
      "metadata": {
        "colab": {
          "base_uri": "https://localhost:8080/"
        },
        "id": "SAjLsK3wVis1",
        "outputId": "943367e1-4073-4156-f42f-f336df220d76"
      },
      "outputs": [
        {
          "output_type": "stream",
          "name": "stdout",
          "text": [
            "[[ 34.08   34.235  34.17  ...   8.67   13.025   5.09 ]\n",
            " [ 37.08   35.235  35.17  ...   4.67    5.025  -6.91 ]\n",
            " [ 36.08   34.235  35.17  ... -14.33   -6.975 -15.91 ]\n",
            " ...\n",
            " [ 17.08   18.235  19.17  ...   2.67    2.025   1.09 ]\n",
            " [ 12.08   14.235  13.17  ... -20.33  -25.975 -21.91 ]\n",
            " [ 15.08   14.235  13.17  ... -24.33  -21.975 -21.91 ]]\n",
            "(200, 10304)\n"
          ]
        }
      ],
      "source": [
        "Centered_Train_Data_Matrix = train_data - np.transpose(train_data_mean)\n",
        "print(Centered_Train_Data_Matrix)\n",
        "print(Centered_Train_Data_Matrix.shape)"
      ]
    },
    {
      "cell_type": "markdown",
      "metadata": {
        "id": "dS-a6RHPS8hk"
      },
      "source": [
        "Compute covariance matrix"
      ]
    },
    {
      "cell_type": "code",
      "execution_count": null,
      "metadata": {
        "colab": {
          "base_uri": "https://localhost:8080/"
        },
        "id": "a0pS0_d5YAII",
        "outputId": "67c1a7b5-8ea0-4bf3-a397-2cf1758ca37e"
      },
      "outputs": [
        {
          "output_type": "stream",
          "name": "stdout",
          "text": [
            "[[1244.8836   1232.9162   1235.9314   ...  -94.9486   -111.422\n",
            "   -63.4022  ]\n",
            " [1232.9162   1239.949775 1238.15505  ...  -83.32745   -97.200875\n",
            "   -55.99615 ]\n",
            " [1235.9314   1238.15505  1252.4011   ...  -99.4789   -114.22925\n",
            "   -71.7603  ]\n",
            " ...\n",
            " [ -94.9486    -83.32745   -99.4789   ... 1907.6511   1854.52825\n",
            "  1721.8197  ]\n",
            " [-111.422     -97.200875 -114.22925  ... 1854.52825  1915.814375\n",
            "  1798.80775 ]\n",
            " [ -63.4022    -55.99615   -71.7603   ... 1721.8197   1798.80775\n",
            "  1901.1019  ]]\n"
          ]
        }
      ],
      "source": [
        "Train_Covariance_Matrix = np.dot(np.transpose(Centered_Train_Data_Matrix),Centered_Train_Data_Matrix)/Centered_Train_Data_Matrix.shape[0]\n",
        "print(Train_Covariance_Matrix)"
      ]
    },
    {
      "cell_type": "markdown",
      "metadata": {
        "id": "LGkZ1rbBW-q2"
      },
      "source": [
        "Asserting that our calculation of the covariance matrix is correct"
      ]
    },
    {
      "cell_type": "code",
      "execution_count": null,
      "metadata": {
        "colab": {
          "base_uri": "https://localhost:8080/"
        },
        "id": "8B0wTJCdTHk_",
        "outputId": "47a8246c-fc63-4f12-a8a2-eb83a1f32dbc"
      },
      "outputs": [
        {
          "output_type": "stream",
          "name": "stdout",
          "text": [
            "[[1244.8836   1232.9162   1235.9314   ...  -94.9486   -111.422\n",
            "   -63.4022  ]\n",
            " [1232.9162   1239.949775 1238.15505  ...  -83.32745   -97.200875\n",
            "   -55.99615 ]\n",
            " [1235.9314   1238.15505  1252.4011   ...  -99.4789   -114.22925\n",
            "   -71.7603  ]\n",
            " ...\n",
            " [ -94.9486    -83.32745   -99.4789   ... 1907.6511   1854.52825\n",
            "  1721.8197  ]\n",
            " [-111.422     -97.200875 -114.22925  ... 1854.52825  1915.814375\n",
            "  1798.80775 ]\n",
            " [ -63.4022    -55.99615   -71.7603   ... 1721.8197   1798.80775\n",
            "  1901.1019  ]]\n",
            "(10304, 10304)\n",
            "(10304, 10304)\n"
          ]
        }
      ],
      "source": [
        "cov_mat = np.cov(np.transpose(train_data), bias=True)\n",
        "print(cov_mat)\n",
        "print(cov_mat.shape)\n",
        "print(Train_Covariance_Matrix.shape)"
      ]
    },
    {
      "cell_type": "code",
      "execution_count": null,
      "metadata": {
        "colab": {
          "base_uri": "https://localhost:8080/"
        },
        "id": "b10JHzyVXGQF",
        "outputId": "f8971e04-00f2-483f-ca92-148e5c9d5f16"
      },
      "outputs": [
        {
          "output_type": "stream",
          "name": "stdout",
          "text": [
            "\n",
            "Arrays are not equal\n",
            "\n",
            "Mismatched elements: 14390096 / 106172416 (13.6%)\n",
            "Max absolute difference: 4.54747351e-13\n",
            "Max relative difference: 2.22044605e-16\n",
            " x: array([[1244.8836  , 1232.9162  , 1235.9314  , ...,  -94.9486  ,\n",
            "        -111.422   ,  -63.4022  ],\n",
            "       [1232.9162  , 1239.949775, 1238.15505 , ...,  -83.32745 ,...\n",
            " y: array([[1244.8836  , 1232.9162  , 1235.9314  , ...,  -94.9486  ,\n",
            "        -111.422   ,  -63.4022  ],\n",
            "       [1232.9162  , 1239.949775, 1238.15505 , ...,  -83.32745 ,...\n"
          ]
        }
      ],
      "source": [
        "try:\n",
        "  np.testing.assert_array_equal(cov_mat, Train_Covariance_Matrix)\n",
        "except AssertionError as e:\n",
        "  print(e)"
      ]
    },
    {
      "cell_type": "markdown",
      "metadata": {
        "id": "aiIIZWpgYuLf"
      },
      "source": [
        "The difference is within acceptable range"
      ]
    },
    {
      "cell_type": "markdown",
      "metadata": {
        "id": "0kqcBgB2yS5f"
      },
      "source": [
        "Compute eigenvalues and eigenvectors"
      ]
    },
    {
      "cell_type": "code",
      "execution_count": null,
      "metadata": {
        "colab": {
          "base_uri": "https://localhost:8080/"
        },
        "id": "MTUZ1m0WZx5V",
        "outputId": "1454cbe8-7b83-40cc-881c-283eaf707593"
      },
      "outputs": [
        {
          "output_type": "stream",
          "name": "stdout",
          "text": [
            "[ 2.96184410e+06  2.05163847e+06  1.15954086e+06 ... -9.05548824e-10\n",
            " -1.45014944e-09 -2.09364375e-09]\n",
            "[[-0.00533006  0.01367817  0.02043176 ...  0.          0.\n",
            "   0.        ]\n",
            " [-0.00533682  0.01363471  0.02056149 ... -0.08894389 -0.34371563\n",
            "   0.31834764]\n",
            " [-0.00537842  0.01382256  0.02048763 ...  0.044472    0.0368928\n",
            "   0.41415896]\n",
            " ...\n",
            " [-0.00482806 -0.01150032  0.00957949 ...  0.0092485  -0.02169175\n",
            "  -0.00475887]\n",
            " [-0.00513319 -0.01156446  0.00868791 ...  0.00076163 -0.01166828\n",
            "   0.00147267]\n",
            " [-0.00644753 -0.01151462  0.00942919 ...  0.01047492  0.02517442\n",
            "  -0.00352855]]\n"
          ]
        }
      ],
      "source": [
        "train_eigen_vals, train_eigen_vecs = LA.eigh(Train_Covariance_Matrix)\n",
        "idx = train_eigen_vals.argsort()[::-1]   \n",
        "train_eigen_vals = train_eigen_vals[idx]\n",
        "train_eigen_vecs = train_eigen_vecs[:,idx]\n",
        "print(train_eigen_vals)\n",
        "print(train_eigen_vecs)"
      ]
    },
    {
      "cell_type": "code",
      "source": [
        "train_eigen_vecs.shape"
      ],
      "metadata": {
        "colab": {
          "base_uri": "https://localhost:8080/"
        },
        "id": "iYfjLzmvfE9N",
        "outputId": "8c5f48fc-74c1-4dfd-8287-4c0d3fc83cd9"
      },
      "execution_count": null,
      "outputs": [
        {
          "output_type": "execute_result",
          "data": {
            "text/plain": [
              "(10304, 10304)"
            ]
          },
          "metadata": {},
          "execution_count": 17
        }
      ]
    },
    {
      "cell_type": "markdown",
      "metadata": {
        "id": "qr7k_dGYROGD"
      },
      "source": [
        "Covariance matrix is symmetric, so the eigenvalues should be real numbers. When using the function eig() instead of eigh(), by default the returned value is complex. The imaginary part is due to numeric error so we should discard it. But since the matrix is symmetric we simply used eigh() which is optimized for symmetric matrices specifically and thus faster."
      ]
    },
    {
      "cell_type": "code",
      "execution_count": null,
      "metadata": {
        "id": "L3D9guRERNf8"
      },
      "outputs": [],
      "source": [
        "#train_eigen_vals = train_eigen_vals.real\n",
        "#train_eigen_vecs = train_eigen_vecs.real"
      ]
    },
    {
      "cell_type": "markdown",
      "metadata": {
        "id": "5arphaPPdX-q"
      },
      "source": [
        "Fraction of total variance"
      ]
    },
    {
      "cell_type": "code",
      "execution_count": null,
      "metadata": {
        "colab": {
          "base_uri": "https://localhost:8080/"
        },
        "id": "KWQIvX3ZbbES",
        "outputId": "6784f93a-2f8a-4808-8959-fd7a2c63f423"
      },
      "outputs": [
        {
          "output_type": "stream",
          "name": "stdout",
          "text": [
            "\n",
            "Sum of  Eigen Values=  16215256.791449985 \n",
            "\n",
            "Explained variance for alpha = 0.8 is 35.0 dimensions\n",
            "Explained variance for alpha = 0.85 is 50.0 dimensions\n",
            "Explained variance for alpha = 0.9 is 74.0 dimensions\n",
            "Explained variance for alpha = 0.95 is 113.0 dimensions\n"
          ]
        }
      ],
      "source": [
        "train_eigen_values_total = np.sum(train_eigen_vals)\n",
        "\"\"\"\n",
        "train_eigen_vals = np.flip(train_eigen_vals)\n",
        "train_eigen_vecs = np.flip(train_eigen_vecs,axis=1)\n",
        "print(train_eigen_vals)\n",
        "print(train_eigen_vecs)\n",
        "\"\"\"\n",
        "print(\"\\nSum of  Eigen Values= \",train_eigen_values_total,\"\\n\")\n",
        "num_of_dim = np.empty(len(alphaaa),)\n",
        "k = 0\n",
        "for alpha in alphaaa:\n",
        "  sum = 0\n",
        "  r = 0\n",
        "  while sum < alpha * train_eigen_values_total:\n",
        "        sum += train_eigen_vals[r]\n",
        "        r += 1\n",
        "  num_of_dim[k] = r\n",
        "  print(\"Explained variance for alpha = \" + str(alpha) + \" is \" + str(num_of_dim[k]) + \" dimensions\")\n",
        "  k += 1\n"
      ]
    },
    {
      "cell_type": "markdown",
      "metadata": {
        "id": "DScLTVucgF1a"
      },
      "source": [
        "Getting Reduced Dimentionality Matrix"
      ]
    },
    {
      "cell_type": "code",
      "execution_count": null,
      "metadata": {
        "id": "_8TQBmivfNSx"
      },
      "outputs": [],
      "source": [
        "def get_reduced_dim_mat(dimensions, matrix):\n",
        "  projection_matrix_r = np.delete(train_eigen_vecs, np.s_[int(dimensions) : train_eigen_vecs.shape[1]], axis=1)\n",
        "  reduced_dim_mat = np.dot(np.transpose(projection_matrix_r),np.transpose(matrix)) \n",
        "  reduced_dim_mat = np.transpose(reduced_dim_mat)\n",
        "\n",
        "  return reduced_dim_mat"
      ]
    },
    {
      "cell_type": "code",
      "execution_count": null,
      "metadata": {
        "id": "iosdVZvCMj3K"
      },
      "outputs": [],
      "source": [
        "def KNNclf(neighbours, X_train, y_train, X_test, y_test):\n",
        "  clf = KNeighborsClassifier(n_neighbors=neighbours)\n",
        "  clf.fit(X_train, y_train)\n",
        "  y_pred = clf.predict(X_test)\n",
        "  accuracy = metrics.accuracy_score(y_test, y_pred)\n",
        "  print(\"Accuracy: \", accuracy)\n",
        "  #print(confusion_matrix(y_test, y_pred))\n",
        "  #print(classification_report(y_test, y_pred))\n",
        "  return accuracy"
      ]
    },
    {
      "cell_type": "code",
      "execution_count": null,
      "metadata": {
        "colab": {
          "base_uri": "https://localhost:8080/"
        },
        "id": "kb7PI3MZONUy",
        "outputId": "847f1398-0b63-48d5-a43a-18ee571af79a"
      },
      "outputs": [
        {
          "output_type": "stream",
          "name": "stdout",
          "text": [
            "(4, 4)\n",
            "35 dimensions with 1 nearest neighbours\n",
            "Accuracy:  0.96\n",
            "35 dimensions with 3 nearest neighbours\n",
            "Accuracy:  0.855\n",
            "35 dimensions with 5 nearest neighbours\n",
            "Accuracy:  0.795\n",
            "35 dimensions with 7 nearest neighbours\n",
            "Accuracy:  0.715\n",
            "50 dimensions with 1 nearest neighbours\n",
            "Accuracy:  0.96\n",
            "50 dimensions with 3 nearest neighbours\n",
            "Accuracy:  0.855\n",
            "50 dimensions with 5 nearest neighbours\n",
            "Accuracy:  0.79\n",
            "50 dimensions with 7 nearest neighbours\n",
            "Accuracy:  0.71\n",
            "74 dimensions with 1 nearest neighbours\n",
            "Accuracy:  0.955\n",
            "74 dimensions with 3 nearest neighbours\n",
            "Accuracy:  0.865\n",
            "74 dimensions with 5 nearest neighbours\n",
            "Accuracy:  0.795\n",
            "74 dimensions with 7 nearest neighbours\n",
            "Accuracy:  0.71\n",
            "113 dimensions with 1 nearest neighbours\n",
            "Accuracy:  0.95\n",
            "113 dimensions with 3 nearest neighbours\n",
            "Accuracy:  0.865\n",
            "113 dimensions with 5 nearest neighbours\n",
            "Accuracy:  0.8\n",
            "113 dimensions with 7 nearest neighbours\n",
            "Accuracy:  0.72\n"
          ]
        }
      ],
      "source": [
        "k_neighbours = [1, 3, 5, 7]\n",
        "accuracies = np.empty((len(alphaaa), len(k_neighbours)))\n",
        "print(accuracies.shape)\n",
        "for i, dim in enumerate(num_of_dim):\n",
        "  X_train = get_reduced_dim_mat(dim, train_data - np.transpose(train_data_mean))\n",
        "  X_test = get_reduced_dim_mat(dim, test_data - np.transpose(train_data_mean))\n",
        "  y_train = train_labels\n",
        "  y_test = test_labels\n",
        "  for j, k in enumerate(k_neighbours):\n",
        "    print(str(int(dim)) + \" dimensions with \" + str(k) + \" nearest neighbours\")\n",
        "    accuracy = KNNclf(k, X_train, y_train, X_test, y_test)\n",
        "    accuracies[i][j] = accuracy\n",
        "accuracies = np.transpose(accuracies)\n"
      ]
    },
    {
      "cell_type": "markdown",
      "metadata": {
        "id": "lkWHECqDhlqO"
      },
      "source": [
        "We tried to project with the data before centering and after centering. As long as we centered both the train data and test data, we got the same results."
      ]
    },
    {
      "cell_type": "markdown",
      "metadata": {
        "id": "6ITbRunKcBbn"
      },
      "source": [
        "plotting different alpha values against accuracy for different k values for the KNN classifier"
      ]
    },
    {
      "cell_type": "code",
      "execution_count": null,
      "metadata": {
        "colab": {
          "base_uri": "https://localhost:8080/",
          "height": 607
        },
        "id": "P61cIWFQ7-Ve",
        "outputId": "6f31cd68-8830-4894-abd3-5e1b8bb0f157"
      },
      "outputs": [
        {
          "output_type": "display_data",
          "data": {
            "text/plain": [
              "<Figure size 720x720 with 4 Axes>"
            ],
            "image/png": "[encoded data removed]"
          },
          "metadata": {
            "needs_background": "light"
          }
        }
      ],
      "source": [
        "plt.figure(figsize=(10, 10))\n",
        "\n",
        "for i in range(len(alphaaa)):\n",
        "  plt.subplot(2, 2, i+1)\n",
        "  plt.title(\"alpha=\" + str(alphaaa[i]))\n",
        "  plt.plot(k_neighbours, accuracies.T[i])"
      ]
    },
    {
      "cell_type": "code",
      "execution_count": null,
      "metadata": {
        "colab": {
          "base_uri": "https://localhost:8080/",
          "height": 694
        },
        "id": "RuuzOkKtUx4d",
        "outputId": "b2e392fe-42d2-403b-df05-5a9122f2ddd1"
      },
      "outputs": [
        {
          "output_type": "stream",
          "name": "stdout",
          "text": [
            "[0.8  0.85 0.9  0.95]\n",
            "[[0.96  0.96  0.955 0.95 ]\n",
            " [0.855 0.855 0.865 0.865]\n",
            " [0.795 0.79  0.795 0.8  ]\n",
            " [0.715 0.71  0.71  0.72 ]]\n"
          ]
        },
        {
          "output_type": "display_data",
          "data": {
            "text/plain": [
              "<Figure size 720x720 with 4 Axes>"
            ],
            "image/png": "[encoded data removed]"
          },
          "metadata": {
            "needs_background": "light"
          }
        }
      ],
      "source": [
        "print(alphaaa)\n",
        "print(accuracies)\n",
        "plt.figure(figsize=(10, 10))\n",
        "\n",
        "for i in range(len(k_neighbours)):\n",
        "  plt.subplot(2, 2, i+1)\n",
        "  plt.title(str(k_neighbours[i]) + \" neighbour(s)\")\n",
        "  plt.plot(alphaaa, accuracies[i])\n"
      ]
    },
    {
      "cell_type": "markdown",
      "metadata": {
        "id": "OvAWydf9fCXo"
      },
      "source": [
        "## 5. Classification Using LDA"
      ]
    },
    {
      "cell_type": "code",
      "execution_count": null,
      "metadata": {
        "colab": {
          "base_uri": "https://localhost:8080/"
        },
        "id": "GIeNPfQkjN3e",
        "outputId": "edc58e3b-4f40-4d21-fc12-8579b1a0070c"
      },
      "outputs": [
        {
          "output_type": "stream",
          "name": "stdout",
          "text": [
            "[[224227.91466994 221665.63466318 222839.27462158 ... -28922.92482806\n",
            "  -29711.40513319 -21239.84644753]\n",
            " [221665.65367817 220007.56863471 220773.02382256 ... -25962.10150032\n",
            "  -27243.18656446 -19358.44151462]\n",
            " [222839.30043176 220773.03056149 222085.44048763 ... -29058.17042051\n",
            "  -30412.04131209 -22604.65057081]\n",
            " ...\n",
            " [-28922.92475887 -25962.11169175 -29058.1707515  ... 289232.62957949\n",
            "  289742.23849968 281017.33517194]\n",
            " [-29711.39852733 -27243.18666828 -30412.04923837 ... 289742.25868791\n",
            "  295816.06343554 289631.94486681]\n",
            " [-21239.84352855 -19358.40482558 -22604.64952508 ... 281017.34942919\n",
            "  289631.93848538 295580.77355247]]\n"
          ]
        }
      ],
      "source": [
        "n = 5\n",
        "LDA_mean = np.zeros((40,train_data.shape[1]))\n",
        "for i in range(0,train_data.shape[0], n):\n",
        "    #print(i//5,\"\\t\",i,\"\\t\",i+5)\n",
        "    LDA_mean[i//n] = np.mean(train_data[i:i+n,:], axis=0)\n",
        "#print(LDA_mean)\n",
        "#print(\"\\n Dimensions:\",LDA_mean.shape)\n",
        "B = np.empty((10304,10304))\n",
        "data_mean = train_data_mean.reshape(1, train_data.shape[1])\n",
        "for i, mean_vec in enumerate(LDA_mean):\n",
        "\n",
        "  mean_vec = mean_vec.reshape(1, train_data.shape[1])\n",
        "  mu1_mu2 = mean_vec - data_mean\n",
        "  B += n * np.dot(mu1_mu2.T, mu1_mu2)\n",
        "print(B)\n",
        "#print(\"\\n Dimensions:\", B.shape)"
      ]
    },
    {
      "cell_type": "code",
      "execution_count": null,
      "metadata": {
        "colab": {
          "base_uri": "https://localhost:8080/"
        },
        "id": "Fm8AobU_kxCE",
        "outputId": "42df631a-902c-4a00-93bb-31b69a16ec49"
      },
      "outputs": [
        {
          "output_type": "stream",
          "name": "stdout",
          "text": [
            "[[ -1.6   0.   -1.6 ...   8.6  12.    7.8]\n",
            " [  1.4   1.   -0.6 ...   4.6   4.   -4.2]\n",
            " [  0.4   0.   -0.6 ... -14.4  -8.  -13.2]\n",
            " ...\n",
            " [  0.8   1.6   2.8 ...   9.4  11.    8.4]\n",
            " [ -4.2  -2.4  -3.2 ... -13.6 -17.  -14.6]\n",
            " [ -1.2  -2.4  -3.2 ... -17.6 -13.  -14.6]]\n",
            "(200, 10304)\n",
            "0 \t 0 \t 5\n",
            "1 \t 5 \t 10\n",
            "2 \t 10 \t 15\n",
            "3 \t 15 \t 20\n",
            "4 \t 20 \t 25\n",
            "5 \t 25 \t 30\n",
            "6 \t 30 \t 35\n",
            "7 \t 35 \t 40\n",
            "8 \t 40 \t 45\n",
            "9 \t 45 \t 50\n",
            "10 \t 50 \t 55\n",
            "11 \t 55 \t 60\n",
            "12 \t 60 \t 65\n",
            "13 \t 65 \t 70\n",
            "14 \t 70 \t 75\n",
            "15 \t 75 \t 80\n",
            "16 \t 80 \t 85\n",
            "17 \t 85 \t 90\n",
            "18 \t 90 \t 95\n",
            "19 \t 95 \t 100\n",
            "20 \t 100 \t 105\n",
            "21 \t 105 \t 110\n",
            "22 \t 110 \t 115\n",
            "23 \t 115 \t 120\n",
            "24 \t 120 \t 125\n",
            "25 \t 125 \t 130\n",
            "26 \t 130 \t 135\n",
            "27 \t 135 \t 140\n",
            "28 \t 140 \t 145\n",
            "29 \t 145 \t 150\n",
            "30 \t 150 \t 155\n",
            "31 \t 155 \t 160\n",
            "32 \t 160 \t 165\n",
            "33 \t 165 \t 170\n",
            "34 \t 170 \t 175\n",
            "35 \t 175 \t 180\n",
            "36 \t 180 \t 185\n",
            "37 \t 185 \t 190\n",
            "38 \t 190 \t 195\n",
            "39 \t 195 \t 200\n",
            "Center Class matrices: \n",
            " [[[ -1.6   0.   -1.6 ...   8.6  12.    7.8]\n",
            "  [  1.4   1.   -0.6 ...   4.6   4.   -4.2]\n",
            "  [  0.4   0.   -0.6 ... -14.4  -8.  -13.2]\n",
            "  [ -0.6  -1.   -0.6 ...   9.6   5.   14.8]\n",
            "  [  0.4   0.    3.4 ...  -8.4 -13.   -5.2]]\n",
            "\n",
            " [[ -3.6  -5.8  -8.8 ...  -3.8  -3.4  -0.2]\n",
            "  [ 10.4  11.2  11.2 ...   8.2   4.6   5.8]\n",
            "  [  9.4   7.2   9.2 ...   8.2   6.6   8.8]\n",
            "  [ -6.6  -7.8  -4.8 ...  -3.8  -1.4  -6.2]\n",
            "  [ -9.6  -4.8  -6.8 ...  -8.8  -6.4  -8.2]]\n",
            "\n",
            " [[ -1.6  -4.2  -0.8 ...  37.6  34.   -2.2]\n",
            "  [ -1.6  -0.2   3.2 ... -21.4   0.   16.8]\n",
            "  [  0.4   1.8  -2.8 ... -14.4  13.  -10.2]\n",
            "  [  4.4   0.8   2.2 ...   8.6 -20.    8.8]\n",
            "  [ -1.6   1.8  -1.8 ... -10.4 -27.  -13.2]]\n",
            "\n",
            " ...\n",
            "\n",
            " [[ 32.2  34.8  35.  ...  17.6  13.2  14.4]\n",
            "  [-47.8 -47.2 -51.  ... -27.4 -25.8 -20.6]\n",
            "  [ 30.2  33.8  32.  ...  15.6  19.2  10.4]\n",
            "  [-48.8 -53.2 -48.  ... -24.4 -23.8 -21.6]\n",
            "  [ 34.2  31.8  32.  ...  18.6  17.2  17.4]]\n",
            "\n",
            " [[  1.6  -3.4   1.6 ...   8.8   7.    8. ]\n",
            "  [  0.6  -0.4  -3.4 ...  -2.2  -2.   -5. ]\n",
            "  [ -2.4  -0.4   3.6 ...  -0.2  -4.   -2. ]\n",
            "  [  0.6   4.6  -0.4 ...  -1.2   1.    0. ]\n",
            "  [ -0.4  -0.4  -1.4 ...  -5.2  -2.   -1. ]]\n",
            "\n",
            " [[  1.8  -1.4   1.8 ...  11.4   8.   12.4]\n",
            "  [  2.8   4.6   1.8 ...  10.4  11.    8.4]\n",
            "  [  0.8   1.6   2.8 ...   9.4  11.    8.4]\n",
            "  [ -4.2  -2.4  -3.2 ... -13.6 -17.  -14.6]\n",
            "  [ -1.2  -2.4  -3.2 ... -17.6 -13.  -14.6]]] \n",
            "\n",
            "[[26780.977875 27000.9245   26893.525625 ... 11686.546     9736.846\n",
            "  11839.782   ]\n",
            " [27010.782    30128.264    29480.97     ... 10937.7035    9964.9785\n",
            "  11229.5845  ]\n",
            " [26306.1845   28866.494    30849.8575   ... 11013.8105   10005.2355\n",
            "  11716.4535  ]\n",
            " ...\n",
            " [ 9933.2       9296.6       9162.4      ... 92297.6      81163.4\n",
            "  63346.6     ]\n",
            " [ 7427.        7803.        7566.2      ... 81163.4      87346.8\n",
            "  70129.6     ]\n",
            " [ 8559.4       8159.2       8252.6      ... 63346.6      70129.6\n",
            "  84639.6     ]]\n",
            "\n",
            "S dims: (10304, 10304)\n"
          ]
        }
      ],
      "source": [
        "LDA_Centered_Data_Matrix = np.zeros((train_data.shape[0],train_data.shape[1]))\n",
        "\n",
        "for i in range(0,train_data.shape[0],1):\n",
        "  LDA_Centered_Data_Matrix[i,:] = train_data[i,:] - LDA_mean[i//n,:]\n",
        "  \n",
        "print(LDA_Centered_Data_Matrix)   \n",
        "print(LDA_Centered_Data_Matrix.shape)\n",
        "\n",
        "LDA_Centered_Data_Matrix40 = np.empty((40, n, 10304))\n",
        "for i in range(0, train_data.shape[0], n):\n",
        "   print(i//n,\"\\t\",i,\"\\t\",i+n)\n",
        "   LDA_Centered_Data_Matrix40[i//n] = LDA_Centered_Data_Matrix[i:i+n,:]\n",
        "\n",
        "print(\"Center Class matrices: \\n\",LDA_Centered_Data_Matrix40,\"\\n\") \n",
        "S = np.empty((10304,10304))\n",
        "for i in range(0,40,1):\n",
        "  S += np.dot(np.transpose(LDA_Centered_Data_Matrix40[i]),LDA_Centered_Data_Matrix40[i])\n",
        "\n",
        "print(S)\n",
        "print(\"\\nS dims:\",S.shape)"
      ]
    },
    {
      "cell_type": "code",
      "execution_count": null,
      "metadata": {
        "colab": {
          "base_uri": "https://localhost:8080/"
        },
        "id": "7uYT7YCGnyCm",
        "outputId": "5e2181c2-5bb0-4fab-ef29-f1d6cb6c0674"
      },
      "outputs": [
        {
          "output_type": "stream",
          "name": "stdout",
          "text": [
            "False\n"
          ]
        }
      ],
      "source": [
        "print(np.allclose(S.transpose(),S))"
      ]
    },
    {
      "cell_type": "code",
      "execution_count": null,
      "metadata": {
        "colab": {
          "base_uri": "https://localhost:8080/",
          "height": 35
        },
        "id": "bNq1L6Rpn-Y4",
        "outputId": "ceb56313-99ad-47f2-d4ce-3ad7bde1d5e5"
      },
      "outputs": [
        {
          "output_type": "execute_result",
          "data": {
            "text/plain": [
              "'\\nfixed_S = (np.triu_indices(len(S),1))\\nS[fixed_S] = np.transpose(np.tril(S,-1))[fixed_S]\\nprint(np.allclose(S.transpose(),S))\\nprint(S)\\n'"
            ],
            "application/vnd.google.colaboratory.intrinsic+json": {
              "type": "string"
            }
          },
          "metadata": {},
          "execution_count": 28
        }
      ],
      "source": [
        "\"\"\"\n",
        "fixed_S = (np.triu_indices(len(S),1))\n",
        "S[fixed_S] = np.transpose(np.tril(S,-1))[fixed_S]\n",
        "print(np.allclose(S.transpose(),S))\n",
        "print(S)\n",
        "\"\"\""
      ]
    },
    {
      "cell_type": "code",
      "execution_count": null,
      "metadata": {
        "colab": {
          "base_uri": "https://localhost:8080/"
        },
        "id": "AU4vwi21oMH-",
        "outputId": "e763ef4f-ec0e-445e-f266-192f267e371a"
      },
      "outputs": [
        {
          "output_type": "stream",
          "name": "stdout",
          "text": [
            "(10304, 10304)\n",
            "\n",
            " [[ 1.23946677e+09 -6.18270037e+09 -4.39555048e+09 ...  4.06709403e+00\n",
            "   1.53108052e+01  3.09516374e+00]\n",
            " [-6.43111147e+07 -1.16880362e+09  3.08829561e+09 ...  8.18816573e+00\n",
            "  -1.72779906e+01  2.45812708e+00]\n",
            " [ 6.80178070e+08 -4.64946168e+08  2.15020552e+09 ...  2.56084514e+00\n",
            "   2.92366407e-01  3.31917740e+00]\n",
            " ...\n",
            " [-1.01239390e+08 -1.42403440e+08 -9.96700829e+07 ... -8.70287227e-01\n",
            "  -5.23469501e-01 -2.19446614e-01]\n",
            " [-1.11610755e+08  7.84015229e+06 -1.34989901e+08 ...  4.93112420e-01\n",
            "  -2.37900911e-02 -2.18467358e-01]\n",
            " [ 1.03942851e+08  4.35150356e+07 -3.05596585e+07 ... -2.42164956e-01\n",
            "  -3.66937384e-01  2.17447614e-01]]\n"
          ]
        }
      ],
      "source": [
        "S_inv=np.linalg.inv(S)\n",
        "print(S_inv.shape)\n",
        "print(\"\\n\",S_inv)"
      ]
    },
    {
      "cell_type": "code",
      "execution_count": null,
      "metadata": {
        "id": "TpEldy8So2Qj"
      },
      "outputs": [],
      "source": [
        "#print(np.dot(S_inv,S))"
      ]
    },
    {
      "cell_type": "code",
      "execution_count": null,
      "metadata": {
        "id": "11U_PG73o48j",
        "colab": {
          "base_uri": "https://localhost:8080/",
          "height": 53
        },
        "outputId": "ed4d4e94-66b2-467e-a6d6-8705165d88f7"
      },
      "outputs": [
        {
          "output_type": "execute_result",
          "data": {
            "text/plain": [
              "'\\nfixed_S_inv = (np.triu_indices(len(S_inv),1))\\nS_inv[fixed_S_inv] = np.transpose(np.tril(S_inv,-1))[fixed_S_inv]\\nprint((np.transpose(S_inv)== S_inv).all())\\nprint(S_inv)\\nprint(B)\\nSB=np.dot(S_inv,B)\\nprint(SB)\\nprint(SB.shape)\\n'"
            ],
            "application/vnd.google.colaboratory.intrinsic+json": {
              "type": "string"
            }
          },
          "metadata": {},
          "execution_count": 31
        }
      ],
      "source": [
        "\"\"\"\n",
        "fixed_S_inv = (np.triu_indices(len(S_inv),1))\n",
        "S_inv[fixed_S_inv] = np.transpose(np.tril(S_inv,-1))[fixed_S_inv]\n",
        "print((np.transpose(S_inv)== S_inv).all())\n",
        "print(S_inv)\n",
        "print(B)\n",
        "SB=np.dot(S_inv,B)\n",
        "print(SB)\n",
        "print(SB.shape)\n",
        "\"\"\""
      ]
    },
    {
      "cell_type": "code",
      "execution_count": null,
      "metadata": {
        "id": "l8Ag4-qUpPNw"
      },
      "outputs": [],
      "source": [
        "SB = np.dot(S_inv,B)"
      ]
    },
    {
      "cell_type": "code",
      "execution_count": null,
      "metadata": {
        "id": "RCQJIHwtpTRF"
      },
      "outputs": [],
      "source": [
        "#S_eigenvals, S_eigenvecs = LA.eig(SB)"
      ]
    },
    {
      "cell_type": "code",
      "source": [
        "S_eigenvals, S_eigenvecs = LA.eigh(SB)"
      ],
      "metadata": {
        "id": "NDWYOqHAwlz6"
      },
      "execution_count": null,
      "outputs": []
    },
    {
      "cell_type": "markdown",
      "source": [
        "We were supposed to use `eig` instead of `eigh` but it gave us completely inaccurate results. We could not debug the cause."
      ],
      "metadata": {
        "id": "V76_krXl26F8"
      }
    },
    {
      "cell_type": "code",
      "execution_count": null,
      "metadata": {
        "id": "WXExBvaxJBRc",
        "colab": {
          "base_uri": "https://localhost:8080/"
        },
        "outputId": "a24e5630-1798-47e5-9015-e186f72f59f7"
      },
      "outputs": [
        {
          "output_type": "stream",
          "name": "stdout",
          "text": [
            "[ 3.62134336e+19  1.81115691e+19  1.01284467e+19 ... -9.98806364e+18\n",
            " -1.81047376e+19 -3.62136529e+19]\n",
            "(10304,)\n",
            "[[-0.00443486  0.02220571 -0.00747181 ...  0.0084922  -0.02231279\n",
            "   0.00425782]\n",
            " [-0.00447355  0.02212308 -0.00741777 ...  0.00845933 -0.02224159\n",
            "   0.00429872]\n",
            " [-0.00440099  0.02238734 -0.00719191 ...  0.00820507 -0.02246846\n",
            "   0.0042203 ]\n",
            " ...\n",
            " [-0.00030045  0.00101397  0.00097857 ...  0.00093706  0.00104072\n",
            "  -0.00030363]\n",
            " [-0.00026518 -0.00043082  0.0001545  ...  0.00016565 -0.00042545\n",
            "  -0.00027605]\n",
            " [ 0.00059652  0.00079276 -0.00014911 ... -0.00015432  0.00078844\n",
            "   0.00060483]]\n",
            "(10304, 10304)\n"
          ]
        }
      ],
      "source": [
        "idx = S_eigenvals.argsort()[::-1]   \n",
        "eigenvals = S_eigenvals[idx].real\n",
        "eigenvecs = S_eigenvecs[:,idx].real\n",
        "print(eigenvals)\n",
        "print(eigenvals.shape)\n",
        "print(eigenvecs)\n",
        "print(eigenvecs.shape)"
      ]
    },
    {
      "cell_type": "code",
      "execution_count": null,
      "metadata": {
        "id": "IhQ4gEufSYid",
        "colab": {
          "base_uri": "https://localhost:8080/"
        },
        "outputId": "268ccf80-add0-415b-e80d-bee96afc60c8"
      },
      "outputs": [
        {
          "output_type": "stream",
          "name": "stdout",
          "text": [
            "[[-0.00443486  0.02220571 -0.00747181 ... -0.01267952  0.0158858\n",
            "  -0.00187608]\n",
            " [-0.00447355  0.02212308 -0.00741777 ... -0.01369733  0.01436833\n",
            "  -0.00265646]\n",
            " [-0.00440099  0.02238734 -0.00719191 ... -0.01356878  0.0156137\n",
            "  -0.00193169]\n",
            " ...\n",
            " [-0.00030045  0.00101397  0.00097857 ...  0.00160473  0.00071073\n",
            "   0.00300409]\n",
            " [-0.00026518 -0.00043082  0.0001545  ...  0.00014404 -0.00166696\n",
            "  -0.00048365]\n",
            " [ 0.00059652  0.00079276 -0.00014911 ...  0.00095418  0.00192083\n",
            "  -0.00072955]]\n",
            "(10304, 39)\n"
          ]
        }
      ],
      "source": [
        "projection_matrix = eigenvecs[:,0:39].real\n",
        "print(projection_matrix)\n",
        "print(projection_matrix.shape)"
      ]
    },
    {
      "cell_type": "code",
      "execution_count": null,
      "metadata": {
        "id": "j7Be_w09p57I",
        "colab": {
          "base_uri": "https://localhost:8080/"
        },
        "outputId": "c80ce762-7c5a-480b-8b1b-5b362db1fecc"
      },
      "outputs": [
        {
          "output_type": "stream",
          "name": "stdout",
          "text": [
            "Reduced Data Matrix\n",
            " [[5756.51191372 4644.15072672 3840.47811799 ...  543.34936788\n",
            "    -7.4034116   122.01820832]\n",
            " [5592.31322152 4714.08186036 3892.97580014 ...  547.43895513\n",
            "   182.60219833  280.17390928]\n",
            " [5758.81745452 4672.00889393 3541.71997195 ...  635.30661229\n",
            "    69.78258686   27.94044917]\n",
            " ...\n",
            " [2632.80507958 3450.26811018 2903.51356347 ...  338.87721041\n",
            "   130.07868427  219.38951805]\n",
            " [2526.65848781 3014.77313723 2231.0965687  ...  211.6705666\n",
            "    51.32791412  -24.86167331]\n",
            " [2733.52546767 2941.29679532 2478.55894955 ...  310.39848942\n",
            "   115.69314246 -128.81570591]]\n",
            "Reduced Data Matrix Dimensions\n",
            " (200, 39)\n"
          ]
        }
      ],
      "source": [
        "test_LDA =np.dot(np.transpose(projection_matrix),np.transpose(test_data))\n",
        "test_LDA = np.transpose(test_LDA)\n",
        "print(\"Reduced Data Matrix\\n\",test_LDA)\n",
        "print(\"Reduced Data Matrix Dimensions\\n\",test_LDA.shape)\n",
        "train_LDA=np.dot(np.transpose(projection_matrix),np.transpose(train_data))\n",
        "train_LDA = np.transpose(train_LDA)"
      ]
    },
    {
      "cell_type": "code",
      "execution_count": null,
      "metadata": {
        "id": "sqNcjXbWrQk4",
        "colab": {
          "base_uri": "https://localhost:8080/"
        },
        "outputId": "cd624f91-fa46-4a6a-917d-787b688955a5"
      },
      "outputs": [
        {
          "output_type": "stream",
          "name": "stdout",
          "text": [
            "Train Data Dimensions: (200, 39)\n",
            "Test Data Dimensions: (200, 39)\n"
          ]
        }
      ],
      "source": [
        "X_train = train_LDA\n",
        "X_test = test_LDA\n",
        "y_train=train_labels\n",
        "y_test=test_labels\n",
        "print(\"Train Data Dimensions:\",train_LDA.shape)\n",
        "print(\"Test Data Dimensions:\",test_LDA.shape)\n"
      ]
    },
    {
      "cell_type": "code",
      "execution_count": null,
      "metadata": {
        "id": "avDp8DTNSx4l",
        "colab": {
          "base_uri": "https://localhost:8080/"
        },
        "outputId": "8848e74a-684d-461a-9502-7614e9d93172"
      },
      "outputs": [
        {
          "output_type": "stream",
          "name": "stdout",
          "text": [
            "1 nearest neighbours\n",
            "Accuracy:  0.945\n",
            "3 nearest neighbours\n",
            "Accuracy:  0.86\n",
            "5 nearest neighbours\n",
            "Accuracy:  0.835\n",
            "7 nearest neighbours\n",
            "Accuracy:  0.745\n"
          ]
        },
        {
          "output_type": "execute_result",
          "data": {
            "text/plain": [
              "array([0.945, 0.86 , 0.835, 0.745])"
            ]
          },
          "metadata": {},
          "execution_count": 44
        }
      ],
      "source": [
        "k_neighbours = [1, 3, 5, 7]\n",
        "accuracies_LDA = np.empty( (len(k_neighbours),))\n",
        "\n",
        "\n",
        "\n",
        "for i, k in enumerate(k_neighbours):\n",
        "  print(str(k) + \" nearest neighbours\")\n",
        "  accuracy = KNNclf(k, X_train, y_train, X_test, y_test)\n",
        "  accuracies_LDA[i] = accuracy\n",
        "\n",
        "\n",
        "accuracies_LDA = np.transpose(accuracies_LDA)\n",
        "accuracies_LDA"
      ]
    },
    {
      "cell_type": "code",
      "execution_count": null,
      "metadata": {
        "id": "NM8xtDnqT8TV",
        "colab": {
          "base_uri": "https://localhost:8080/",
          "height": 446
        },
        "outputId": "de07ee75-bc0b-4649-eb5c-322ed8eb159b"
      },
      "outputs": [
        {
          "output_type": "execute_result",
          "data": {
            "text/plain": [
              "[<matplotlib.lines.Line2D at 0x7fc18c8b68d0>]"
            ]
          },
          "metadata": {},
          "execution_count": 45
        },
        {
          "output_type": "display_data",
          "data": {
            "text/plain": [
              "<Figure size 504x504 with 1 Axes>"
            ],
            "image/png": "[encoded data removed]"
          },
          "metadata": {
            "needs_background": "light"
          }
        }
      ],
      "source": [
        "plt.figure(figsize=(7, 7))\n",
        "\n",
        "plt.plot(k_neighbours, accuracies_LDA)\n",
        "\n"
      ]
    }
  ],
  "metadata": {
    "colab": {
      "collapsed_sections": [],
      "name": "PR_6360_6521_6609_step1-6.ipynb",
      "provenance": []
    },
    "kernelspec": {
      "display_name": "Python 3",
      "name": "python3"
    },
    "language_info": {
      "name": "python"
    }
  },
  "nbformat": 4,
  "nbformat_minor": 0
}